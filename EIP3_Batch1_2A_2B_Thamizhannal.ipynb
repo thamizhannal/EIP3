{
  "nbformat": 4,
  "nbformat_minor": 0,
  "metadata": {
    "colab": {
      "name": "EIP3_Batch1_2A_2B_Thamizhannal.ipynb",
      "version": "0.3.2",
      "provenance": [],
      "collapsed_sections": [],
      "include_colab_link": true
    },
    "kernelspec": {
      "name": "python3",
      "display_name": "Python 3"
    }
  },
  "cells": [
    {
      "cell_type": "markdown",
      "metadata": {
        "id": "view-in-github",
        "colab_type": "text"
      },
      "source": [
        "<a href=\"https://colab.research.google.com/github/thamizhannal/EIP3/blob/master/EIP3_Batch1_2A_2B_Thamizhannal.ipynb\" target=\"_parent\"><img src=\"https://colab.research.google.com/assets/colab-badge.svg\" alt=\"Open In Colab\"/></a>"
      ]
    },
    {
      "metadata": {
        "id": "UAywdQ10LdE5",
        "colab_type": "code",
        "colab": {}
      },
      "cell_type": "code",
      "source": [
        ""
      ],
      "execution_count": 0,
      "outputs": []
    },
    {
      "metadata": {
        "id": "XED-oqfpLxcB",
        "colab_type": "text"
      },
      "cell_type": "markdown",
      "source": [
        "# ASSIGNMENT 2A"
      ]
    },
    {
      "metadata": {
        "id": "EWIAFFsndIHy",
        "colab_type": "text"
      },
      "cell_type": "markdown",
      "source": [
        "# Backpropagation Step by Step\n",
        "\n",
        "\n",
        "---\n",
        "\n",
        "\n"
      ]
    },
    {
      "metadata": {
        "id": "w756W1YEdDU6",
        "colab_type": "text"
      },
      "cell_type": "markdown",
      "source": [
        "![alt text](https://raw.githubusercontent.com/thamizhannal/EIP3/master/images/backpropagation.png)"
      ]
    },
    {
      "metadata": {
        "id": "Y-TAl3jJdATM",
        "colab_type": "text"
      },
      "cell_type": "markdown",
      "source": [
        "If you are building your own neural network, you will definitely need to understand how to train it. Backpropagation is a commonly used technique for training neural network. There are many resources explaining the technique, but this post will explain backpropagation with concrete example in a very detailed colorful steps."
      ]
    },
    {
      "metadata": {
        "id": "p9rO7SnlfQkT",
        "colab_type": "text"
      },
      "cell_type": "markdown",
      "source": [
        "# Overview\n",
        "\n",
        "\n",
        "---\n",
        "\n"
      ]
    },
    {
      "metadata": {
        "id": "KketL4f-fUsM",
        "colab_type": "text"
      },
      "cell_type": "markdown",
      "source": [
        "In this post, we will build a neural network with three layers:\n",
        "\n",
        "* **Input** layer with two inputs neurons\n",
        "* One **hidden** layer with two neurons\n",
        "* **Output** layer with a single neuron\n",
        "\n",
        "\n"
      ]
    },
    {
      "metadata": {
        "id": "lX8N8CGnf83o",
        "colab_type": "text"
      },
      "cell_type": "markdown",
      "source": [
        "![alt text](https://raw.githubusercontent.com/thamizhannal/EIP3/master/images/nn1.png)"
      ]
    },
    {
      "metadata": {
        "id": "ai7p2tYpga6a",
        "colab_type": "code",
        "colab": {}
      },
      "cell_type": "code",
      "source": [
        ""
      ],
      "execution_count": 0,
      "outputs": []
    },
    {
      "metadata": {
        "id": "3QSExvpzgy6C",
        "colab_type": "text"
      },
      "cell_type": "markdown",
      "source": [
        "# Weights, weights, weights\n",
        "\n",
        "\n",
        "---\n",
        "\n"
      ]
    },
    {
      "metadata": {
        "id": "vfj60Tzdg3cE",
        "colab_type": "code",
        "colab": {}
      },
      "cell_type": "code",
      "source": [
        ""
      ],
      "execution_count": 0,
      "outputs": []
    },
    {
      "metadata": {
        "id": "w37cLrb0hAhR",
        "colab_type": "text"
      },
      "cell_type": "markdown",
      "source": [
        "Neural network training is about finding weights that minimize prediction error. We usually start our training with a set of randomly generated weights.Then, backpropagation is used to update the weights in an attempt to correctly map arbitrary inputs to outputs.\n",
        "\n",
        "Our initial weights will be as following: w1=0.11, w2 = 0.21, w3 = 0.12, w4 = 0.08, w5 = 0.14 and w6 = 0.15\n",
        "\n",
        "# TODO\n",
        "#\n",
        "#"
      ]
    },
    {
      "metadata": {
        "id": "X4q46RyRha46",
        "colab_type": "text"
      },
      "cell_type": "markdown",
      "source": [
        "![alt text](https://raw.githubusercontent.com/thamizhannal/EIP3/master/images/bp_weights.png)"
      ]
    },
    {
      "metadata": {
        "id": "Y2ocNkK-hm7i",
        "colab_type": "code",
        "colab": {}
      },
      "cell_type": "code",
      "source": [
        ""
      ],
      "execution_count": 0,
      "outputs": []
    },
    {
      "metadata": {
        "id": "xuPSD49Uhx1Z",
        "colab_type": "text"
      },
      "cell_type": "markdown",
      "source": [
        "# Dataset\n",
        "\n",
        "\n",
        "---\n",
        "\n",
        "\n",
        "Our dataset has one sample with two inputs and one output.\n"
      ]
    },
    {
      "metadata": {
        "id": "AlPdLFl5h8oK",
        "colab_type": "text"
      },
      "cell_type": "markdown",
      "source": [
        "![alt text](https://raw.githubusercontent.com/thamizhannal/EIP3/master/images/bp_dataset.png)"
      ]
    },
    {
      "metadata": {
        "id": "Cukt__zkiKPa",
        "colab_type": "text"
      },
      "cell_type": "markdown",
      "source": [
        "Our single sample is as following inputs=[2, 3] and output=[1].\n",
        "\n"
      ]
    },
    {
      "metadata": {
        "id": "sAL-Z7L6iRzB",
        "colab_type": "text"
      },
      "cell_type": "markdown",
      "source": [
        "![alt text](https://raw.githubusercontent.com/thamizhannal/EIP3/master/images/bp_sample.png)"
      ]
    },
    {
      "metadata": {
        "id": "40Y96MkhiVPq",
        "colab_type": "code",
        "colab": {}
      },
      "cell_type": "code",
      "source": [
        ""
      ],
      "execution_count": 0,
      "outputs": []
    },
    {
      "metadata": {
        "id": "OyROscpOioOZ",
        "colab_type": "text"
      },
      "cell_type": "markdown",
      "source": [
        "# Forward Pass\n",
        "\n",
        "\n",
        "---\n",
        "\n",
        "We will use given weights and inputs to predict the output. Inputs are multiplied by weights; the results are then passed forward to next layer.\n",
        "![alt text](https://raw.githubusercontent.com/thamizhannal/EIP3/master/images/bp_forward.png)\n",
        "\n",
        "# TODO\n",
        "#\n",
        "# "
      ]
    },
    {
      "metadata": {
        "id": "CmE0F4yli1jM",
        "colab_type": "code",
        "colab": {}
      },
      "cell_type": "code",
      "source": [
        ""
      ],
      "execution_count": 0,
      "outputs": []
    },
    {
      "metadata": {
        "id": "GDfrz1AzjTi7",
        "colab_type": "text"
      },
      "cell_type": "markdown",
      "source": [
        "# Calculating Error\n",
        "\n",
        "\n",
        "---\n",
        "\n",
        "\n",
        "Now, it’s time to find out how our network performed by calculating the difference between the actual output and predicted one. It’s clear that our network output, or prediction, is not even close to actual output. We can calculate the difference or the error as following.\n",
        "\n",
        "# TODO\n",
        "\n",
        "\n"
      ]
    },
    {
      "metadata": {
        "id": "A6aXjSgpjacy",
        "colab_type": "text"
      },
      "cell_type": "markdown",
      "source": [
        "# Reducing Error\n",
        "----\n",
        "\n",
        "Our main goal of the training is to reduce the **error** or the difference between prediction and actual output. Since actual output is constant, “not changing”, the only way to reduce the error is to change prediction value. The question now is, how to change prediction value?\n",
        "\n",
        "By decomposing prediction into its basic elements we can find that weights are the variable elements affecting prediction value. In other words, in order to change prediction value, we need to change weights values.\n",
        "\n",
        "![alt text](https://raw.githubusercontent.com/thamizhannal/EIP3/master/images/bp_prediction_elements.png)\n",
        "\n",
        "The question now is how to change\\update the weights value so that the error is reduced?\n",
        "The answer is Backpropagation!"
      ]
    },
    {
      "metadata": {
        "id": "CMajMUwZjsXA",
        "colab_type": "text"
      },
      "cell_type": "markdown",
      "source": [
        "\n",
        "\n",
        "---\n",
        "\n"
      ]
    },
    {
      "metadata": {
        "id": "pDdrtSV7jw8I",
        "colab_type": "text"
      },
      "cell_type": "markdown",
      "source": [
        "# Backpropagation\n",
        "----\n",
        "Backpropagation, short for “backward propagation of errors”, is a mechanism used to update the weights using gradient descent. It calculates the gradient of the error function with respect to the neural network’s weights. The calculation proceeds backwards through the network.\n",
        "\n",
        "Gradient descent is an iterative optimization algorithm for finding the minimum of a function; in our case we want to minimize th error function. To find a local minimum of a function using gradient descent, one takes steps proportional to the negative of the gradient of the function at the current point.\n",
        "\n",
        "![alt text](https://raw.githubusercontent.com/thamizhannal/EIP3/master/images/bp_update_formula.png)\n",
        "\n"
      ]
    },
    {
      "metadata": {
        "id": "zUj5zeB_j1mD",
        "colab_type": "text"
      },
      "cell_type": "markdown",
      "source": [
        ""
      ]
    },
    {
      "metadata": {
        "id": "cIEZqwG8j165",
        "colab_type": "text"
      },
      "cell_type": "markdown",
      "source": [
        "For example, to update w6, we take the current w6 and subtract the partial derivative of error function with respect to w6. Optionally, we multiply the derivative of the error function by a selected number to make sure that the new updated weight is minimizing the error function; this number is called learning rate.\n",
        "\n",
        "![alt text](https://raw.githubusercontent.com/thamizhannal/EIP3/master/images/bp_w6_update.png)"
      ]
    },
    {
      "metadata": {
        "id": "Y7n40z3vkUZJ",
        "colab_type": "text"
      },
      "cell_type": "markdown",
      "source": [
        "The derivation of the error function is evaluated by applying the chain rule as following\n",
        "\n",
        "![alt text](https://raw.githubusercontent.com/thamizhannal/EIP3/master/images/bp_error_function_partial_derivative_w6.png)\n"
      ]
    },
    {
      "metadata": {
        "id": "U8HOh1Mykp44",
        "colab_type": "text"
      },
      "cell_type": "markdown",
      "source": [
        "So to update w6 we can apply the following formula\n",
        "\n",
        "![alt text](https://raw.githubusercontent.com/thamizhannal/EIP3/master/images/bp_w6_update_closed_form.png)"
      ]
    },
    {
      "metadata": {
        "id": "Kk_qaEfwk5kq",
        "colab_type": "text"
      },
      "cell_type": "markdown",
      "source": [
        "Similarly, we can derive the update formula for w5 and any other weights existing between the output and the hidden layer.\n",
        "![alt text](https://raw.githubusercontent.com/thamizhannal/EIP3/master/images/bp_w5_update_closed_form.png)"
      ]
    },
    {
      "metadata": {
        "id": "IGcgtC0WlXXi",
        "colab_type": "text"
      },
      "cell_type": "markdown",
      "source": [
        ""
      ]
    },
    {
      "metadata": {
        "id": "TOcHCfr8lEdB",
        "colab_type": "text"
      },
      "cell_type": "markdown",
      "source": [
        "However, when moving backward to update w1, w2, w3 and w4 existing between input and hidden layer, the partial derivative for the error function with respect to w1, for example, will be as following.\n",
        "\n",
        "![alt text](https://raw.githubusercontent.com/thamizhannal/EIP3/master/images/bp_error_function_partial_derivative_w1.png)"
      ]
    },
    {
      "metadata": {
        "id": "Z_T1mHbvlYqL",
        "colab_type": "text"
      },
      "cell_type": "markdown",
      "source": [
        "We can find the update formula for the remaining weights w2, w3 and w4 in the same way.\n",
        "\n",
        "In summary, the update formulas for all weights will be as following:\n",
        "![alt text](https://raw.githubusercontent.com/thamizhannal/EIP3/master/images/bp_update_all_weights.png)\n",
        "\n",
        "We can rewrite the update formulas in matrices as following\n",
        "![alt text](https://raw.githubusercontent.com/thamizhannal/EIP3/master/images/bp_update_all_weights_matrix.png)"
      ]
    },
    {
      "metadata": {
        "id": "7gI0qOLeliX5",
        "colab_type": "code",
        "colab": {}
      },
      "cell_type": "code",
      "source": [
        ""
      ],
      "execution_count": 0,
      "outputs": []
    },
    {
      "metadata": {
        "id": "2SZm5lITlwQQ",
        "colab_type": "text"
      },
      "cell_type": "markdown",
      "source": [
        "# Backward Pass\n",
        "----\n",
        "Using derived formulas we can find the new weights.\n",
        "\n",
        "Learning rate: is a hyperparameter which means that we need to manually guess its value.\n",
        "\n",
        "# TODO\n",
        "#\n",
        "#\n",
        "\n",
        "\n",
        "Now, using the new weights we will repeat the forward passed\n",
        "\n",
        "# TODO\n",
        "#\n",
        "\n",
        "We can notice that the prediction 0.26 is a little bit closer to actual output than the previously predicted one 0.191. We can repeat the same process of backward and forward pass until error is close or equal to zero.\n",
        "\n"
      ]
    },
    {
      "metadata": {
        "id": "-3ksc0KTlyNl",
        "colab_type": "code",
        "colab": {}
      },
      "cell_type": "code",
      "source": [
        ""
      ],
      "execution_count": 0,
      "outputs": []
    }
  ]
}
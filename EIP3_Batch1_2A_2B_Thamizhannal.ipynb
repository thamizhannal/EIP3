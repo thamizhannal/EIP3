{
  "nbformat": 4,
  "nbformat_minor": 0,
  "metadata": {
    "colab": {
      "name": "EIP3_Batch1_2A_2B_Thamizhannal.ipynb",
      "version": "0.3.2",
      "provenance": [],
      "collapsed_sections": [],
      "include_colab_link": true
    },
    "kernelspec": {
      "name": "python3",
      "display_name": "Python 3"
    }
  },
  "cells": [
    {
      "cell_type": "markdown",
      "metadata": {
        "id": "view-in-github",
        "colab_type": "text"
      },
      "source": [
        "<a href=\"https://colab.research.google.com/github/thamizhannal/EIP3/blob/master/EIP3_Batch1_2A_2B_Thamizhannal.ipynb\" target=\"_parent\"><img src=\"https://colab.research.google.com/assets/colab-badge.svg\" alt=\"Open In Colab\"/></a>"
      ]
    },
    {
      "metadata": {
        "id": "XED-oqfpLxcB",
        "colab_type": "text"
      },
      "cell_type": "markdown",
      "source": [
        "# ASSIGNMENT 2A"
      ]
    },
    {
      "metadata": {
        "id": "WUE2MZfeaWUd",
        "colab_type": "text"
      },
      "cell_type": "markdown",
      "source": [
        "# Name : Thamizhannal Paramasivam\n",
        "# email: annalwins@gmail.com\n",
        "# Batch:1"
      ]
    },
    {
      "metadata": {
        "id": "EWIAFFsndIHy",
        "colab_type": "text"
      },
      "cell_type": "markdown",
      "source": [
        "# Backpropagation Step by Step\n",
        "\n",
        "\n",
        "---\n",
        "\n",
        "\n"
      ]
    },
    {
      "metadata": {
        "id": "w756W1YEdDU6",
        "colab_type": "text"
      },
      "cell_type": "markdown",
      "source": [
        "![alt text](https://raw.githubusercontent.com/thamizhannal/EIP3/master/images/backpropagation.png)"
      ]
    },
    {
      "metadata": {
        "id": "Y-TAl3jJdATM",
        "colab_type": "text"
      },
      "cell_type": "markdown",
      "source": [
        "If you are building your own neural network, you will definitely need to understand how to train it. Backpropagation is a commonly used technique for training neural network. There are many resources explaining the technique, but this post will explain backpropagation with concrete example in a very detailed colorful steps."
      ]
    },
    {
      "metadata": {
        "id": "p9rO7SnlfQkT",
        "colab_type": "text"
      },
      "cell_type": "markdown",
      "source": [
        "# Overview\n",
        "\n",
        "\n",
        "---\n",
        "\n"
      ]
    },
    {
      "metadata": {
        "id": "KketL4f-fUsM",
        "colab_type": "text"
      },
      "cell_type": "markdown",
      "source": [
        "In this post, we will build a neural network with three layers:\n",
        "\n",
        "* **Input** layer with two inputs neurons\n",
        "* One **hidden** layer with two neurons\n",
        "* **Output** layer with a single neuron\n",
        "\n",
        "\n"
      ]
    },
    {
      "metadata": {
        "id": "lX8N8CGnf83o",
        "colab_type": "text"
      },
      "cell_type": "markdown",
      "source": [
        "![alt text](https://raw.githubusercontent.com/thamizhannal/EIP3/master/images/nn1.png)"
      ]
    },
    {
      "metadata": {
        "id": "3QSExvpzgy6C",
        "colab_type": "text"
      },
      "cell_type": "markdown",
      "source": [
        "# Weights, weights, weights\n",
        "\n",
        "\n",
        "---\n",
        "\n"
      ]
    },
    {
      "metadata": {
        "id": "w37cLrb0hAhR",
        "colab_type": "text"
      },
      "cell_type": "markdown",
      "source": [
        "Neural network training is about finding weights that minimize prediction error. We usually start our training with a set of randomly generated weights.Then, backpropagation is used to update the weights in an attempt to correctly map arbitrary inputs to outputs.\n",
        "\n",
        "Our initial weights will be as following: w1=0.12, w2 = 0.22, w3 = 0.10, w4 = 0.12, w5 = 0.12 and w6 = 0.16\n"
      ]
    },
    {
      "metadata": {
        "id": "X4q46RyRha46",
        "colab_type": "text"
      },
      "cell_type": "markdown",
      "source": [
        "![alt text](https://raw.githubusercontent.com/thamizhannal/EIP3/master/custimages/bp_weights.png)"
      ]
    },
    {
      "metadata": {
        "id": "Y2ocNkK-hm7i",
        "colab_type": "code",
        "colab": {}
      },
      "cell_type": "code",
      "source": [
        ""
      ],
      "execution_count": 0,
      "outputs": []
    },
    {
      "metadata": {
        "id": "xuPSD49Uhx1Z",
        "colab_type": "text"
      },
      "cell_type": "markdown",
      "source": [
        "# Dataset\n",
        "\n",
        "\n",
        "---\n",
        "\n",
        "\n",
        "Our dataset has one sample with two inputs and one output.\n"
      ]
    },
    {
      "metadata": {
        "id": "AlPdLFl5h8oK",
        "colab_type": "text"
      },
      "cell_type": "markdown",
      "source": [
        "![alt text](https://raw.githubusercontent.com/thamizhannal/EIP3/master/images/bp_dataset.png)"
      ]
    },
    {
      "metadata": {
        "id": "Cukt__zkiKPa",
        "colab_type": "text"
      },
      "cell_type": "markdown",
      "source": [
        "Our single sample is as following inputs=[2, 3] and output=[1].\n",
        "\n"
      ]
    },
    {
      "metadata": {
        "id": "sAL-Z7L6iRzB",
        "colab_type": "text"
      },
      "cell_type": "markdown",
      "source": [
        "![alt text](https://raw.githubusercontent.com/thamizhannal/EIP3/master/images/bp_sample.png)"
      ]
    },
    {
      "metadata": {
        "id": "OyROscpOioOZ",
        "colab_type": "text"
      },
      "cell_type": "markdown",
      "source": [
        "# Forward Pass\n",
        "\n",
        "\n",
        "---\n",
        "\n",
        "We will use given weights and inputs to predict the output. Inputs are multiplied by weights; the results are then passed forward to next layer.\n",
        "![alt text](https://raw.githubusercontent.com/thamizhannal/EIP3/master/custimages/bp_forward.png)\n",
        "\n"
      ]
    },
    {
      "metadata": {
        "id": "GDfrz1AzjTi7",
        "colab_type": "text"
      },
      "cell_type": "markdown",
      "source": [
        "# Calculating Error\n",
        "\n",
        "\n",
        "---\n",
        "\n",
        "\n",
        "Now, it’s time to find out how our network performed by calculating the difference between the actual output and predicted one. It’s clear that our network output, or prediction, is not even close to actual output. We can calculate the difference or the error as following.\n",
        "\n",
        "![alt text](https://raw.githubusercontent.com/thamizhannal/EIP3/master/custimages/bp_error.png)\n",
        "\n",
        "\n",
        "\n"
      ]
    },
    {
      "metadata": {
        "id": "A6aXjSgpjacy",
        "colab_type": "text"
      },
      "cell_type": "markdown",
      "source": [
        "# Reducing Error\n",
        "----\n",
        "\n",
        "Our main goal of the training is to reduce the **error** or the difference between prediction and actual output. Since actual output is constant, “not changing”, the only way to reduce the error is to change prediction value. The question now is, how to change prediction value?\n",
        "\n",
        "By decomposing prediction into its basic elements we can find that weights are the variable elements affecting prediction value. In other words, in order to change prediction value, we need to change weights values.\n",
        "\n",
        "![alt text](https://raw.githubusercontent.com/thamizhannal/EIP3/master/images/bp_prediction_elements.png)\n",
        "\n",
        "The question now is how to change\\update the weights value so that the error is reduced?\n",
        "The answer is Backpropagation!"
      ]
    },
    {
      "metadata": {
        "id": "CMajMUwZjsXA",
        "colab_type": "text"
      },
      "cell_type": "markdown",
      "source": [
        "\n",
        "\n",
        "---\n",
        "\n"
      ]
    },
    {
      "metadata": {
        "id": "pDdrtSV7jw8I",
        "colab_type": "text"
      },
      "cell_type": "markdown",
      "source": [
        "# Backpropagation\n",
        "----\n",
        "Backpropagation, short for “backward propagation of errors”, is a mechanism used to update the weights using gradient descent. It calculates the gradient of the error function with respect to the neural network’s weights. The calculation proceeds backwards through the network.\n",
        "\n",
        "Gradient descent is an iterative optimization algorithm for finding the minimum of a function; in our case we want to minimize th error function. To find a local minimum of a function using gradient descent, one takes steps proportional to the negative of the gradient of the function at the current point.\n",
        "\n",
        "![alt text](https://raw.githubusercontent.com/thamizhannal/EIP3/master/images/bp_update_formula.png)\n",
        "\n"
      ]
    },
    {
      "metadata": {
        "id": "zUj5zeB_j1mD",
        "colab_type": "text"
      },
      "cell_type": "markdown",
      "source": [
        ""
      ]
    },
    {
      "metadata": {
        "id": "cIEZqwG8j165",
        "colab_type": "text"
      },
      "cell_type": "markdown",
      "source": [
        "For example, to update w6, we take the current w6 and subtract the partial derivative of error function with respect to w6. Optionally, we multiply the derivative of the error function by a selected number to make sure that the new updated weight is minimizing the error function; this number is called learning rate.\n",
        "\n",
        "![alt text](https://raw.githubusercontent.com/thamizhannal/EIP3/master/images/bp_w6_update.png)"
      ]
    },
    {
      "metadata": {
        "id": "Y7n40z3vkUZJ",
        "colab_type": "text"
      },
      "cell_type": "markdown",
      "source": [
        "The derivation of the error function is evaluated by applying the chain rule as following\n",
        "\n",
        "![alt text](https://raw.githubusercontent.com/thamizhannal/EIP3/master/images/bp_error_function_partial_derivative_w6.png)\n"
      ]
    },
    {
      "metadata": {
        "id": "U8HOh1Mykp44",
        "colab_type": "text"
      },
      "cell_type": "markdown",
      "source": [
        "So to update w6 we can apply the following formula\n",
        "\n",
        "![alt text](https://raw.githubusercontent.com/thamizhannal/EIP3/master/images/bp_w6_update_closed_form.png)"
      ]
    },
    {
      "metadata": {
        "id": "Kk_qaEfwk5kq",
        "colab_type": "text"
      },
      "cell_type": "markdown",
      "source": [
        "Similarly, we can derive the update formula for w5 and any other weights existing between the output and the hidden layer.\n",
        "![alt text](https://raw.githubusercontent.com/thamizhannal/EIP3/master/images/bp_w5_update_closed_form.png)"
      ]
    },
    {
      "metadata": {
        "id": "IGcgtC0WlXXi",
        "colab_type": "text"
      },
      "cell_type": "markdown",
      "source": [
        ""
      ]
    },
    {
      "metadata": {
        "id": "TOcHCfr8lEdB",
        "colab_type": "text"
      },
      "cell_type": "markdown",
      "source": [
        "However, when moving backward to update w1, w2, w3 and w4 existing between input and hidden layer, the partial derivative for the error function with respect to w1, for example, will be as following.\n",
        "\n",
        "![alt text](https://raw.githubusercontent.com/thamizhannal/EIP3/master/images/bp_error_function_partial_derivative_w1.png)"
      ]
    },
    {
      "metadata": {
        "id": "Z_T1mHbvlYqL",
        "colab_type": "text"
      },
      "cell_type": "markdown",
      "source": [
        "We can find the update formula for the remaining weights w2, w3 and w4 in the same way.\n",
        "\n",
        "In summary, the update formulas for all weights will be as following:\n",
        "![alt text](https://raw.githubusercontent.com/thamizhannal/EIP3/master/images/bp_update_all_weights.png)\n",
        "\n",
        "We can rewrite the update formulas in matrices as following\n",
        "![alt text](https://raw.githubusercontent.com/thamizhannal/EIP3/master/images/bp_update_all_weights_matrix.png)"
      ]
    },
    {
      "metadata": {
        "id": "2SZm5lITlwQQ",
        "colab_type": "text"
      },
      "cell_type": "markdown",
      "source": [
        "# Backward Pass\n",
        "----\n",
        "Using derived formulas we can find the new weights.\n",
        "\n",
        "Learning rate: is a hyperparameter which means that we need to manually guess its value.\n",
        "\n",
        "![alt text](https://raw.githubusercontent.com/thamizhannal/EIP3/master/custimages/bp_new_weights.png)\n",
        "\n",
        "Now, using the new weights we will repeat the forward passed\n",
        "\n",
        "![alt text](https://raw.githubusercontent.com/thamizhannal/EIP3/master/custimages/bp_forward2.png)\n",
        "\n",
        "\n",
        "We can notice that the prediction 0.256 is a little bit closer to actual output than the previously predicted one 0.198. We can repeat the same process of backward and forward pass until error is close or equal to zero.\n",
        "\n"
      ]
    },
    {
      "metadata": {
        "id": "GdxPayhLZUGk",
        "colab_type": "text"
      },
      "cell_type": "markdown",
      "source": [
        "\n",
        "# ASSIGNMENT 2B"
      ]
    },
    {
      "metadata": {
        "id": "iIhEiK74ZlZf",
        "colab_type": "text"
      },
      "cell_type": "markdown",
      "source": [
        "# Backpropagation Step by Step¶"
      ]
    },
    {
      "metadata": {
        "id": "pEIAA7oaZnJu",
        "colab_type": "code",
        "colab": {}
      },
      "cell_type": "code",
      "source": [
        "import numpy as np"
      ],
      "execution_count": 0,
      "outputs": []
    },
    {
      "metadata": {
        "id": "eWM8ol4yZpMC",
        "colab_type": "code",
        "colab": {}
      },
      "cell_type": "code",
      "source": [
        "# initialize input\n",
        "X = np.array([2, 3])\n",
        "\n",
        "# Initialize output\n",
        "Y = [1]\n",
        "\n",
        "# Initialize weights\n",
        "\n",
        "w1 = 0.12\n",
        "w2 = 0.22\n",
        "w3 = 0.10\n",
        "w4 = 0.12\n",
        "w5 = 0.12 \n",
        "w6 = 0.16"
      ],
      "execution_count": 0,
      "outputs": []
    },
    {
      "metadata": {
        "id": "r755ZZaVZrBR",
        "colab_type": "code",
        "outputId": "9d895426-2fd4-4496-c740-43f59e79ee7e",
        "colab": {
          "base_uri": "https://localhost:8080/",
          "height": 50
        }
      },
      "cell_type": "code",
      "source": [
        "# create hidden layer weight matrix\n",
        "hidden_input_weights = np.array([[w1,w3],[w2,w4]])\n",
        "hidden_input_weights"
      ],
      "execution_count": 0,
      "outputs": [
        {
          "output_type": "execute_result",
          "data": {
            "text/plain": [
              "array([[0.12, 0.1 ],\n",
              "       [0.22, 0.12]])"
            ]
          },
          "metadata": {
            "tags": []
          },
          "execution_count": 3
        }
      ]
    },
    {
      "metadata": {
        "id": "MBbLJKIzZys1",
        "colab_type": "code",
        "outputId": "e0a5124f-ff2c-41ca-c91c-cee20b0a6bde",
        "colab": {
          "base_uri": "https://localhost:8080/",
          "height": 33
        }
      },
      "cell_type": "code",
      "source": [
        "# Computer hidden layer output \n",
        "hidden_layer_out= np.matmul(X, hidden_input_weights)\n",
        "print(hidden_layer_out)"
      ],
      "execution_count": 0,
      "outputs": [
        {
          "output_type": "stream",
          "text": [
            "[0.9  0.56]\n"
          ],
          "name": "stdout"
        }
      ]
    },
    {
      "metadata": {
        "id": "NJEVEFqeZ1S1",
        "colab_type": "code",
        "outputId": "2cdf6fb5-71b0-4cd5-8251-0c367188f3b0",
        "colab": {
          "base_uri": "https://localhost:8080/",
          "height": 33
        }
      },
      "cell_type": "code",
      "source": [
        "# create hidden layer weight matrix\n",
        "output_layer_weights = np.array([w5,w6]) # [0.12,0.16])\n",
        "print(output_layer_weights)"
      ],
      "execution_count": 0,
      "outputs": [
        {
          "output_type": "stream",
          "text": [
            "[0.12 0.16]\n"
          ],
          "name": "stdout"
        }
      ]
    },
    {
      "metadata": {
        "id": "GgAeVWThZ5Ue",
        "colab_type": "text"
      },
      "cell_type": "markdown",
      "source": [
        "# Forward Pass "
      ]
    },
    {
      "metadata": {
        "id": "rzL8VzYxZ3F0",
        "colab_type": "code",
        "outputId": "3345d07c-7f85-467b-9a49-cd32b97d9522",
        "colab": {
          "base_uri": "https://localhost:8080/",
          "height": 33
        }
      },
      "cell_type": "code",
      "source": [
        "# computer feedforward layer predicted output\n",
        "predicted_output = np.matmul(hidden_layer_out, output_layer_weights)\n",
        "predicted_output"
      ],
      "execution_count": 0,
      "outputs": [
        {
          "output_type": "execute_result",
          "data": {
            "text/plain": [
              "0.1976"
            ]
          },
          "metadata": {
            "tags": []
          },
          "execution_count": 6
        }
      ]
    },
    {
      "metadata": {
        "id": "Ej_81bT2Z-L5",
        "colab_type": "text"
      },
      "cell_type": "markdown",
      "source": [
        "# Calculating Error"
      ]
    },
    {
      "metadata": {
        "id": "V_iA2h9MZ8fz",
        "colab_type": "code",
        "outputId": "d9101e97-adc3-4b33-f920-65162c9efb1a",
        "colab": {
          "base_uri": "https://localhost:8080/",
          "height": 33
        }
      },
      "cell_type": "code",
      "source": [
        "# Computer Error from predicted - actual output.\n",
        "error = 0.5*np.square((predicted_output-Y[0]))\n",
        "error"
      ],
      "execution_count": 0,
      "outputs": [
        {
          "output_type": "execute_result",
          "data": {
            "text/plain": [
              "0.32192288"
            ]
          },
          "metadata": {
            "tags": []
          },
          "execution_count": 7
        }
      ]
    },
    {
      "metadata": {
        "id": "FCUEiwb_aCJ-",
        "colab_type": "text"
      },
      "cell_type": "markdown",
      "source": [
        "# Backpropagation"
      ]
    },
    {
      "metadata": {
        "id": "KQ7pBNZTaAAr",
        "colab_type": "code",
        "outputId": "514be164-4e83-4ab5-8fe8-8442c06989fa",
        "colab": {
          "base_uri": "https://localhost:8080/",
          "height": 33
        }
      },
      "cell_type": "code",
      "source": [
        "# Initialize Delta = (prediction - actual)\n",
        "# learning rate as 0.05\n",
        "delta = (predicted_output - Y[0]) # prediction - actual\n",
        "a = 0.05\n",
        "delta"
      ],
      "execution_count": 0,
      "outputs": [
        {
          "output_type": "execute_result",
          "data": {
            "text/plain": [
              "-0.8024"
            ]
          },
          "metadata": {
            "tags": []
          },
          "execution_count": 8
        }
      ]
    },
    {
      "metadata": {
        "id": "iFE8nW0paEZO",
        "colab_type": "code",
        "outputId": "5485e429-917d-473f-8ae8-3a484e86886d",
        "colab": {
          "base_uri": "https://localhost:8080/",
          "height": 33
        }
      },
      "cell_type": "code",
      "source": [
        "hidden_bp_weight_update = output_layer_weights - (a*(delta) *hidden_layer_out)\n",
        "hidden_bp_weight_update"
      ],
      "execution_count": 0,
      "outputs": [
        {
          "output_type": "execute_result",
          "data": {
            "text/plain": [
              "array([0.156108 , 0.1824672])"
            ]
          },
          "metadata": {
            "tags": []
          },
          "execution_count": 9
        }
      ]
    },
    {
      "metadata": {
        "id": "gdC9n_NfaF19",
        "colab_type": "code",
        "outputId": "0f6839ba-7d52-4e03-b6bd-9a4794d270e7",
        "colab": {
          "base_uri": "https://localhost:8080/",
          "height": 50
        }
      },
      "cell_type": "code",
      "source": [
        "input_bp_weight_update = hidden_input_weights - (a*(delta)* X *output_layer_weights)\n",
        "input_bp_weight_update"
      ],
      "execution_count": 0,
      "outputs": [
        {
          "output_type": "execute_result",
          "data": {
            "text/plain": [
              "array([[0.1296288, 0.1192576],\n",
              "       [0.2296288, 0.1392576]])"
            ]
          },
          "metadata": {
            "tags": []
          },
          "execution_count": 10
        }
      ]
    },
    {
      "metadata": {
        "id": "CuWiKaLyaHfm",
        "colab_type": "code",
        "outputId": "7d0e8afa-dd4c-433a-de4c-1566b1849c62",
        "colab": {
          "base_uri": "https://localhost:8080/",
          "height": 33
        }
      },
      "cell_type": "code",
      "source": [
        "hidden_layer_bp_out=np.matmul(X, input_bp_weight_update) \n",
        "hidden_layer_bp_out"
      ],
      "execution_count": 0,
      "outputs": [
        {
          "output_type": "execute_result",
          "data": {
            "text/plain": [
              "array([0.948144, 0.656288])"
            ]
          },
          "metadata": {
            "tags": []
          },
          "execution_count": 11
        }
      ]
    },
    {
      "metadata": {
        "id": "0eqf0Oe8aJYj",
        "colab_type": "code",
        "outputId": "dc8d8c7c-5067-4eb7-a161-0e4882e3d58e",
        "colab": {
          "base_uri": "https://localhost:8080/",
          "height": 33
        }
      },
      "cell_type": "code",
      "source": [
        "predicted_bp1_out = np.matmul(hidden_layer_bp_out,hidden_bp_weight_update)\n",
        "predicted_bp1_out"
      ],
      "execution_count": 0,
      "outputs": [
        {
          "output_type": "execute_result",
          "data": {
            "text/plain": [
              "0.2677638973056"
            ]
          },
          "metadata": {
            "tags": []
          },
          "execution_count": 12
        }
      ]
    },
    {
      "metadata": {
        "id": "MV0zCvNQaMtD",
        "colab_type": "text"
      },
      "cell_type": "markdown",
      "source": [
        "# We can notice that the prediction 0.267 is a little bit closer to actual output than the previously predicted one 0.197. We can repeat the same process of backward and forward pass until error is close or equal to zero."
      ]
    },
    {
      "metadata": {
        "id": "Z7Dhq0PzaKsR",
        "colab_type": "code",
        "colab": {}
      },
      "cell_type": "code",
      "source": [
        ""
      ],
      "execution_count": 0,
      "outputs": []
    }
  ]
}
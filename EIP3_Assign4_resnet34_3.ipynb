{
  "nbformat": 4,
  "nbformat_minor": 0,
  "metadata": {
    "colab": {
      "name": "EIP3_Assign4_resnet34_3.ipynb",
      "version": "0.3.2",
      "provenance": [],
      "collapsed_sections": [],
      "include_colab_link": true
    },
    "kernelspec": {
      "name": "python3",
      "display_name": "Python 3"
    },
    "accelerator": "GPU"
  },
  "cells": [
    {
      "cell_type": "markdown",
      "metadata": {
        "id": "view-in-github",
        "colab_type": "text"
      },
      "source": [
        "<a href=\"https://colab.research.google.com/github/thamizhannal/EIP3/blob/master/EIP3_Assign4_resnet34_3.ipynb\" target=\"_parent\"><img src=\"https://colab.research.google.com/assets/colab-badge.svg\" alt=\"Open In Colab\"/></a>"
      ]
    },
    {
      "metadata": {
        "id": "3c3gDWUP3AMH",
        "colab_type": "code",
        "outputId": "320a7899-fbcf-47d0-c696-d52a3aec5e53",
        "colab": {
          "base_uri": "https://localhost:8080/",
          "height": 122
        }
      },
      "cell_type": "code",
      "source": [
        "# mount google drive\n",
        "from google.colab import drive\n",
        "drive.mount('/content/gdrive')"
      ],
      "execution_count": 0,
      "outputs": [
        {
          "output_type": "stream",
          "text": [
            "Go to this URL in a browser: https://accounts.google.com/o/oauth2/auth?client_id=947318989803-6bn6qk8qdgf4n4g3pfee6491hc0brc4i.apps.googleusercontent.com&redirect_uri=urn%3Aietf%3Awg%3Aoauth%3A2.0%3Aoob&scope=email%20https%3A%2F%2Fwww.googleapis.com%2Fauth%2Fdocs.test%20https%3A%2F%2Fwww.googleapis.com%2Fauth%2Fdrive%20https%3A%2F%2Fwww.googleapis.com%2Fauth%2Fdrive.photos.readonly%20https%3A%2F%2Fwww.googleapis.com%2Fauth%2Fpeopleapi.readonly&response_type=code\n",
            "\n",
            "Enter your authorization code:\n",
            "··········\n",
            "Mounted at /content/gdrive\n"
          ],
          "name": "stdout"
        }
      ]
    },
    {
      "metadata": {
        "id": "DdpcwhPa1Brj",
        "colab_type": "text"
      },
      "cell_type": "markdown",
      "source": [
        "## Resnet34 architecture\n",
        "\n",
        "#### 1. Resnet34 architecture with custom changes a)7x7 kernel replaced with 3 conv layers of 3x3 kernel b) Dense&flatten replaced with 2 conv layers + BN+ Relu + GAP+softmax activation\n",
        "#### 2) Image aug with 6 parameters\n",
        "#### 3)  Used CLR\n",
        "#### 4)  22.5M parameters\n",
        "#### 5) input image size 64x64x3 output image size= 64x64x3, batch size=128\n",
        "#### 6) Validation accuracy: 52.68%"
      ]
    },
    {
      "metadata": {
        "id": "uWMGZxhgRl-f",
        "colab_type": "code",
        "colab": {}
      },
      "cell_type": "code",
      "source": [
        "!ls /content/gdrive/'My Drive'/EIP3\n",
        "\n"
      ],
      "execution_count": 0,
      "outputs": []
    },
    {
      "metadata": {
        "id": "1i3kzyK43Bii",
        "colab_type": "code",
        "outputId": "b9731086-8044-404e-f37e-f7bf6872ac5c",
        "colab": {
          "base_uri": "https://localhost:8080/",
          "height": 204
        }
      },
      "cell_type": "code",
      "source": [
        "## 1. Download data from http://cs231n.stanford.edu/tiny-imagenet-200.zip\n",
        "## 2. unzip it once\n",
        "## 3. List the dir on which it is unzipped\n",
        "## 4. Need not download, unzip data once again.\n",
        "## \n",
        "!ls /content/gdrive/'My Drive'/EIP3 #tiny-imagenet-200/tiny-imagenet-200\n",
        "!wget -P /content/gdrive/'My Drive'/EIP3 http://cs231n.stanford.edu/tiny-imagenet-200.zip"
      ],
      "execution_count": 0,
      "outputs": [
        {
          "output_type": "stream",
          "text": [
            "--2019-03-29 13:34:37--  http://cs231n.stanford.edu/tiny-imagenet-200.zip\n",
            "Resolving cs231n.stanford.edu (cs231n.stanford.edu)... 171.64.68.10\n",
            "Connecting to cs231n.stanford.edu (cs231n.stanford.edu)|171.64.68.10|:80... connected.\n",
            "HTTP request sent, awaiting response... 200 OK\n",
            "Length: 248100043 (237M) [application/zip]\n",
            "Saving to: ‘/content/gdrive/My Drive/EIP3/tiny-imagenet-200.zip’\n",
            "\n",
            "tiny-imagenet-200.z 100%[===================>] 236.61M  37.8MB/s    in 9.0s    \n",
            "\n",
            "2019-03-29 13:34:46 (26.2 MB/s) - ‘/content/gdrive/My Drive/EIP3/tiny-imagenet-200.zip’ saved [248100043/248100043]\n",
            "\n"
          ],
          "name": "stdout"
        }
      ]
    },
    {
      "metadata": {
        "id": "eVPZGbFNx4_x",
        "colab_type": "code",
        "outputId": "eb9207de-5276-492f-f4e9-dae25a3c1a83",
        "colab": {
          "base_uri": "https://localhost:8080/",
          "height": 34
        }
      },
      "cell_type": "code",
      "source": [
        "!ls /content/gdrive/'My Drive'/EIP3/tiny-imagenet-200.zip\n"
      ],
      "execution_count": 0,
      "outputs": [
        {
          "output_type": "stream",
          "text": [
            "'/content/gdrive/My Drive/EIP3/tiny-imagenet-200.zip'\n"
          ],
          "name": "stdout"
        }
      ]
    },
    {
      "metadata": {
        "id": "JEVigxj_hTET",
        "colab_type": "code",
        "colab": {}
      },
      "cell_type": "code",
      "source": [
        "!rm -rf /content/gdrive/'My Drive'/EIP3/tiny-imagenet-200\n"
      ],
      "execution_count": 0,
      "outputs": []
    },
    {
      "metadata": {
        "id": "8AOi4HWF3Np5",
        "colab_type": "code",
        "colab": {}
      },
      "cell_type": "code",
      "source": [
        "!unzip -qq /content/gdrive/'My Drive'/EIP3/tiny-imagenet-200.zip -d /content/gdrive/'My Drive'/EIP3/\n"
      ],
      "execution_count": 0,
      "outputs": []
    },
    {
      "metadata": {
        "id": "eGlukO6dxvyD",
        "colab_type": "code",
        "outputId": "c24f38ec-dad2-49b5-da3a-2e29398642d1",
        "colab": {
          "base_uri": "https://localhost:8080/",
          "height": 34
        }
      },
      "cell_type": "code",
      "source": [
        "!ls /content/gdrive/'My Drive'/EIP3/tiny-imagenet-200"
      ],
      "execution_count": 0,
      "outputs": [
        {
          "output_type": "stream",
          "text": [
            "test  train  val  wnids.txt  words.txt\n"
          ],
          "name": "stdout"
        }
      ]
    },
    {
      "metadata": {
        "id": "yTSCLU2Y3QtN",
        "colab_type": "code",
        "outputId": "9c236474-5f22-4733-b389-c2a93afbe495",
        "colab": {
          "base_uri": "https://localhost:8080/",
          "height": 34
        }
      },
      "cell_type": "code",
      "source": [
        "# Define Imports\n",
        "\n",
        "import numpy as np\n",
        "import pandas as pd\n",
        "import tensorflow as tf\n",
        "\n",
        "import matplotlib.pyplot as plt\n",
        "%matplotlib  inline\n",
        "from keras.preprocessing.image import ImageDataGenerator\n",
        "from sklearn import preprocessing"
      ],
      "execution_count": 0,
      "outputs": [
        {
          "output_type": "stream",
          "text": [
            "Using TensorFlow backend.\n"
          ],
          "name": "stderr"
        }
      ]
    },
    {
      "metadata": {
        "id": "_SvrDRZW3TUJ",
        "colab_type": "code",
        "outputId": "49b33337-6a87-4626-fa79-af65cb341181",
        "colab": {
          "base_uri": "https://localhost:8080/",
          "height": 142
        }
      },
      "cell_type": "code",
      "source": [
        "# Loading validation annotation & extract class labels\n",
        "val_data = pd.read_csv(r\"/content/gdrive/My Drive/EIP3/tiny-imagenet-200//val/val_annotations.txt\", sep='\\t', header=None, names=['File', 'Class', 'X', 'Y', 'H', 'W'])\n",
        "val_data.drop(['X', 'Y', 'H', 'W'], axis=1, inplace=True)\n",
        "val_data.head(3)"
      ],
      "execution_count": 0,
      "outputs": [
        {
          "output_type": "execute_result",
          "data": {
            "text/html": [
              "<div>\n",
              "<style scoped>\n",
              "    .dataframe tbody tr th:only-of-type {\n",
              "        vertical-align: middle;\n",
              "    }\n",
              "\n",
              "    .dataframe tbody tr th {\n",
              "        vertical-align: top;\n",
              "    }\n",
              "\n",
              "    .dataframe thead th {\n",
              "        text-align: right;\n",
              "    }\n",
              "</style>\n",
              "<table border=\"1\" class=\"dataframe\">\n",
              "  <thead>\n",
              "    <tr style=\"text-align: right;\">\n",
              "      <th></th>\n",
              "      <th>File</th>\n",
              "      <th>Class</th>\n",
              "    </tr>\n",
              "  </thead>\n",
              "  <tbody>\n",
              "    <tr>\n",
              "      <th>0</th>\n",
              "      <td>val_0.JPEG</td>\n",
              "      <td>n03444034</td>\n",
              "    </tr>\n",
              "    <tr>\n",
              "      <th>1</th>\n",
              "      <td>val_1.JPEG</td>\n",
              "      <td>n04067472</td>\n",
              "    </tr>\n",
              "    <tr>\n",
              "      <th>2</th>\n",
              "      <td>val_2.JPEG</td>\n",
              "      <td>n04070727</td>\n",
              "    </tr>\n",
              "  </tbody>\n",
              "</table>\n",
              "</div>"
            ],
            "text/plain": [
              "         File      Class\n",
              "0  val_0.JPEG  n03444034\n",
              "1  val_1.JPEG  n04067472\n",
              "2  val_2.JPEG  n04070727"
            ]
          },
          "metadata": {
            "tags": []
          },
          "execution_count": 10
        }
      ]
    },
    {
      "metadata": {
        "id": "uWugRFQf3Vq-",
        "colab_type": "code",
        "colab": {}
      },
      "cell_type": "code",
      "source": [
        "# Loading images as batches using ImageDataGenerator\n",
        "\n",
        "# Use Augmentaion parameters as required.\n",
        "train_datagen = ImageDataGenerator(\n",
        "    rescale= 1./255,\n",
        "    zoom_range = 0.2,\n",
        "    width_shift_range=0.2,\n",
        "    height_shift_range=0.2,\n",
        "    rotation_range=10,\n",
        "    horizontal_flip=True\n",
        "    )\n",
        "\n",
        "valid_datagen = ImageDataGenerator(rescale=1./255)\n"
      ],
      "execution_count": 0,
      "outputs": []
    },
    {
      "metadata": {
        "id": "vGgIBZ2w3agF",
        "colab_type": "code",
        "outputId": "c35a7ade-fd85-4e75-dca3-2b52bef80e18",
        "colab": {
          "base_uri": "https://localhost:8080/",
          "height": 34
        }
      },
      "cell_type": "code",
      "source": [
        "train_generator = train_datagen.flow_from_directory( r\"/content/gdrive/My Drive/EIP3/tiny-imagenet-200/train/\",\n",
        "                                                    target_size=(64, 64), color_mode='rgb', \n",
        "                                                    batch_size=128, class_mode='categorical', shuffle=True, seed=42)\n"
      ],
      "execution_count": 0,
      "outputs": [
        {
          "output_type": "stream",
          "text": [
            "Found 100000 images belonging to 200 classes.\n"
          ],
          "name": "stdout"
        }
      ]
    },
    {
      "metadata": {
        "id": "HuMUtfwU3e_8",
        "colab_type": "code",
        "outputId": "e1557575-a8c1-4df9-c8e4-47cffd677b18",
        "colab": {
          "base_uri": "https://localhost:8080/",
          "height": 34
        }
      },
      "cell_type": "code",
      "source": [
        "validation_generator = valid_datagen.flow_from_dataframe(val_data, directory='/content/gdrive/My Drive/EIP3/tiny-imagenet-200/val/images/',\n",
        "                                                         x_col='File', y_col='Class', target_size=(64, 64),\n",
        "                                                    color_mode='rgb', class_mode='categorical', batch_size=128, shuffle=True, seed=42)"
      ],
      "execution_count": 0,
      "outputs": [
        {
          "output_type": "stream",
          "text": [
            "Found 10000 images belonging to 200 classes.\n"
          ],
          "name": "stdout"
        }
      ]
    },
    {
      "metadata": {
        "id": "kLgk76iS3qzA",
        "colab_type": "code",
        "outputId": "dcb4a2bb-8514-4e07-c0bc-81ce87305a93",
        "colab": {
          "base_uri": "https://localhost:8080/",
          "height": 34
        }
      },
      "cell_type": "code",
      "source": [
        "\n",
        "X_train, Y_train = next(train_generator)\n",
        "X_train.shape\n",
        "\n"
      ],
      "execution_count": 0,
      "outputs": [
        {
          "output_type": "execute_result",
          "data": {
            "text/plain": [
              "(128, 64, 64, 3)"
            ]
          },
          "metadata": {
            "tags": []
          },
          "execution_count": 18
        }
      ]
    },
    {
      "metadata": {
        "id": "-FL1EVRF3tsV",
        "colab_type": "code",
        "outputId": "e99b1e44-0a10-4a66-c348-d9940365cdb1",
        "colab": {
          "base_uri": "https://localhost:8080/",
          "height": 323
        }
      },
      "cell_type": "code",
      "source": [
        "# Plot Generator images.\n",
        "\n",
        "fig = plt.figure(figsize=(14, 5))\n",
        "\n",
        "for i in range(8):\n",
        "    sub = fig.add_subplot(2, 4, i + 1)\n",
        "    sub.imshow(X_train[i,:,:], interpolation='nearest')\n"
      ],
      "execution_count": 0,
      "outputs": [
        {
          "output_type": "display_data",
          "data": {
            "image/png": "[encoded data removed]",
            "text/plain": [
              "<Figure size 1008x360 with 8 Axes>"
            ]
          },
          "metadata": {
            "tags": []
          }
        }
      ]
    },
    {
      "metadata": {
        "id": "HVDPw4lA3RmG",
        "colab_type": "code",
        "outputId": "607286dd-445d-4b8e-87c2-ad92fe0cca93",
        "colab": {
          "base_uri": "https://localhost:8080/",
          "height": 34
        }
      },
      "cell_type": "code",
      "source": [
        "    \n",
        "X_test, Y_test = next(validation_generator)\n",
        "X_test.shape\n"
      ],
      "execution_count": 0,
      "outputs": [
        {
          "output_type": "execute_result",
          "data": {
            "text/plain": [
              "(128, 64, 64, 3)"
            ]
          },
          "metadata": {
            "tags": []
          },
          "execution_count": 20
        }
      ]
    },
    {
      "metadata": {
        "id": "rit0UbCI3v3l",
        "colab_type": "code",
        "outputId": "09431fe7-6a10-4044-e538-2225b9babee1",
        "colab": {
          "base_uri": "https://localhost:8080/",
          "height": 323
        }
      },
      "cell_type": "code",
      "source": [
        "# Plot Generator images.\n",
        "\n",
        "fig = plt.figure(figsize=(14, 5))\n",
        "\n",
        "for i in range(8):\n",
        "    sub = fig.add_subplot(2, 4, i + 1)\n",
        "    sub.imshow(X_test[i,:,:], interpolation='nearest')"
      ],
      "execution_count": 0,
      "outputs": [
        {
          "output_type": "display_data",
          "data": {
            "image/png": "[encoded data removed]",
            "text/plain": [
              "<Figure size 1008x360 with 8 Axes>"
            ]
          },
          "metadata": {
            "tags": []
          }
        }
      ]
    },
    {
      "metadata": {
        "id": "5VPM9wh53yTG",
        "colab_type": "code",
        "colab": {}
      },
      "cell_type": "code",
      "source": [
        "# Disclaimer: Below is base ResNet code was donwloaded from https://github.com/raghakot/keras-resnet\n",
        "# \n",
        "# \n",
        "from __future__ import division\n",
        "\n",
        "import six\n",
        "from keras.models import Model\n",
        "from keras.layers import (\n",
        "    Input,\n",
        "    Activation,\n",
        "    Dense,\n",
        "    Flatten\n",
        ")\n",
        "from keras.layers.convolutional import (\n",
        "    Conv2D,\n",
        "    MaxPooling2D,\n",
        "    AveragePooling2D\n",
        ")\n",
        "from keras.layers.merge import add\n",
        "from keras.layers.normalization import BatchNormalization\n",
        "from keras.regularizers import l2\n",
        "from keras import backend as K\n",
        "from keras.layers import SeparableConv2D\n",
        "from keras.layers import GlobalAveragePooling2D\n",
        "\n",
        "def _bn_relu(input):\n",
        "    \"\"\"Helper to build a BN -> relu block\n",
        "    \"\"\"\n",
        "    norm = BatchNormalization(axis=CHANNEL_AXIS)(input)\n",
        "    return Activation(\"relu\")(norm)\n",
        "\n",
        "\n",
        "def _conv_bn_relu(**conv_params):\n",
        "    \"\"\"Helper to build a conv -> BN -> relu block\n",
        "    \"\"\"\n",
        "    filters = conv_params[\"filters\"]\n",
        "    kernel_size = conv_params[\"kernel_size\"]\n",
        "    strides = conv_params.setdefault(\"strides\", (1, 1))\n",
        "    kernel_initializer = conv_params.setdefault(\"kernel_initializer\", \"he_normal\")\n",
        "    padding = conv_params.setdefault(\"padding\", \"same\")\n",
        "    kernel_regularizer = conv_params.setdefault(\"kernel_regularizer\", l2(1.e-4))\n",
        "\n",
        "    def f(input):\n",
        "        conv = Conv2D(filters=filters, kernel_size=kernel_size,\n",
        "                      strides=strides, padding=padding,\n",
        "                      kernel_initializer=kernel_initializer,\n",
        "                      kernel_regularizer=kernel_regularizer)(input)\n",
        "        return _bn_relu(conv)\n",
        "\n",
        "    return f\n",
        "\n",
        "\n",
        "def _bn_relu_conv(**conv_params):\n",
        "    \"\"\"Helper to build a BN -> relu -> conv block.\n",
        "    This is an improved scheme proposed in http://arxiv.org/pdf/1603.05027v2.pdf\n",
        "    \"\"\"\n",
        "    filters = conv_params[\"filters\"]\n",
        "    kernel_size = conv_params[\"kernel_size\"]\n",
        "    strides = conv_params.setdefault(\"strides\", (1, 1))\n",
        "    kernel_initializer = conv_params.setdefault(\"kernel_initializer\", \"he_normal\")\n",
        "    padding = conv_params.setdefault(\"padding\", \"same\")\n",
        "    kernel_regularizer = conv_params.setdefault(\"kernel_regularizer\", l2(1.e-4))\n",
        "\n",
        "    def f(input):\n",
        "        activation = _bn_relu(input)\n",
        "        return Conv2D(filters=filters, kernel_size=kernel_size,\n",
        "                      strides=strides, padding=padding,\n",
        "                      kernel_initializer=kernel_initializer,\n",
        "                      kernel_regularizer=kernel_regularizer)(activation)\n",
        "\n",
        "    return f\n",
        "\n",
        "\n",
        "def _shortcut(input, residual):\n",
        "    \"\"\"Adds a shortcut between input and residual block and merges them with \"sum\"\n",
        "    \"\"\"\n",
        "    # Expand channels of shortcut to match residual.\n",
        "    # Stride appropriately to match residual (width, height)\n",
        "    # Should be int if network architecture is correctly configured.\n",
        "    input_shape = K.int_shape(input)\n",
        "    residual_shape = K.int_shape(residual)\n",
        "    stride_width = int(round(input_shape[ROW_AXIS] / residual_shape[ROW_AXIS]))\n",
        "    stride_height = int(round(input_shape[COL_AXIS] / residual_shape[COL_AXIS]))\n",
        "    equal_channels = input_shape[CHANNEL_AXIS] == residual_shape[CHANNEL_AXIS]\n",
        "\n",
        "    shortcut = input\n",
        "    # 1 X 1 conv if shape is different. Else identity.\n",
        "    if stride_width > 1 or stride_height > 1 or not equal_channels:\n",
        "        shortcut = Conv2D(filters=residual_shape[CHANNEL_AXIS],\n",
        "                          kernel_size=(1, 1),\n",
        "                          strides=(stride_width, stride_height),\n",
        "                          padding=\"valid\",\n",
        "                          kernel_initializer=\"he_normal\",\n",
        "                          kernel_regularizer=l2(0.0001))(input)\n",
        "\n",
        "    return add([shortcut, residual])\n",
        "\n",
        "\n",
        "def _residual_block(block_function, filters, repetitions, is_first_layer=False):\n",
        "    \"\"\"Builds a residual block with repeating bottleneck blocks.\n",
        "    \"\"\"\n",
        "    def f(input):\n",
        "        for i in range(repetitions):\n",
        "            init_strides = (1, 1)\n",
        "            if i == 0 and not is_first_layer:\n",
        "                init_strides = (2, 2)\n",
        "            input = block_function(filters=filters, init_strides=init_strides,\n",
        "                                   is_first_block_of_first_layer=(is_first_layer and i == 0))(input)\n",
        "        return input\n",
        "\n",
        "    return f\n",
        "\n",
        "\n",
        "def basic_block(filters, init_strides=(1, 1), is_first_block_of_first_layer=False):\n",
        "    \"\"\"Basic 3 X 3 convolution blocks for use on resnets with layers <= 34.\n",
        "    Follows improved proposed scheme in http://arxiv.org/pdf/1603.05027v2.pdf\n",
        "    \"\"\"\n",
        "    def f(input):\n",
        "\n",
        "        if is_first_block_of_first_layer:\n",
        "            # don't repeat bn->relu since we just did bn->relu->maxpool\n",
        "            conv1 = Conv2D(filters=filters, kernel_size=(3, 3),\n",
        "                           strides=init_strides,\n",
        "                           padding=\"same\",\n",
        "                           kernel_initializer=\"he_normal\",\n",
        "                           kernel_regularizer=l2(1e-4))(input)\n",
        "        else:\n",
        "            conv1 = _bn_relu_conv(filters=filters, kernel_size=(3, 3),\n",
        "                                  strides=init_strides)(input)\n",
        "\n",
        "        residual = _bn_relu_conv(filters=filters, kernel_size=(3, 3))(conv1)\n",
        "        return _shortcut(input, residual)\n",
        "\n",
        "    return f\n",
        "\n",
        "\n",
        "def bottleneck(filters, init_strides=(1, 1), is_first_block_of_first_layer=False):\n",
        "    \"\"\"Bottleneck architecture for > 34 layer resnet.\n",
        "    Follows improved proposed scheme in http://arxiv.org/pdf/1603.05027v2.pdf\n",
        "\n",
        "    Returns:\n",
        "        A final conv layer of filters * 4\n",
        "    \"\"\"\n",
        "    def f(input):\n",
        "\n",
        "        if is_first_block_of_first_layer:\n",
        "            # don't repeat bn->relu since we just did bn->relu->maxpool\n",
        "            conv_1_1 = Conv2D(filters=filters, kernel_size=(1, 1),\n",
        "                              strides=init_strides,\n",
        "                              padding=\"same\",\n",
        "                              kernel_initializer=\"he_normal\",\n",
        "                              kernel_regularizer=l2(1e-4))(input)\n",
        "        else:\n",
        "            conv_1_1 = _bn_relu_conv(filters=filters, kernel_size=(1, 1),\n",
        "                                     strides=init_strides)(input)\n",
        "\n",
        "        conv_3_3 = _bn_relu_conv(filters=filters, kernel_size=(3, 3))(conv_1_1)\n",
        "        residual = _bn_relu_conv(filters=filters * 4, kernel_size=(1, 1))(conv_3_3)\n",
        "        return _shortcut(input, residual)\n",
        "\n",
        "    return f\n",
        "\n",
        "\n",
        "def _handle_dim_ordering():\n",
        "    global ROW_AXIS\n",
        "    global COL_AXIS\n",
        "    global CHANNEL_AXIS\n",
        "    if K.image_dim_ordering() == 'tf':\n",
        "        ROW_AXIS = 1\n",
        "        COL_AXIS = 2\n",
        "        CHANNEL_AXIS = 3\n",
        "    else:\n",
        "        CHANNEL_AXIS = 1\n",
        "        ROW_AXIS = 2\n",
        "        COL_AXIS = 3\n",
        "\n",
        "\n",
        "def _get_block(identifier):\n",
        "    if isinstance(identifier, six.string_types):\n",
        "        res = globals().get(identifier)\n",
        "        if not res:\n",
        "            raise ValueError('Invalid {}'.format(identifier))\n",
        "        return res\n",
        "    return identifier\n",
        "\n",
        "\n",
        "class ResnetBuilder(object):\n",
        "    @staticmethod\n",
        "    def build(input_shape, num_outputs, block_fn, repetitions):\n",
        "        \"\"\"Builds a custom ResNet like architecture.\n",
        "\n",
        "        Args:\n",
        "            input_shape: The input shape in the form (nb_channels, nb_rows, nb_cols)\n",
        "            num_outputs: The number of outputs at final softmax layer\n",
        "            block_fn: The block function to use. This is either `basic_block` or `bottleneck`.\n",
        "                The original paper used basic_block for layers < 50\n",
        "            repetitions: Number of repetitions of various block units.\n",
        "                At each block unit, the number of filters are doubled and the input size is halved\n",
        "\n",
        "        Returns:\n",
        "            The keras `Model`.\n",
        "        \"\"\"\n",
        "        _handle_dim_ordering()\n",
        "        if len(input_shape) != 3:\n",
        "            raise Exception(\"Input shape should be a tuple (nb_channels, nb_rows, nb_cols)\")\n",
        "\n",
        "        # Permute dimension order if necessary\n",
        "        if K.image_dim_ordering() == 'tf':\n",
        "            input_shape = (input_shape[1], input_shape[2], input_shape[0])\n",
        "\n",
        "        # Load function from str if needed.\n",
        "        block_fn = _get_block(block_fn)\n",
        "\n",
        "        input = Input(shape=input_shape)\n",
        "        #conv1 = _conv_bn_relu(filters=64, kernel_size=(7, 7), strides=(2, 2))(input)\n",
        "        conv1 = _conv_bn_relu(filters=64, kernel_size=(3, 3), strides=(1, 1))(input)\n",
        "        conv1 = _conv_bn_relu(filters=128, kernel_size=(3, 3), strides=(1, 1))(conv1)\n",
        "        conv1 = _conv_bn_relu(filters=256, kernel_size=(3, 3), strides=(1, 1))(conv1)\n",
        "        \n",
        "        \n",
        "              \n",
        "        \n",
        "        pool1 = MaxPooling2D(pool_size=(3, 3), strides=(2, 2), padding=\"same\")(conv1)\n",
        "\n",
        "        block = pool1\n",
        "        filters = 64\n",
        "        for i, r in enumerate(repetitions):\n",
        "            block = _residual_block(block_fn, filters=filters, repetitions=r, is_first_layer=(i == 0))(block)\n",
        "            filters *= 2\n",
        "\n",
        "        # Last activation\n",
        "        block = _bn_relu(block)\n",
        "\n",
        "        # Classifier block\n",
        "        block_shape = K.int_shape(block)\n",
        "        pool2 = AveragePooling2D(pool_size=(block_shape[ROW_AXIS], block_shape[COL_AXIS]),\n",
        "                                 strides=(1, 1))(block)\n",
        "        \n",
        "        #X = GlobalAveragePooling2D(data_format='channels_last')(x)\n",
        "        #X = ACtivation('softmax')(X)\n",
        "\n",
        "        #flatten1 = Flatten()(pool2)\n",
        "        #dense = Dense(units=num_outputs, kernel_initializer=\"he_normal\",\n",
        "                     #activation=\"softmax\")(flatten1)\n",
        "        \n",
        "        conv_1_1 = Conv2D(filters=1024, kernel_size=(1,1),\n",
        "                      strides=(1,1), padding=\"same\",\n",
        "                      kernel_initializer=\"he_normal\",\n",
        "                              kernel_regularizer=l2(1e-4))(pool2)\n",
        "        conv_1_1 = _bn_relu(conv_1_1)\n",
        "        '''\n",
        "        conv_1_1 = Conv2D(filters=512, kernel_size=(1,1),\n",
        "                      strides=(1,1), padding=\"same\",\n",
        "                      kernel_initializer=\"he_normal\",\n",
        "                              kernel_regularizer=l2(1e-4))(pool2)\n",
        "        conv_1_1 = _bn_relu(conv_1_1)'''\n",
        "        \n",
        "                \n",
        "        conv_1_1 = Conv2D(filters=200, kernel_size=(1,1),\n",
        "                      strides=(1,1), padding=\"same\",\n",
        "                      kernel_initializer=\"he_normal\",\n",
        "                              kernel_regularizer=l2(1e-4))(conv_1_1)\n",
        "        conv_1_1 = _bn_relu(conv_1_1)\n",
        "        X = GlobalAveragePooling2D(data_format='channels_last')(conv_1_1)\n",
        "        X = Activation('softmax')(X)\n",
        "        #flatten1 = Flatten()(conv_1_1)\n",
        "\n",
        "        model = Model(inputs=input, outputs=X)\n",
        "        return model\n",
        "\n",
        "    @staticmethod\n",
        "    def build_resnet_18(input_shape, num_outputs):\n",
        "        return ResnetBuilder.build(input_shape, num_outputs, basic_block, [2, 2, 2, 2])\n",
        "\n",
        "    @staticmethod\n",
        "    def build_resnet_34(input_shape, num_outputs):\n",
        "        return ResnetBuilder.build(input_shape, num_outputs, basic_block, [3, 4, 6, 3])\n",
        "\n",
        "    @staticmethod\n",
        "    def build_resnet_50(input_shape, num_outputs):\n",
        "        return ResnetBuilder.build(input_shape, num_outputs, bottleneck, [3, 4, 6, 3])\n",
        "\n",
        "    @staticmethod\n",
        "    def build_resnet_101(input_shape, num_outputs):\n",
        "        return ResnetBuilder.build(input_shape, num_outputs, bottleneck, [3, 4, 23, 3])\n",
        "\n",
        "    @staticmethod\n",
        "    def build_resnet_152(input_shape, num_outputs):\n",
        "        return ResnetBuilder.build(input_shape, num_outputs, bottleneck, [3, 8, 36, 3])"
      ],
      "execution_count": 0,
      "outputs": []
    },
    {
      "metadata": {
        "id": "amSSfryrpD-L",
        "colab_type": "code",
        "colab": {}
      },
      "cell_type": "code",
      "source": [
        ""
      ],
      "execution_count": 0,
      "outputs": []
    },
    {
      "metadata": {
        "id": "7OOQosL8pEVx",
        "colab_type": "code",
        "colab": {}
      },
      "cell_type": "code",
      "source": [
        ""
      ],
      "execution_count": 0,
      "outputs": []
    },
    {
      "metadata": {
        "id": "3KiFIPGb3cVp",
        "colab_type": "code",
        "colab": {}
      },
      "cell_type": "code",
      "source": [
        "from keras.callbacks import *\n",
        "\n",
        "class CyclicLR(Callback):\n",
        "    \"\"\"This callback implements a cyclical learning rate policy (CLR).\n",
        "    The method cycles the learning rate between two boundaries with\n",
        "    some constant frequency, as detailed in this paper (https://arxiv.org/abs/1506.01186).\n",
        "    The amplitude of the cycle can be scaled on a per-iteration or \n",
        "    per-cycle basis.\n",
        "    This class has three built-in policies, as put forth in the paper.\n",
        "    \"triangular\":\n",
        "        A basic triangular cycle w/ no amplitude scaling.\n",
        "    \"triangular2\":\n",
        "        A basic triangular cycle that scales initial amplitude by half each cycle.\n",
        "    \"exp_range\":\n",
        "        A cycle that scales initial amplitude by gamma**(cycle iterations) at each \n",
        "        cycle iteration.\n",
        "    For more detail, please see paper.\n",
        "    \n",
        "    # Example\n",
        "        ```python\n",
        "            clr = CyclicLR(base_lr=0.001, max_lr=0.006,\n",
        "                                step_size=2000., mode='triangular')\n",
        "            model.fit(X_train, Y_train, callbacks=[clr])\n",
        "        ```\n",
        "    \n",
        "    Class also supports custom scaling functions:\n",
        "        ```python\n",
        "            clr_fn = lambda x: 0.5*(1+np.sin(x*np.pi/2.))\n",
        "            clr = CyclicLR(base_lr=0.001, max_lr=0.006,\n",
        "                                step_size=2000., scale_fn=clr_fn,\n",
        "                                scale_mode='cycle')\n",
        "            model.fit(X_train, Y_train, callbacks=[clr])\n",
        "        ```    \n",
        "    # Arguments\n",
        "        base_lr: initial learning rate which is the\n",
        "            lower boundary in the cycle.\n",
        "        max_lr: upper boundary in the cycle. Functionally,\n",
        "            it defines the cycle amplitude (max_lr - base_lr).\n",
        "            The lr at any cycle is the sum of base_lr\n",
        "            and some scaling of the amplitude; therefore \n",
        "            max_lr may not actually be reached depending on\n",
        "            scaling function.\n",
        "        step_size: number of training iterations per\n",
        "            half cycle. Authors suggest setting step_size\n",
        "            2-8 x training iterations in epoch.\n",
        "        mode: one of {triangular, triangular2, exp_range}.\n",
        "            Default 'triangular'.\n",
        "            Values correspond to policies detailed above.\n",
        "            If scale_fn is not None, this argument is ignored.\n",
        "        gamma: constant in 'exp_range' scaling function:\n",
        "            gamma**(cycle iterations)\n",
        "        scale_fn: Custom scaling policy defined by a single\n",
        "            argument lambda function, where \n",
        "            0 <= scale_fn(x) <= 1 for all x >= 0.\n",
        "            mode paramater is ignored \n",
        "        scale_mode: {'cycle', 'iterations'}.\n",
        "            Defines whether scale_fn is evaluated on \n",
        "            cycle number or cycle iterations (training\n",
        "            iterations since start of cycle). Default is 'cycle'.\n",
        "    \"\"\"\n",
        "\n",
        "    def __init__(self, base_lr=0.001, max_lr=0.006, step_size=2000., mode='triangular',\n",
        "                 gamma=1., scale_fn=None, scale_mode='cycle'):\n",
        "        super(CyclicLR, self).__init__()\n",
        "\n",
        "        self.base_lr = base_lr\n",
        "        self.max_lr = max_lr\n",
        "        self.step_size = step_size\n",
        "        self.mode = mode\n",
        "        self.gamma = gamma\n",
        "        if scale_fn == None:\n",
        "            if self.mode == 'triangular':\n",
        "                self.scale_fn = lambda x: 1.\n",
        "                self.scale_mode = 'cycle'\n",
        "            elif self.mode == 'triangular2':\n",
        "                self.scale_fn = lambda x: 1/(2.**(x-1))\n",
        "                self.scale_mode = 'cycle'\n",
        "            elif self.mode == 'exp_range':\n",
        "                self.scale_fn = lambda x: gamma**(x)\n",
        "                self.scale_mode = 'iterations'\n",
        "        else:\n",
        "            self.scale_fn = scale_fn\n",
        "            self.scale_mode = scale_mode\n",
        "        self.clr_iterations = 0.\n",
        "        self.trn_iterations = 0.\n",
        "        self.history = {}\n",
        "\n",
        "        self._reset()\n",
        "\n",
        "    def _reset(self, new_base_lr=None, new_max_lr=None,\n",
        "               new_step_size=None):\n",
        "        \"\"\"Resets cycle iterations.\n",
        "        Optional boundary/step size adjustment.\n",
        "        \"\"\"\n",
        "        if new_base_lr != None:\n",
        "            self.base_lr = new_base_lr\n",
        "        if new_max_lr != None:\n",
        "            self.max_lr = new_max_lr\n",
        "        if new_step_size != None:\n",
        "            self.step_size = new_step_size\n",
        "        self.clr_iterations = 0.\n",
        "        \n",
        "    def clr(self):\n",
        "        cycle = np.floor(1+self.clr_iterations/(2*self.step_size))\n",
        "        x = np.abs(self.clr_iterations/self.step_size - 2*cycle + 1)\n",
        "        if self.scale_mode == 'cycle':\n",
        "            return self.base_lr + (self.max_lr-self.base_lr)*np.maximum(0, (1-x))*self.scale_fn(cycle)\n",
        "        else:\n",
        "            return self.base_lr + (self.max_lr-self.base_lr)*np.maximum(0, (1-x))*self.scale_fn(self.clr_iterations)\n",
        "        \n",
        "    def on_train_begin(self, logs={}):\n",
        "        logs = logs or {}\n",
        "\n",
        "        if self.clr_iterations == 0:\n",
        "            K.set_value(self.model.optimizer.lr, self.base_lr)\n",
        "        else:\n",
        "            K.set_value(self.model.optimizer.lr, self.clr())        \n",
        "            \n",
        "    def on_batch_end(self, epoch, logs=None):\n",
        "        \n",
        "        logs = logs or {}\n",
        "        self.trn_iterations += 1\n",
        "        self.clr_iterations += 1\n",
        "\n",
        "        self.history.setdefault('lr', []).append(K.get_value(self.model.optimizer.lr))\n",
        "        self.history.setdefault('iterations', []).append(self.trn_iterations)\n",
        "\n",
        "        for k, v in logs.items():\n",
        "            self.history.setdefault(k, []).append(v)\n",
        "        \n",
        "        K.set_value(self.model.optimizer.lr, self.clr())"
      ],
      "execution_count": 0,
      "outputs": []
    },
    {
      "metadata": {
        "id": "sqUA0nfq3ePY",
        "colab_type": "code",
        "colab": {}
      },
      "cell_type": "code",
      "source": [
        "# You are using the triangular learning rate policy and\n",
        "#  base_lr (initial learning rate which is the lower boundary in the cycle) is 0.1\n",
        "#clr_triangular = CyclicLR(mode='triangular')\n",
        "#model.compile(optimizer=Adam(0.1), loss='categorical_crossentropy', metrics=['accuracy'])\n",
        "clr = CyclicLR(base_lr=0.001, max_lr=0.006,\n",
        "                        step_size=2000., mode='triangular2')"
      ],
      "execution_count": 0,
      "outputs": []
    },
    {
      "metadata": {
        "id": "EPh3fCfc3ing",
        "colab_type": "code",
        "colab": {}
      },
      "cell_type": "code",
      "source": [
        "import os\n",
        "checkpoint_path = \"/content/gdrive/My Drive/EIP3/resnet34/cp-{epoch:04d}.hdf5\"\n",
        "model_save_path = \"/content/gdrive/My Drive/EIP3/resnet34/resnet34.h5\"\n",
        "model_arch = \"/content/gdrive/My Drive/EIP3/resnet34/resnet34_arch.png\"\n",
        "!mkdir -p /content/gdrive/'My Drive'/EIP3/resnet34/\n",
        "!ls /content/gdrive/'My Drive'/EIP3/resnet34/\n",
        "\n",
        "model_weights_path =  \"/content/gdrive/My Drive/EIP3/resnet34/resnet18_weights.h5\"\n",
        "model_arch_path =  \"/content/gdrive/My Drive/EIP3/resnet34/resnet18_model.json\"\n",
        "\n",
        "\n",
        "# Create checkpoint callback\n",
        "cp_callback = tf.keras.callbacks.ModelCheckpoint(checkpoint_path, \n",
        "                                                 save_weights_only=True,\n",
        "                                                 verbose=1, \n",
        "                                                 period=5)"
      ],
      "execution_count": 0,
      "outputs": []
    },
    {
      "metadata": {
        "id": "8OfqIOKaZ_hc",
        "colab_type": "code",
        "outputId": "37516c1f-f2d9-4328-fddd-96d23782f484",
        "colab": {
          "base_uri": "https://localhost:8080/",
          "height": 5032
        }
      },
      "cell_type": "code",
      "source": [
        "epochs=500\n",
        "img_channels=3\n",
        "img_rows=64\n",
        "img_cols=64\n",
        "nb_classes = 200\n",
        "batch_size = 128\n",
        "model = ResnetBuilder.build_resnet_34((img_channels, img_rows, img_cols), nb_classes)\n",
        "model.compile(loss='categorical_crossentropy',\n",
        "              optimizer='adam',\n",
        "              metrics=['accuracy'])\n",
        "model.summary()\n",
        "\n"
      ],
      "execution_count": 0,
      "outputs": [
        {
          "output_type": "stream",
          "text": [
            "__________________________________________________________________________________________________\n",
            "Layer (type)                    Output Shape         Param #     Connected to                     \n",
            "==================================================================================================\n",
            "input_2 (InputLayer)            (None, 64, 64, 3)    0                                            \n",
            "__________________________________________________________________________________________________\n",
            "conv2d_42 (Conv2D)              (None, 64, 64, 64)   1792        input_2[0][0]                    \n",
            "__________________________________________________________________________________________________\n",
            "batch_normalization_38 (BatchNo (None, 64, 64, 64)   256         conv2d_42[0][0]                  \n",
            "__________________________________________________________________________________________________\n",
            "activation_38 (Activation)      (None, 64, 64, 64)   0           batch_normalization_38[0][0]     \n",
            "__________________________________________________________________________________________________\n",
            "conv2d_43 (Conv2D)              (None, 64, 64, 128)  73856       activation_38[0][0]              \n",
            "__________________________________________________________________________________________________\n",
            "batch_normalization_39 (BatchNo (None, 64, 64, 128)  512         conv2d_43[0][0]                  \n",
            "__________________________________________________________________________________________________\n",
            "activation_39 (Activation)      (None, 64, 64, 128)  0           batch_normalization_39[0][0]     \n",
            "__________________________________________________________________________________________________\n",
            "conv2d_44 (Conv2D)              (None, 64, 64, 256)  295168      activation_39[0][0]              \n",
            "__________________________________________________________________________________________________\n",
            "batch_normalization_40 (BatchNo (None, 64, 64, 256)  1024        conv2d_44[0][0]                  \n",
            "__________________________________________________________________________________________________\n",
            "activation_40 (Activation)      (None, 64, 64, 256)  0           batch_normalization_40[0][0]     \n",
            "__________________________________________________________________________________________________\n",
            "max_pooling2d_2 (MaxPooling2D)  (None, 32, 32, 256)  0           activation_40[0][0]              \n",
            "__________________________________________________________________________________________________\n",
            "conv2d_45 (Conv2D)              (None, 32, 32, 64)   147520      max_pooling2d_2[0][0]            \n",
            "__________________________________________________________________________________________________\n",
            "batch_normalization_41 (BatchNo (None, 32, 32, 64)   256         conv2d_45[0][0]                  \n",
            "__________________________________________________________________________________________________\n",
            "activation_41 (Activation)      (None, 32, 32, 64)   0           batch_normalization_41[0][0]     \n",
            "__________________________________________________________________________________________________\n",
            "conv2d_47 (Conv2D)              (None, 32, 32, 64)   16448       max_pooling2d_2[0][0]            \n",
            "__________________________________________________________________________________________________\n",
            "conv2d_46 (Conv2D)              (None, 32, 32, 64)   36928       activation_41[0][0]              \n",
            "__________________________________________________________________________________________________\n",
            "add_17 (Add)                    (None, 32, 32, 64)   0           conv2d_47[0][0]                  \n",
            "                                                                 conv2d_46[0][0]                  \n",
            "__________________________________________________________________________________________________\n",
            "batch_normalization_42 (BatchNo (None, 32, 32, 64)   256         add_17[0][0]                     \n",
            "__________________________________________________________________________________________________\n",
            "activation_42 (Activation)      (None, 32, 32, 64)   0           batch_normalization_42[0][0]     \n",
            "__________________________________________________________________________________________________\n",
            "conv2d_48 (Conv2D)              (None, 32, 32, 64)   36928       activation_42[0][0]              \n",
            "__________________________________________________________________________________________________\n",
            "batch_normalization_43 (BatchNo (None, 32, 32, 64)   256         conv2d_48[0][0]                  \n",
            "__________________________________________________________________________________________________\n",
            "activation_43 (Activation)      (None, 32, 32, 64)   0           batch_normalization_43[0][0]     \n",
            "__________________________________________________________________________________________________\n",
            "conv2d_49 (Conv2D)              (None, 32, 32, 64)   36928       activation_43[0][0]              \n",
            "__________________________________________________________________________________________________\n",
            "add_18 (Add)                    (None, 32, 32, 64)   0           add_17[0][0]                     \n",
            "                                                                 conv2d_49[0][0]                  \n",
            "__________________________________________________________________________________________________\n",
            "batch_normalization_44 (BatchNo (None, 32, 32, 64)   256         add_18[0][0]                     \n",
            "__________________________________________________________________________________________________\n",
            "activation_44 (Activation)      (None, 32, 32, 64)   0           batch_normalization_44[0][0]     \n",
            "__________________________________________________________________________________________________\n",
            "conv2d_50 (Conv2D)              (None, 32, 32, 64)   36928       activation_44[0][0]              \n",
            "__________________________________________________________________________________________________\n",
            "batch_normalization_45 (BatchNo (None, 32, 32, 64)   256         conv2d_50[0][0]                  \n",
            "__________________________________________________________________________________________________\n",
            "activation_45 (Activation)      (None, 32, 32, 64)   0           batch_normalization_45[0][0]     \n",
            "__________________________________________________________________________________________________\n",
            "conv2d_51 (Conv2D)              (None, 32, 32, 64)   36928       activation_45[0][0]              \n",
            "__________________________________________________________________________________________________\n",
            "add_19 (Add)                    (None, 32, 32, 64)   0           add_18[0][0]                     \n",
            "                                                                 conv2d_51[0][0]                  \n",
            "__________________________________________________________________________________________________\n",
            "batch_normalization_46 (BatchNo (None, 32, 32, 64)   256         add_19[0][0]                     \n",
            "__________________________________________________________________________________________________\n",
            "activation_46 (Activation)      (None, 32, 32, 64)   0           batch_normalization_46[0][0]     \n",
            "__________________________________________________________________________________________________\n",
            "conv2d_52 (Conv2D)              (None, 16, 16, 128)  73856       activation_46[0][0]              \n",
            "__________________________________________________________________________________________________\n",
            "batch_normalization_47 (BatchNo (None, 16, 16, 128)  512         conv2d_52[0][0]                  \n",
            "__________________________________________________________________________________________________\n",
            "activation_47 (Activation)      (None, 16, 16, 128)  0           batch_normalization_47[0][0]     \n",
            "__________________________________________________________________________________________________\n",
            "conv2d_54 (Conv2D)              (None, 16, 16, 128)  8320        add_19[0][0]                     \n",
            "__________________________________________________________________________________________________\n",
            "conv2d_53 (Conv2D)              (None, 16, 16, 128)  147584      activation_47[0][0]              \n",
            "__________________________________________________________________________________________________\n",
            "add_20 (Add)                    (None, 16, 16, 128)  0           conv2d_54[0][0]                  \n",
            "                                                                 conv2d_53[0][0]                  \n",
            "__________________________________________________________________________________________________\n",
            "batch_normalization_48 (BatchNo (None, 16, 16, 128)  512         add_20[0][0]                     \n",
            "__________________________________________________________________________________________________\n",
            "activation_48 (Activation)      (None, 16, 16, 128)  0           batch_normalization_48[0][0]     \n",
            "__________________________________________________________________________________________________\n",
            "conv2d_55 (Conv2D)              (None, 16, 16, 128)  147584      activation_48[0][0]              \n",
            "__________________________________________________________________________________________________\n",
            "batch_normalization_49 (BatchNo (None, 16, 16, 128)  512         conv2d_55[0][0]                  \n",
            "__________________________________________________________________________________________________\n",
            "activation_49 (Activation)      (None, 16, 16, 128)  0           batch_normalization_49[0][0]     \n",
            "__________________________________________________________________________________________________\n",
            "conv2d_56 (Conv2D)              (None, 16, 16, 128)  147584      activation_49[0][0]              \n",
            "__________________________________________________________________________________________________\n",
            "add_21 (Add)                    (None, 16, 16, 128)  0           add_20[0][0]                     \n",
            "                                                                 conv2d_56[0][0]                  \n",
            "__________________________________________________________________________________________________\n",
            "batch_normalization_50 (BatchNo (None, 16, 16, 128)  512         add_21[0][0]                     \n",
            "__________________________________________________________________________________________________\n",
            "activation_50 (Activation)      (None, 16, 16, 128)  0           batch_normalization_50[0][0]     \n",
            "__________________________________________________________________________________________________\n",
            "conv2d_57 (Conv2D)              (None, 16, 16, 128)  147584      activation_50[0][0]              \n",
            "__________________________________________________________________________________________________\n",
            "batch_normalization_51 (BatchNo (None, 16, 16, 128)  512         conv2d_57[0][0]                  \n",
            "__________________________________________________________________________________________________\n",
            "activation_51 (Activation)      (None, 16, 16, 128)  0           batch_normalization_51[0][0]     \n",
            "__________________________________________________________________________________________________\n",
            "conv2d_58 (Conv2D)              (None, 16, 16, 128)  147584      activation_51[0][0]              \n",
            "__________________________________________________________________________________________________\n",
            "add_22 (Add)                    (None, 16, 16, 128)  0           add_21[0][0]                     \n",
            "                                                                 conv2d_58[0][0]                  \n",
            "__________________________________________________________________________________________________\n",
            "batch_normalization_52 (BatchNo (None, 16, 16, 128)  512         add_22[0][0]                     \n",
            "__________________________________________________________________________________________________\n",
            "activation_52 (Activation)      (None, 16, 16, 128)  0           batch_normalization_52[0][0]     \n",
            "__________________________________________________________________________________________________\n",
            "conv2d_59 (Conv2D)              (None, 16, 16, 128)  147584      activation_52[0][0]              \n",
            "__________________________________________________________________________________________________\n",
            "batch_normalization_53 (BatchNo (None, 16, 16, 128)  512         conv2d_59[0][0]                  \n",
            "__________________________________________________________________________________________________\n",
            "activation_53 (Activation)      (None, 16, 16, 128)  0           batch_normalization_53[0][0]     \n",
            "__________________________________________________________________________________________________\n",
            "conv2d_60 (Conv2D)              (None, 16, 16, 128)  147584      activation_53[0][0]              \n",
            "__________________________________________________________________________________________________\n",
            "add_23 (Add)                    (None, 16, 16, 128)  0           add_22[0][0]                     \n",
            "                                                                 conv2d_60[0][0]                  \n",
            "__________________________________________________________________________________________________\n",
            "batch_normalization_54 (BatchNo (None, 16, 16, 128)  512         add_23[0][0]                     \n",
            "__________________________________________________________________________________________________\n",
            "activation_54 (Activation)      (None, 16, 16, 128)  0           batch_normalization_54[0][0]     \n",
            "__________________________________________________________________________________________________\n",
            "conv2d_61 (Conv2D)              (None, 8, 8, 256)    295168      activation_54[0][0]              \n",
            "__________________________________________________________________________________________________\n",
            "batch_normalization_55 (BatchNo (None, 8, 8, 256)    1024        conv2d_61[0][0]                  \n",
            "__________________________________________________________________________________________________\n",
            "activation_55 (Activation)      (None, 8, 8, 256)    0           batch_normalization_55[0][0]     \n",
            "__________________________________________________________________________________________________\n",
            "conv2d_63 (Conv2D)              (None, 8, 8, 256)    33024       add_23[0][0]                     \n",
            "__________________________________________________________________________________________________\n",
            "conv2d_62 (Conv2D)              (None, 8, 8, 256)    590080      activation_55[0][0]              \n",
            "__________________________________________________________________________________________________\n",
            "add_24 (Add)                    (None, 8, 8, 256)    0           conv2d_63[0][0]                  \n",
            "                                                                 conv2d_62[0][0]                  \n",
            "__________________________________________________________________________________________________\n",
            "batch_normalization_56 (BatchNo (None, 8, 8, 256)    1024        add_24[0][0]                     \n",
            "__________________________________________________________________________________________________\n",
            "activation_56 (Activation)      (None, 8, 8, 256)    0           batch_normalization_56[0][0]     \n",
            "__________________________________________________________________________________________________\n",
            "conv2d_64 (Conv2D)              (None, 8, 8, 256)    590080      activation_56[0][0]              \n",
            "__________________________________________________________________________________________________\n",
            "batch_normalization_57 (BatchNo (None, 8, 8, 256)    1024        conv2d_64[0][0]                  \n",
            "__________________________________________________________________________________________________\n",
            "activation_57 (Activation)      (None, 8, 8, 256)    0           batch_normalization_57[0][0]     \n",
            "__________________________________________________________________________________________________\n",
            "conv2d_65 (Conv2D)              (None, 8, 8, 256)    590080      activation_57[0][0]              \n",
            "__________________________________________________________________________________________________\n",
            "add_25 (Add)                    (None, 8, 8, 256)    0           add_24[0][0]                     \n",
            "                                                                 conv2d_65[0][0]                  \n",
            "__________________________________________________________________________________________________\n",
            "batch_normalization_58 (BatchNo (None, 8, 8, 256)    1024        add_25[0][0]                     \n",
            "__________________________________________________________________________________________________\n",
            "activation_58 (Activation)      (None, 8, 8, 256)    0           batch_normalization_58[0][0]     \n",
            "__________________________________________________________________________________________________\n",
            "conv2d_66 (Conv2D)              (None, 8, 8, 256)    590080      activation_58[0][0]              \n",
            "__________________________________________________________________________________________________\n",
            "batch_normalization_59 (BatchNo (None, 8, 8, 256)    1024        conv2d_66[0][0]                  \n",
            "__________________________________________________________________________________________________\n",
            "activation_59 (Activation)      (None, 8, 8, 256)    0           batch_normalization_59[0][0]     \n",
            "__________________________________________________________________________________________________\n",
            "conv2d_67 (Conv2D)              (None, 8, 8, 256)    590080      activation_59[0][0]              \n",
            "__________________________________________________________________________________________________\n",
            "add_26 (Add)                    (None, 8, 8, 256)    0           add_25[0][0]                     \n",
            "                                                                 conv2d_67[0][0]                  \n",
            "__________________________________________________________________________________________________\n",
            "batch_normalization_60 (BatchNo (None, 8, 8, 256)    1024        add_26[0][0]                     \n",
            "__________________________________________________________________________________________________\n",
            "activation_60 (Activation)      (None, 8, 8, 256)    0           batch_normalization_60[0][0]     \n",
            "__________________________________________________________________________________________________\n",
            "conv2d_68 (Conv2D)              (None, 8, 8, 256)    590080      activation_60[0][0]              \n",
            "__________________________________________________________________________________________________\n",
            "batch_normalization_61 (BatchNo (None, 8, 8, 256)    1024        conv2d_68[0][0]                  \n",
            "__________________________________________________________________________________________________\n",
            "activation_61 (Activation)      (None, 8, 8, 256)    0           batch_normalization_61[0][0]     \n",
            "__________________________________________________________________________________________________\n",
            "conv2d_69 (Conv2D)              (None, 8, 8, 256)    590080      activation_61[0][0]              \n",
            "__________________________________________________________________________________________________\n",
            "add_27 (Add)                    (None, 8, 8, 256)    0           add_26[0][0]                     \n",
            "                                                                 conv2d_69[0][0]                  \n",
            "__________________________________________________________________________________________________\n",
            "batch_normalization_62 (BatchNo (None, 8, 8, 256)    1024        add_27[0][0]                     \n",
            "__________________________________________________________________________________________________\n",
            "activation_62 (Activation)      (None, 8, 8, 256)    0           batch_normalization_62[0][0]     \n",
            "__________________________________________________________________________________________________\n",
            "conv2d_70 (Conv2D)              (None, 8, 8, 256)    590080      activation_62[0][0]              \n",
            "__________________________________________________________________________________________________\n",
            "batch_normalization_63 (BatchNo (None, 8, 8, 256)    1024        conv2d_70[0][0]                  \n",
            "__________________________________________________________________________________________________\n",
            "activation_63 (Activation)      (None, 8, 8, 256)    0           batch_normalization_63[0][0]     \n",
            "__________________________________________________________________________________________________\n",
            "conv2d_71 (Conv2D)              (None, 8, 8, 256)    590080      activation_63[0][0]              \n",
            "__________________________________________________________________________________________________\n",
            "add_28 (Add)                    (None, 8, 8, 256)    0           add_27[0][0]                     \n",
            "                                                                 conv2d_71[0][0]                  \n",
            "__________________________________________________________________________________________________\n",
            "batch_normalization_64 (BatchNo (None, 8, 8, 256)    1024        add_28[0][0]                     \n",
            "__________________________________________________________________________________________________\n",
            "activation_64 (Activation)      (None, 8, 8, 256)    0           batch_normalization_64[0][0]     \n",
            "__________________________________________________________________________________________________\n",
            "conv2d_72 (Conv2D)              (None, 8, 8, 256)    590080      activation_64[0][0]              \n",
            "__________________________________________________________________________________________________\n",
            "batch_normalization_65 (BatchNo (None, 8, 8, 256)    1024        conv2d_72[0][0]                  \n",
            "__________________________________________________________________________________________________\n",
            "activation_65 (Activation)      (None, 8, 8, 256)    0           batch_normalization_65[0][0]     \n",
            "__________________________________________________________________________________________________\n",
            "conv2d_73 (Conv2D)              (None, 8, 8, 256)    590080      activation_65[0][0]              \n",
            "__________________________________________________________________________________________________\n",
            "add_29 (Add)                    (None, 8, 8, 256)    0           add_28[0][0]                     \n",
            "                                                                 conv2d_73[0][0]                  \n",
            "__________________________________________________________________________________________________\n",
            "batch_normalization_66 (BatchNo (None, 8, 8, 256)    1024        add_29[0][0]                     \n",
            "__________________________________________________________________________________________________\n",
            "activation_66 (Activation)      (None, 8, 8, 256)    0           batch_normalization_66[0][0]     \n",
            "__________________________________________________________________________________________________\n",
            "conv2d_74 (Conv2D)              (None, 4, 4, 512)    1180160     activation_66[0][0]              \n",
            "__________________________________________________________________________________________________\n",
            "batch_normalization_67 (BatchNo (None, 4, 4, 512)    2048        conv2d_74[0][0]                  \n",
            "__________________________________________________________________________________________________\n",
            "activation_67 (Activation)      (None, 4, 4, 512)    0           batch_normalization_67[0][0]     \n",
            "__________________________________________________________________________________________________\n",
            "conv2d_76 (Conv2D)              (None, 4, 4, 512)    131584      add_29[0][0]                     \n",
            "__________________________________________________________________________________________________\n",
            "conv2d_75 (Conv2D)              (None, 4, 4, 512)    2359808     activation_67[0][0]              \n",
            "__________________________________________________________________________________________________\n",
            "add_30 (Add)                    (None, 4, 4, 512)    0           conv2d_76[0][0]                  \n",
            "                                                                 conv2d_75[0][0]                  \n",
            "__________________________________________________________________________________________________\n",
            "batch_normalization_68 (BatchNo (None, 4, 4, 512)    2048        add_30[0][0]                     \n",
            "__________________________________________________________________________________________________\n",
            "activation_68 (Activation)      (None, 4, 4, 512)    0           batch_normalization_68[0][0]     \n",
            "__________________________________________________________________________________________________\n",
            "conv2d_77 (Conv2D)              (None, 4, 4, 512)    2359808     activation_68[0][0]              \n",
            "__________________________________________________________________________________________________\n",
            "batch_normalization_69 (BatchNo (None, 4, 4, 512)    2048        conv2d_77[0][0]                  \n",
            "__________________________________________________________________________________________________\n",
            "activation_69 (Activation)      (None, 4, 4, 512)    0           batch_normalization_69[0][0]     \n",
            "__________________________________________________________________________________________________\n",
            "conv2d_78 (Conv2D)              (None, 4, 4, 512)    2359808     activation_69[0][0]              \n",
            "__________________________________________________________________________________________________\n",
            "add_31 (Add)                    (None, 4, 4, 512)    0           add_30[0][0]                     \n",
            "                                                                 conv2d_78[0][0]                  \n",
            "__________________________________________________________________________________________________\n",
            "batch_normalization_70 (BatchNo (None, 4, 4, 512)    2048        add_31[0][0]                     \n",
            "__________________________________________________________________________________________________\n",
            "activation_70 (Activation)      (None, 4, 4, 512)    0           batch_normalization_70[0][0]     \n",
            "__________________________________________________________________________________________________\n",
            "conv2d_79 (Conv2D)              (None, 4, 4, 512)    2359808     activation_70[0][0]              \n",
            "__________________________________________________________________________________________________\n",
            "batch_normalization_71 (BatchNo (None, 4, 4, 512)    2048        conv2d_79[0][0]                  \n",
            "__________________________________________________________________________________________________\n",
            "activation_71 (Activation)      (None, 4, 4, 512)    0           batch_normalization_71[0][0]     \n",
            "__________________________________________________________________________________________________\n",
            "conv2d_80 (Conv2D)              (None, 4, 4, 512)    2359808     activation_71[0][0]              \n",
            "__________________________________________________________________________________________________\n",
            "add_32 (Add)                    (None, 4, 4, 512)    0           add_31[0][0]                     \n",
            "                                                                 conv2d_80[0][0]                  \n",
            "__________________________________________________________________________________________________\n",
            "batch_normalization_72 (BatchNo (None, 4, 4, 512)    2048        add_32[0][0]                     \n",
            "__________________________________________________________________________________________________\n",
            "activation_72 (Activation)      (None, 4, 4, 512)    0           batch_normalization_72[0][0]     \n",
            "__________________________________________________________________________________________________\n",
            "average_pooling2d_2 (AveragePoo (None, 1, 1, 512)    0           activation_72[0][0]              \n",
            "__________________________________________________________________________________________________\n",
            "conv2d_81 (Conv2D)              (None, 1, 1, 1024)   525312      average_pooling2d_2[0][0]        \n",
            "__________________________________________________________________________________________________\n",
            "batch_normalization_73 (BatchNo (None, 1, 1, 1024)   4096        conv2d_81[0][0]                  \n",
            "__________________________________________________________________________________________________\n",
            "activation_73 (Activation)      (None, 1, 1, 1024)   0           batch_normalization_73[0][0]     \n",
            "__________________________________________________________________________________________________\n",
            "conv2d_82 (Conv2D)              (None, 1, 1, 200)    205000      activation_73[0][0]              \n",
            "__________________________________________________________________________________________________\n",
            "batch_normalization_74 (BatchNo (None, 1, 1, 200)    800         conv2d_82[0][0]                  \n",
            "__________________________________________________________________________________________________\n",
            "activation_74 (Activation)      (None, 1, 1, 200)    0           batch_normalization_74[0][0]     \n",
            "__________________________________________________________________________________________________\n",
            "global_average_pooling2d_1 (Glo (None, 200)          0           activation_74[0][0]              \n",
            "__________________________________________________________________________________________________\n",
            "activation_75 (Activation)      (None, 200)          0           global_average_pooling2d_1[0][0] \n",
            "==================================================================================================\n",
            "Total params: 22,531,752\n",
            "Trainable params: 22,513,304\n",
            "Non-trainable params: 18,448\n",
            "__________________________________________________________________________________________________\n"
          ],
          "name": "stdout"
        }
      ]
    },
    {
      "metadata": {
        "id": "jEiJqGKspY9X",
        "colab_type": "code",
        "outputId": "a62289fe-de99-473b-fe88-652210d398d1",
        "colab": {
          "base_uri": "https://localhost:8080/",
          "height": 7701
        }
      },
      "cell_type": "code",
      "source": [
        "# Save Model weight and Architecture in a separate files\n",
        "# serialize model to JSON\n",
        "model_json = model.to_json()\n",
        "with open(model_arch_path, \"w\") as json_file:\n",
        "    json_file.write(model_json)\n",
        "print(\"Saved model to disk\")  \n",
        "\n",
        "# fit model\n",
        "\n",
        "model.fit_generator(train_generator, epochs=epochs, steps_per_epoch=batch_size,\n",
        "                    validation_steps=batch_size, validation_data=validation_generator,\n",
        "                    callbacks=[cp_callback,clr])\n",
        "\n",
        "  \n",
        "# serialize weights to HDF5\n",
        "model.save_weights(model_weights_path)\n",
        "print(\"Saved model to disk\")\n"
      ],
      "execution_count": 0,
      "outputs": [
        {
          "output_type": "stream",
          "text": [
            "Saved model to disk\n",
            "WARNING:tensorflow:From /usr/local/lib/python3.6/dist-packages/tensorflow/python/ops/math_ops.py:3066: to_int32 (from tensorflow.python.ops.math_ops) is deprecated and will be removed in a future version.\n",
            "Instructions for updating:\n",
            "Use tf.cast instead.\n",
            "Epoch 1/500\n",
            "128/128 [==============================] - 216s 2s/step - loss: 6.8263 - acc: 0.0360 - val_loss: 6.7012 - val_acc: 0.0215\n",
            "Epoch 2/500\n",
            "128/128 [==============================] - 193s 2s/step - loss: 5.8030 - acc: 0.0646 - val_loss: 6.0661 - val_acc: 0.0313\n",
            "Epoch 3/500\n",
            "128/128 [==============================] - 194s 2s/step - loss: 5.2549 - acc: 0.0860 - val_loss: 6.7430 - val_acc: 0.0198\n",
            "Epoch 4/500\n",
            "128/128 [==============================] - 195s 2s/step - loss: 4.9542 - acc: 0.1027 - val_loss: 6.0699 - val_acc: 0.0354\n",
            "Epoch 5/500\n",
            "128/128 [==============================] - 195s 2s/step - loss: 4.7886 - acc: 0.1140 - val_loss: 5.7866 - val_acc: 0.0370\n",
            "\n",
            "Epoch 00005: saving model to /content/gdrive/My Drive/EIP3/resnet34/cp-0005.hdf5\n",
            "Epoch 6/500\n",
            "128/128 [==============================] - 194s 2s/step - loss: 4.6654 - acc: 0.1207 - val_loss: 6.6151 - val_acc: 0.0455\n",
            "Epoch 7/500\n",
            "128/128 [==============================] - 194s 2s/step - loss: 4.5975 - acc: 0.1282 - val_loss: 5.0812 - val_acc: 0.0796\n",
            "Epoch 8/500\n",
            "128/128 [==============================] - 195s 2s/step - loss: 4.5547 - acc: 0.1270 - val_loss: 6.0204 - val_acc: 0.0519\n",
            "Epoch 9/500\n",
            "128/128 [==============================] - 195s 2s/step - loss: 4.5089 - acc: 0.1328 - val_loss: 5.8259 - val_acc: 0.0462\n",
            "Epoch 10/500\n",
            "128/128 [==============================] - 194s 2s/step - loss: 4.5109 - acc: 0.1299 - val_loss: 7.8342 - val_acc: 0.0359\n",
            "\n",
            "Epoch 00010: saving model to /content/gdrive/My Drive/EIP3/resnet34/cp-0010.hdf5\n",
            "Epoch 11/500\n",
            "128/128 [==============================] - 195s 2s/step - loss: 4.5084 - acc: 0.1362 - val_loss: 5.6799 - val_acc: 0.0404\n",
            "Epoch 12/500\n",
            "128/128 [==============================] - 195s 2s/step - loss: 4.5143 - acc: 0.1378 - val_loss: 6.5017 - val_acc: 0.0288\n",
            "Epoch 13/500\n",
            "128/128 [==============================] - 194s 2s/step - loss: 4.5116 - acc: 0.1359 - val_loss: 5.7199 - val_acc: 0.0447\n",
            "Epoch 14/500\n",
            "128/128 [==============================] - 205s 2s/step - loss: 4.5316 - acc: 0.1385 - val_loss: 5.4427 - val_acc: 0.0571\n",
            "Epoch 15/500\n",
            "128/128 [==============================] - 194s 2s/step - loss: 4.5444 - acc: 0.1356 - val_loss: 6.6984 - val_acc: 0.0342\n",
            "\n",
            "Epoch 00015: saving model to /content/gdrive/My Drive/EIP3/resnet34/cp-0015.hdf5\n",
            "Epoch 16/500\n",
            "128/128 [==============================] - 195s 2s/step - loss: 4.5123 - acc: 0.1400 - val_loss: 7.1584 - val_acc: 0.0289\n",
            "Epoch 17/500\n",
            "128/128 [==============================] - 194s 2s/step - loss: 4.5171 - acc: 0.1400 - val_loss: 5.8524 - val_acc: 0.0490\n",
            "Epoch 18/500\n",
            "128/128 [==============================] - 193s 2s/step - loss: 4.4401 - acc: 0.1471 - val_loss: 6.7813 - val_acc: 0.0444\n",
            "Epoch 19/500\n",
            "128/128 [==============================] - 194s 2s/step - loss: 4.4117 - acc: 0.1533 - val_loss: 5.0514 - val_acc: 0.0920\n",
            "Epoch 20/500\n",
            "128/128 [==============================] - 194s 2s/step - loss: 4.3567 - acc: 0.1534 - val_loss: 6.5495 - val_acc: 0.0408\n",
            "\n",
            "Epoch 00020: saving model to /content/gdrive/My Drive/EIP3/resnet34/cp-0020.hdf5\n",
            "Epoch 21/500\n",
            "128/128 [==============================] - 195s 2s/step - loss: 4.3092 - acc: 0.1637 - val_loss: 5.5347 - val_acc: 0.0659\n",
            "Epoch 22/500\n",
            "128/128 [==============================] - 194s 2s/step - loss: 4.2223 - acc: 0.1758 - val_loss: 5.2121 - val_acc: 0.0987\n",
            "Epoch 23/500\n",
            "128/128 [==============================] - 194s 2s/step - loss: 4.1918 - acc: 0.1768 - val_loss: 5.0157 - val_acc: 0.0825\n",
            "Epoch 24/500\n",
            "128/128 [==============================] - 194s 2s/step - loss: 4.0918 - acc: 0.1911 - val_loss: 6.0447 - val_acc: 0.0522\n",
            "Epoch 25/500\n",
            "128/128 [==============================] - 194s 2s/step - loss: 4.0538 - acc: 0.1990 - val_loss: 4.7568 - val_acc: 0.1106\n",
            "\n",
            "Epoch 00025: saving model to /content/gdrive/My Drive/EIP3/resnet34/cp-0025.hdf5\n",
            "Epoch 26/500\n",
            "128/128 [==============================] - 195s 2s/step - loss: 3.9396 - acc: 0.2164 - val_loss: 4.5547 - val_acc: 0.1332\n",
            "Epoch 27/500\n",
            "128/128 [==============================] - 195s 2s/step - loss: 3.9090 - acc: 0.2165 - val_loss: 4.9179 - val_acc: 0.1037\n",
            "Epoch 28/500\n",
            "128/128 [==============================] - 195s 2s/step - loss: 3.8416 - acc: 0.2266 - val_loss: 4.4140 - val_acc: 0.1467\n",
            "Epoch 29/500\n",
            "128/128 [==============================] - 194s 2s/step - loss: 3.7540 - acc: 0.2440 - val_loss: 4.5104 - val_acc: 0.1417\n",
            "Epoch 30/500\n",
            "128/128 [==============================] - 194s 2s/step - loss: 3.6575 - acc: 0.2510 - val_loss: 4.3457 - val_acc: 0.1586\n",
            "\n",
            "Epoch 00030: saving model to /content/gdrive/My Drive/EIP3/resnet34/cp-0030.hdf5\n",
            "Epoch 31/500\n",
            "128/128 [==============================] - 195s 2s/step - loss: 3.5818 - acc: 0.2619 - val_loss: 4.4277 - val_acc: 0.1618\n",
            "Epoch 32/500\n",
            "128/128 [==============================] - 194s 2s/step - loss: 3.4602 - acc: 0.2854 - val_loss: 4.9759 - val_acc: 0.1193\n",
            "Epoch 33/500\n",
            "128/128 [==============================] - 195s 2s/step - loss: 3.4918 - acc: 0.2816 - val_loss: 4.2833 - val_acc: 0.1668\n",
            "Epoch 34/500\n",
            "128/128 [==============================] - 194s 2s/step - loss: 3.4934 - acc: 0.2795 - val_loss: 4.2729 - val_acc: 0.1813\n",
            "Epoch 35/500\n",
            "128/128 [==============================] - 194s 2s/step - loss: 3.5208 - acc: 0.2734 - val_loss: 4.4102 - val_acc: 0.1670\n",
            "\n",
            "Epoch 00035: saving model to /content/gdrive/My Drive/EIP3/resnet34/cp-0035.hdf5\n",
            "Epoch 36/500\n",
            "128/128 [==============================] - 195s 2s/step - loss: 3.5460 - acc: 0.2676 - val_loss: 4.6353 - val_acc: 0.1385\n",
            "Epoch 37/500\n",
            "128/128 [==============================] - 193s 2s/step - loss: 3.5157 - acc: 0.2777 - val_loss: 4.3210 - val_acc: 0.1627\n",
            "Epoch 38/500\n",
            "128/128 [==============================] - 196s 2s/step - loss: 3.5248 - acc: 0.2726 - val_loss: 5.2330 - val_acc: 0.1145\n",
            "Epoch 39/500\n",
            "128/128 [==============================] - 194s 2s/step - loss: 3.5291 - acc: 0.2786 - val_loss: 4.3832 - val_acc: 0.1816\n",
            "Epoch 40/500\n",
            "128/128 [==============================] - 194s 2s/step - loss: 3.5757 - acc: 0.2690 - val_loss: 4.5825 - val_acc: 0.1683\n",
            "\n",
            "Epoch 00040: saving model to /content/gdrive/My Drive/EIP3/resnet34/cp-0040.hdf5\n",
            "Epoch 41/500\n",
            "128/128 [==============================] - 194s 2s/step - loss: 3.5926 - acc: 0.2631 - val_loss: 5.3841 - val_acc: 0.1077\n",
            "Epoch 42/500\n",
            "128/128 [==============================] - 208s 2s/step - loss: 3.5856 - acc: 0.2711 - val_loss: 4.3496 - val_acc: 0.1710\n",
            "Epoch 43/500\n",
            "128/128 [==============================] - 193s 2s/step - loss: 3.6171 - acc: 0.2612 - val_loss: 5.4745 - val_acc: 0.1080\n",
            "Epoch 44/500\n",
            "128/128 [==============================] - 193s 2s/step - loss: 3.5733 - acc: 0.2747 - val_loss: 6.6696 - val_acc: 0.0742\n",
            "Epoch 45/500\n",
            "128/128 [==============================] - 194s 2s/step - loss: 3.6290 - acc: 0.2725 - val_loss: 4.8362 - val_acc: 0.1305\n",
            "\n",
            "Epoch 00045: saving model to /content/gdrive/My Drive/EIP3/resnet34/cp-0045.hdf5\n",
            "Epoch 46/500\n",
            "128/128 [==============================] - 194s 2s/step - loss: 3.6463 - acc: 0.2643 - val_loss: 5.2545 - val_acc: 0.1154\n",
            "Epoch 47/500\n",
            "128/128 [==============================] - 193s 2s/step - loss: 3.6766 - acc: 0.2623 - val_loss: 6.9587 - val_acc: 0.0725\n",
            "Epoch 48/500\n",
            "128/128 [==============================] - 193s 2s/step - loss: 3.6588 - acc: 0.2697 - val_loss: 6.1318 - val_acc: 0.0906\n",
            "Epoch 49/500\n",
            "128/128 [==============================] - 192s 1s/step - loss: 3.6162 - acc: 0.2720 - val_loss: 5.9235 - val_acc: 0.0860\n",
            "Epoch 50/500\n",
            "128/128 [==============================] - 194s 2s/step - loss: 3.5487 - acc: 0.2857 - val_loss: 5.0337 - val_acc: 0.1219\n",
            "\n",
            "Epoch 00050: saving model to /content/gdrive/My Drive/EIP3/resnet34/cp-0050.hdf5\n",
            "Epoch 51/500\n",
            "128/128 [==============================] - 193s 2s/step - loss: 3.5460 - acc: 0.2917 - val_loss: 6.1137 - val_acc: 0.0758\n",
            "Epoch 52/500\n",
            "128/128 [==============================] - 194s 2s/step - loss: 3.5239 - acc: 0.2899 - val_loss: 5.0528 - val_acc: 0.1281\n",
            "Epoch 53/500\n",
            "128/128 [==============================] - 193s 2s/step - loss: 3.4744 - acc: 0.3004 - val_loss: 5.0957 - val_acc: 0.1330\n",
            "Epoch 54/500\n",
            "128/128 [==============================] - 194s 2s/step - loss: 3.4788 - acc: 0.2938 - val_loss: 5.9363 - val_acc: 0.0953\n",
            "Epoch 55/500\n",
            "128/128 [==============================] - 193s 2s/step - loss: 3.4151 - acc: 0.3046 - val_loss: 4.7549 - val_acc: 0.1341\n",
            "\n",
            "Epoch 00055: saving model to /content/gdrive/My Drive/EIP3/resnet34/cp-0055.hdf5\n",
            "Epoch 56/500\n",
            "128/128 [==============================] - 193s 2s/step - loss: 3.3282 - acc: 0.3163 - val_loss: 4.5516 - val_acc: 0.1751\n",
            "Epoch 57/500\n",
            "128/128 [==============================] - 193s 2s/step - loss: 3.3026 - acc: 0.3226 - val_loss: 4.2291 - val_acc: 0.2072\n",
            "Epoch 58/500\n",
            "128/128 [==============================] - 194s 2s/step - loss: 3.2897 - acc: 0.3287 - val_loss: 5.4490 - val_acc: 0.1231\n",
            "Epoch 59/500\n",
            "128/128 [==============================] - 194s 2s/step - loss: 3.2835 - acc: 0.3218 - val_loss: 5.5751 - val_acc: 0.1284\n",
            "Epoch 60/500\n",
            "128/128 [==============================] - 193s 2s/step - loss: 3.2171 - acc: 0.3389 - val_loss: 3.7370 - val_acc: 0.2615\n",
            "\n",
            "Epoch 00060: saving model to /content/gdrive/My Drive/EIP3/resnet34/cp-0060.hdf5\n",
            "Epoch 61/500\n",
            "128/128 [==============================] - 192s 2s/step - loss: 3.1943 - acc: 0.3448 - val_loss: 3.9910 - val_acc: 0.2385\n",
            "Epoch 62/500\n",
            "128/128 [==============================] - 191s 1s/step - loss: 3.0676 - acc: 0.3617 - val_loss: 4.1337 - val_acc: 0.2179\n",
            "Epoch 63/500\n",
            "128/128 [==============================] - 192s 1s/step - loss: 3.0461 - acc: 0.3660 - val_loss: 4.5061 - val_acc: 0.1871\n",
            "Epoch 64/500\n",
            "128/128 [==============================] - 192s 1s/step - loss: 3.0424 - acc: 0.3676 - val_loss: 3.8906 - val_acc: 0.2517\n",
            "Epoch 65/500\n",
            "128/128 [==============================] - 192s 1s/step - loss: 3.0346 - acc: 0.3671 - val_loss: 3.8230 - val_acc: 0.2587\n",
            "\n",
            "Epoch 00065: saving model to /content/gdrive/My Drive/EIP3/resnet34/cp-0065.hdf5\n",
            "Epoch 66/500\n",
            "128/128 [==============================] - 193s 2s/step - loss: 3.0496 - acc: 0.3675 - val_loss: 4.6339 - val_acc: 0.1831\n",
            "Epoch 67/500\n",
            "128/128 [==============================] - 191s 1s/step - loss: 3.0867 - acc: 0.3569 - val_loss: 4.3936 - val_acc: 0.1989\n",
            "Epoch 68/500\n",
            "128/128 [==============================] - 191s 1s/step - loss: 3.0493 - acc: 0.3677 - val_loss: 5.2199 - val_acc: 0.1394\n",
            "Epoch 69/500\n",
            "128/128 [==============================] - 192s 1s/step - loss: 3.0539 - acc: 0.3635 - val_loss: 4.6149 - val_acc: 0.1777\n",
            "Epoch 70/500\n",
            "128/128 [==============================] - 191s 1s/step - loss: 3.0794 - acc: 0.3588 - val_loss: 4.0624 - val_acc: 0.2337\n",
            "\n",
            "Epoch 00070: saving model to /content/gdrive/My Drive/EIP3/resnet34/cp-0070.hdf5\n",
            "Epoch 71/500\n",
            "128/128 [==============================] - 191s 1s/step - loss: 3.1081 - acc: 0.3538 - val_loss: 4.6561 - val_acc: 0.1894\n",
            "Epoch 72/500\n",
            "128/128 [==============================] - 192s 2s/step - loss: 3.1276 - acc: 0.3554 - val_loss: 4.5804 - val_acc: 0.1883\n",
            "Epoch 73/500\n",
            "128/128 [==============================] - 190s 1s/step - loss: 3.1047 - acc: 0.3566 - val_loss: 4.1071 - val_acc: 0.2353\n",
            "Epoch 74/500\n",
            "128/128 [==============================] - 192s 1s/step - loss: 3.0602 - acc: 0.3638 - val_loss: 5.1405 - val_acc: 0.1464\n",
            "Epoch 75/500\n",
            "128/128 [==============================] - 191s 1s/step - loss: 3.0977 - acc: 0.3537 - val_loss: 4.6348 - val_acc: 0.1838\n",
            "\n",
            "Epoch 00075: saving model to /content/gdrive/My Drive/EIP3/resnet34/cp-0075.hdf5\n",
            "Epoch 76/500\n",
            "128/128 [==============================] - 192s 1s/step - loss: 3.1721 - acc: 0.3475 - val_loss: 4.0263 - val_acc: 0.2413\n",
            "Epoch 77/500\n",
            "128/128 [==============================] - 192s 2s/step - loss: 3.1561 - acc: 0.3472 - val_loss: 4.6432 - val_acc: 0.1744\n",
            "Epoch 78/500\n",
            "128/128 [==============================] - 191s 1s/step - loss: 3.2014 - acc: 0.3400 - val_loss: 4.3714 - val_acc: 0.2192\n",
            "Epoch 79/500\n",
            "128/128 [==============================] - 192s 1s/step - loss: 3.2358 - acc: 0.3397 - val_loss: 4.9575 - val_acc: 0.1700\n",
            "Epoch 80/500\n",
            "128/128 [==============================] - 191s 1s/step - loss: 3.1285 - acc: 0.3539 - val_loss: 4.5657 - val_acc: 0.1900\n",
            "\n",
            "Epoch 00080: saving model to /content/gdrive/My Drive/EIP3/resnet34/cp-0080.hdf5\n",
            "Epoch 81/500\n",
            "128/128 [==============================] - 192s 1s/step - loss: 3.1045 - acc: 0.3640 - val_loss: 5.0445 - val_acc: 0.1495\n",
            "Epoch 82/500\n",
            "128/128 [==============================] - 192s 1s/step - loss: 3.0881 - acc: 0.3661 - val_loss: 4.4612 - val_acc: 0.1929\n",
            "Epoch 83/500\n",
            "128/128 [==============================] - 192s 2s/step - loss: 3.0983 - acc: 0.3605 - val_loss: 5.4410 - val_acc: 0.1537\n",
            "Epoch 84/500\n",
            "128/128 [==============================] - 192s 1s/step - loss: 3.0881 - acc: 0.3672 - val_loss: 4.7543 - val_acc: 0.1785\n",
            "Epoch 85/500\n",
            "128/128 [==============================] - 192s 2s/step - loss: 3.0638 - acc: 0.3699 - val_loss: 4.4413 - val_acc: 0.1955\n",
            "\n",
            "Epoch 00085: saving model to /content/gdrive/My Drive/EIP3/resnet34/cp-0085.hdf5\n",
            "Epoch 86/500\n",
            "128/128 [==============================] - 191s 1s/step - loss: 3.0258 - acc: 0.3752 - val_loss: 3.8353 - val_acc: 0.2686\n",
            "Epoch 87/500\n",
            "128/128 [==============================] - 192s 1s/step - loss: 2.9470 - acc: 0.3917 - val_loss: 3.9776 - val_acc: 0.2523\n",
            "Epoch 88/500\n",
            "128/128 [==============================] - 190s 1s/step - loss: 2.9474 - acc: 0.3912 - val_loss: 4.3130 - val_acc: 0.2186\n",
            "Epoch 89/500\n",
            "128/128 [==============================] - 192s 1s/step - loss: 2.9381 - acc: 0.3959 - val_loss: 4.6039 - val_acc: 0.1962\n",
            "Epoch 90/500\n",
            "128/128 [==============================] - 192s 2s/step - loss: 2.9525 - acc: 0.3863 - val_loss: 3.7438 - val_acc: 0.2809\n",
            "\n",
            "Epoch 00090: saving model to /content/gdrive/My Drive/EIP3/resnet34/cp-0090.hdf5\n",
            "Epoch 91/500\n",
            "128/128 [==============================] - 192s 1s/step - loss: 2.9328 - acc: 0.3940 - val_loss: 3.9034 - val_acc: 0.2675\n",
            "Epoch 92/500\n",
            "128/128 [==============================] - 190s 1s/step - loss: 2.8594 - acc: 0.4081 - val_loss: 3.4412 - val_acc: 0.3285\n",
            "Epoch 93/500\n",
            "128/128 [==============================] - 192s 1s/step - loss: 2.7892 - acc: 0.4184 - val_loss: 3.5383 - val_acc: 0.3147\n",
            "Epoch 94/500\n",
            "128/128 [==============================] - 191s 1s/step - loss: 2.7678 - acc: 0.4258 - val_loss: 4.1620 - val_acc: 0.2472\n",
            "Epoch 95/500\n",
            "128/128 [==============================] - 192s 2s/step - loss: 2.7992 - acc: 0.4182 - val_loss: 3.9451 - val_acc: 0.2624\n",
            "\n",
            "Epoch 00095: saving model to /content/gdrive/My Drive/EIP3/resnet34/cp-0095.hdf5\n",
            "Epoch 96/500\n",
            "128/128 [==============================] - 193s 2s/step - loss: 2.8073 - acc: 0.4163 - val_loss: 3.4054 - val_acc: 0.3382\n",
            "Epoch 97/500\n",
            "128/128 [==============================] - 192s 1s/step - loss: 2.8150 - acc: 0.4186 - val_loss: 4.4207 - val_acc: 0.2062\n",
            "Epoch 98/500\n",
            "128/128 [==============================] - 192s 1s/step - loss: 2.8041 - acc: 0.4171 - val_loss: 4.1428 - val_acc: 0.2465\n",
            "Epoch 99/500\n",
            "128/128 [==============================] - 191s 1s/step - loss: 2.7293 - acc: 0.4301 - val_loss: 4.3535 - val_acc: 0.2286\n",
            "Epoch 100/500\n",
            "128/128 [==============================] - 191s 1s/step - loss: 2.7634 - acc: 0.4229 - val_loss: 3.7072 - val_acc: 0.2840\n",
            "\n",
            "Epoch 00100: saving model to /content/gdrive/My Drive/EIP3/resnet34/cp-0100.hdf5\n",
            "Epoch 101/500\n",
            "128/128 [==============================] - 192s 2s/step - loss: 2.7776 - acc: 0.4194 - val_loss: 4.2631 - val_acc: 0.2323\n",
            "Epoch 102/500\n",
            "128/128 [==============================] - 192s 1s/step - loss: 2.8629 - acc: 0.4016 - val_loss: 3.5894 - val_acc: 0.2923\n",
            "Epoch 103/500\n",
            "128/128 [==============================] - 192s 2s/step - loss: 2.8608 - acc: 0.4025 - val_loss: 4.2101 - val_acc: 0.2360\n",
            "Epoch 104/500\n",
            "128/128 [==============================] - 191s 1s/step - loss: 2.8554 - acc: 0.4038 - val_loss: 3.9934 - val_acc: 0.2742\n",
            "Epoch 105/500\n",
            "128/128 [==============================] - 191s 1s/step - loss: 2.7897 - acc: 0.4166 - val_loss: 4.1455 - val_acc: 0.2491\n",
            "\n",
            "Epoch 00105: saving model to /content/gdrive/My Drive/EIP3/resnet34/cp-0105.hdf5\n",
            "Epoch 106/500\n",
            "128/128 [==============================] - 192s 1s/step - loss: 2.7846 - acc: 0.4190 - val_loss: 4.0566 - val_acc: 0.2501\n",
            "Epoch 107/500\n",
            "128/128 [==============================] - 192s 1s/step - loss: 2.8524 - acc: 0.4091 - val_loss: 3.7698 - val_acc: 0.2800\n",
            "Epoch 108/500\n",
            "128/128 [==============================] - 191s 1s/step - loss: 2.8488 - acc: 0.4064 - val_loss: 4.2155 - val_acc: 0.2381\n",
            "Epoch 109/500\n",
            "128/128 [==============================] - 192s 1s/step - loss: 2.8728 - acc: 0.4016 - val_loss: 4.2769 - val_acc: 0.2482\n",
            "Epoch 110/500\n",
            "128/128 [==============================] - 192s 1s/step - loss: 2.9037 - acc: 0.3956 - val_loss: 4.6470 - val_acc: 0.2127\n",
            "\n",
            "Epoch 00110: saving model to /content/gdrive/My Drive/EIP3/resnet34/cp-0110.hdf5\n",
            "Epoch 111/500\n",
            "128/128 [==============================] - 192s 2s/step - loss: 2.7891 - acc: 0.4216 - val_loss: 5.0014 - val_acc: 0.1630\n",
            "Epoch 112/500\n",
            "128/128 [==============================] - 191s 1s/step - loss: 2.8172 - acc: 0.4204 - val_loss: 4.2299 - val_acc: 0.2564\n",
            "Epoch 113/500\n",
            "128/128 [==============================] - 191s 1s/step - loss: 2.8368 - acc: 0.4068 - val_loss: 3.7177 - val_acc: 0.2998\n",
            "Epoch 114/500\n",
            "128/128 [==============================] - 192s 2s/step - loss: 2.8227 - acc: 0.4128 - val_loss: 4.0765 - val_acc: 0.2449\n",
            "Epoch 115/500\n",
            "128/128 [==============================] - 190s 1s/step - loss: 2.8295 - acc: 0.4167 - val_loss: 5.2135 - val_acc: 0.1946\n",
            "\n",
            "Epoch 00115: saving model to /content/gdrive/My Drive/EIP3/resnet34/cp-0115.hdf5\n",
            "Epoch 116/500\n",
            "128/128 [==============================] - 191s 1s/step - loss: 2.8169 - acc: 0.4183 - val_loss: 4.0179 - val_acc: 0.2777\n",
            "Epoch 117/500\n",
            "128/128 [==============================] - 191s 1s/step - loss: 2.7248 - acc: 0.4332 - val_loss: 3.4685 - val_acc: 0.3249\n",
            "Epoch 118/500\n",
            "128/128 [==============================] - 191s 1s/step - loss: 2.7020 - acc: 0.4359 - val_loss: 4.8108 - val_acc: 0.2084\n",
            "Epoch 119/500\n",
            "128/128 [==============================] - 191s 1s/step - loss: 2.7318 - acc: 0.4328 - val_loss: 4.4415 - val_acc: 0.2209\n",
            "Epoch 120/500\n",
            "128/128 [==============================] - 192s 1s/step - loss: 2.7119 - acc: 0.4380 - val_loss: 4.0854 - val_acc: 0.2548\n",
            "\n",
            "Epoch 00120: saving model to /content/gdrive/My Drive/EIP3/resnet34/cp-0120.hdf5\n",
            "Epoch 121/500\n",
            "128/128 [==============================] - 191s 1s/step - loss: 2.7311 - acc: 0.4318 - val_loss: 3.6232 - val_acc: 0.3069\n",
            "Epoch 122/500\n",
            "128/128 [==============================] - 190s 1s/step - loss: 2.7227 - acc: 0.4337 - val_loss: 3.7347 - val_acc: 0.2952\n",
            "Epoch 123/500\n",
            "128/128 [==============================] - 189s 1s/step - loss: 2.6410 - acc: 0.4505 - val_loss: 3.4578 - val_acc: 0.3292\n",
            "Epoch 124/500\n",
            "128/128 [==============================] - 190s 1s/step - loss: 2.6250 - acc: 0.4514 - val_loss: 4.5834 - val_acc: 0.2171\n",
            "Epoch 125/500\n",
            "128/128 [==============================] - 191s 1s/step - loss: 2.6184 - acc: 0.4568 - val_loss: 4.3836 - val_acc: 0.2343\n",
            "\n",
            "Epoch 00125: saving model to /content/gdrive/My Drive/EIP3/resnet34/cp-0125.hdf5\n",
            "Epoch 126/500\n",
            "128/128 [==============================] - 190s 1s/step - loss: 2.6212 - acc: 0.4529 - val_loss: 3.5985 - val_acc: 0.3072\n",
            "Epoch 127/500\n",
            "128/128 [==============================] - 189s 1s/step - loss: 2.6607 - acc: 0.4443 - val_loss: 3.9448 - val_acc: 0.2868\n",
            "Epoch 128/500\n",
            "128/128 [==============================] - 190s 1s/step - loss: 2.6394 - acc: 0.4561 - val_loss: 4.0514 - val_acc: 0.2594\n",
            "Epoch 129/500\n",
            "128/128 [==============================] - 189s 1s/step - loss: 2.5849 - acc: 0.4651 - val_loss: 3.4706 - val_acc: 0.3436\n",
            "Epoch 130/500\n",
            "128/128 [==============================] - 191s 1s/step - loss: 2.5675 - acc: 0.4643 - val_loss: 4.0659 - val_acc: 0.2636\n",
            "\n",
            "Epoch 00130: saving model to /content/gdrive/My Drive/EIP3/resnet34/cp-0130.hdf5\n",
            "Epoch 131/500\n",
            "128/128 [==============================] - 189s 1s/step - loss: 2.6162 - acc: 0.4550 - val_loss: 3.9429 - val_acc: 0.2806\n",
            "Epoch 132/500\n",
            "128/128 [==============================] - 190s 1s/step - loss: 2.6271 - acc: 0.4559 - val_loss: 4.3245 - val_acc: 0.2549\n",
            "Epoch 133/500\n",
            "128/128 [==============================] - 191s 1s/step - loss: 2.6514 - acc: 0.4503 - val_loss: 5.3012 - val_acc: 0.1834\n",
            "Epoch 134/500\n",
            "128/128 [==============================] - 191s 1s/step - loss: 2.6403 - acc: 0.4500 - val_loss: 3.2661 - val_acc: 0.3616\n",
            "Epoch 135/500\n",
            "128/128 [==============================] - 189s 1s/step - loss: 2.5878 - acc: 0.4573 - val_loss: 4.6472 - val_acc: 0.2243\n",
            "\n",
            "Epoch 00135: saving model to /content/gdrive/My Drive/EIP3/resnet34/cp-0135.hdf5\n",
            "Epoch 136/500\n",
            "128/128 [==============================] - 190s 1s/step - loss: 2.5817 - acc: 0.4608 - val_loss: 3.1282 - val_acc: 0.3902\n",
            "Epoch 137/500\n",
            "128/128 [==============================] - 191s 1s/step - loss: 2.6124 - acc: 0.4595 - val_loss: 4.0503 - val_acc: 0.2672\n",
            "Epoch 138/500\n",
            "128/128 [==============================] - 191s 1s/step - loss: 2.6384 - acc: 0.4528 - val_loss: 4.1619 - val_acc: 0.2573\n",
            "Epoch 139/500\n",
            "128/128 [==============================] - 191s 1s/step - loss: 2.6656 - acc: 0.4471 - val_loss: 4.3222 - val_acc: 0.2572\n",
            "Epoch 140/500\n",
            "128/128 [==============================] - 192s 1s/step - loss: 2.6648 - acc: 0.4412 - val_loss: 4.7947 - val_acc: 0.2081\n",
            "\n",
            "Epoch 00140: saving model to /content/gdrive/My Drive/EIP3/resnet34/cp-0140.hdf5\n",
            "Epoch 141/500\n",
            "128/128 [==============================] - 192s 1s/step - loss: 2.6421 - acc: 0.4487 - val_loss: 4.0336 - val_acc: 0.2675\n",
            "Epoch 142/500\n",
            "128/128 [==============================] - 191s 1s/step - loss: 2.5958 - acc: 0.4585 - val_loss: 3.7863 - val_acc: 0.2972\n",
            "Epoch 143/500\n",
            "128/128 [==============================] - 192s 1s/step - loss: 2.6526 - acc: 0.4434 - val_loss: 4.1312 - val_acc: 0.2721\n",
            "Epoch 144/500\n",
            "128/128 [==============================] - 191s 1s/step - loss: 2.6313 - acc: 0.4496 - val_loss: 3.9617 - val_acc: 0.2952\n",
            "Epoch 145/500\n",
            "128/128 [==============================] - 192s 1s/step - loss: 2.6105 - acc: 0.4592 - val_loss: 4.5689 - val_acc: 0.2451\n",
            "\n",
            "Epoch 00145: saving model to /content/gdrive/My Drive/EIP3/resnet34/cp-0145.hdf5\n",
            "Epoch 146/500\n",
            "128/128 [==============================] - 191s 1s/step - loss: 2.6345 - acc: 0.4558 - val_loss: 3.9501 - val_acc: 0.2886\n",
            "Epoch 147/500\n",
            "128/128 [==============================] - 191s 1s/step - loss: 2.6119 - acc: 0.4567 - val_loss: 3.6796 - val_acc: 0.3166\n",
            "Epoch 148/500\n",
            "128/128 [==============================] - 191s 1s/step - loss: 2.5414 - acc: 0.4708 - val_loss: 3.7757 - val_acc: 0.3080\n",
            "Epoch 149/500\n",
            "128/128 [==============================] - 191s 1s/step - loss: 2.5557 - acc: 0.4705 - val_loss: 3.5586 - val_acc: 0.3274\n",
            "Epoch 150/500\n",
            "128/128 [==============================] - 191s 1s/step - loss: 2.5654 - acc: 0.4715 - val_loss: 3.3143 - val_acc: 0.3631\n",
            "\n",
            "Epoch 00150: saving model to /content/gdrive/My Drive/EIP3/resnet34/cp-0150.hdf5\n",
            "Epoch 151/500\n",
            "128/128 [==============================] - 191s 1s/step - loss: 2.5676 - acc: 0.4680 - val_loss: 4.8226 - val_acc: 0.2192\n",
            "Epoch 152/500\n",
            "128/128 [==============================] - 191s 1s/step - loss: 2.5794 - acc: 0.4658 - val_loss: 3.6283 - val_acc: 0.3321\n",
            "Epoch 153/500\n",
            "128/128 [==============================] - 191s 1s/step - loss: 2.5792 - acc: 0.4657 - val_loss: 3.6328 - val_acc: 0.3211\n",
            "Epoch 154/500\n",
            "128/128 [==============================] - 192s 2s/step - loss: 2.4466 - acc: 0.4913 - val_loss: 4.6065 - val_acc: 0.2299\n",
            "Epoch 155/500\n",
            "128/128 [==============================] - 191s 1s/step - loss: 2.5056 - acc: 0.4792 - val_loss: 4.9610 - val_acc: 0.2076\n",
            "\n",
            "Epoch 00155: saving model to /content/gdrive/My Drive/EIP3/resnet34/cp-0155.hdf5\n",
            "Epoch 156/500\n",
            "128/128 [==============================] - 192s 1s/step - loss: 2.5198 - acc: 0.4775 - val_loss: 3.6135 - val_acc: 0.3335\n",
            "Epoch 157/500\n",
            "128/128 [==============================] - 192s 2s/step - loss: 2.5229 - acc: 0.4766 - val_loss: 3.5466 - val_acc: 0.3511\n",
            "Epoch 158/500\n",
            "128/128 [==============================] - 191s 1s/step - loss: 2.5389 - acc: 0.4717 - val_loss: 3.7397 - val_acc: 0.3153\n",
            "Epoch 159/500\n",
            "128/128 [==============================] - 191s 1s/step - loss: 2.4995 - acc: 0.4808 - val_loss: 3.9070 - val_acc: 0.3031\n",
            "Epoch 160/500\n",
            "128/128 [==============================] - 191s 1s/step - loss: 2.4260 - acc: 0.4940 - val_loss: 3.6057 - val_acc: 0.3278\n",
            "\n",
            "Epoch 00160: saving model to /content/gdrive/My Drive/EIP3/resnet34/cp-0160.hdf5\n",
            "Epoch 161/500\n",
            "128/128 [==============================] - 192s 1s/step - loss: 2.4479 - acc: 0.4861 - val_loss: 3.9818 - val_acc: 0.2876\n",
            "Epoch 162/500\n",
            "128/128 [==============================] - 192s 2s/step - loss: 2.5074 - acc: 0.4759 - val_loss: 3.7935 - val_acc: 0.3254\n",
            "Epoch 163/500\n",
            "128/128 [==============================] - 191s 1s/step - loss: 2.5061 - acc: 0.4770 - val_loss: 3.9363 - val_acc: 0.3001\n",
            "Epoch 164/500\n",
            "128/128 [==============================] - 191s 1s/step - loss: 2.5355 - acc: 0.4742 - val_loss: 3.2719 - val_acc: 0.3706\n",
            "Epoch 165/500\n",
            "128/128 [==============================] - 190s 1s/step - loss: 2.5207 - acc: 0.4756 - val_loss: 4.1604 - val_acc: 0.2851\n",
            "\n",
            "Epoch 00165: saving model to /content/gdrive/My Drive/EIP3/resnet34/cp-0165.hdf5\n",
            "Epoch 166/500\n",
            "128/128 [==============================] - 191s 1s/step - loss: 2.4467 - acc: 0.4885 - val_loss: 4.1908 - val_acc: 0.2674\n",
            "Epoch 167/500\n",
            "128/128 [==============================] - 191s 1s/step - loss: 2.4536 - acc: 0.4865 - val_loss: 3.7665 - val_acc: 0.3100\n",
            "Epoch 168/500\n",
            "128/128 [==============================] - 190s 1s/step - loss: 2.4927 - acc: 0.4808 - val_loss: 3.7519 - val_acc: 0.3250\n",
            "Epoch 169/500\n",
            "128/128 [==============================] - 190s 1s/step - loss: 2.5195 - acc: 0.4749 - val_loss: 4.1449 - val_acc: 0.2757\n",
            "Epoch 170/500\n",
            "128/128 [==============================] - 190s 1s/step - loss: 2.5566 - acc: 0.4739 - val_loss: 3.8361 - val_acc: 0.3017\n",
            "\n",
            "Epoch 00170: saving model to /content/gdrive/My Drive/EIP3/resnet34/cp-0170.hdf5\n",
            "Epoch 171/500\n",
            "128/128 [==============================] - 190s 1s/step - loss: 2.5480 - acc: 0.4710 - val_loss: 3.5564 - val_acc: 0.3411\n",
            "Epoch 172/500\n",
            "128/128 [==============================] - 191s 1s/step - loss: 2.4204 - acc: 0.4984 - val_loss: 3.7613 - val_acc: 0.3197\n",
            "Epoch 173/500\n",
            "128/128 [==============================] - 191s 1s/step - loss: 2.4552 - acc: 0.4893 - val_loss: 3.7681 - val_acc: 0.3138\n",
            "Epoch 174/500\n",
            "128/128 [==============================] - 191s 1s/step - loss: 2.5001 - acc: 0.4775 - val_loss: 3.6218 - val_acc: 0.3340\n",
            "Epoch 175/500\n",
            "128/128 [==============================] - 190s 1s/step - loss: 2.5125 - acc: 0.4739 - val_loss: 3.6357 - val_acc: 0.3416\n",
            "\n",
            "Epoch 00175: saving model to /content/gdrive/My Drive/EIP3/resnet34/cp-0175.hdf5\n",
            "Epoch 176/500\n",
            "128/128 [==============================] - 190s 1s/step - loss: 2.5184 - acc: 0.4758 - val_loss: 3.5495 - val_acc: 0.3404\n",
            "Epoch 177/500\n",
            "128/128 [==============================] - 191s 1s/step - loss: 2.5049 - acc: 0.4750 - val_loss: 4.0943 - val_acc: 0.2821\n",
            "Epoch 178/500\n",
            "128/128 [==============================] - 189s 1s/step - loss: 2.4383 - acc: 0.4955 - val_loss: 4.1078 - val_acc: 0.2821\n",
            "Epoch 179/500\n",
            "128/128 [==============================] - 190s 1s/step - loss: 2.4412 - acc: 0.4908 - val_loss: 4.2875 - val_acc: 0.2660\n",
            "Epoch 180/500\n",
            "128/128 [==============================] - 191s 1s/step - loss: 2.4548 - acc: 0.4886 - val_loss: 3.9517 - val_acc: 0.2888\n",
            "\n",
            "Epoch 00180: saving model to /content/gdrive/My Drive/EIP3/resnet34/cp-0180.hdf5\n",
            "Epoch 181/500\n",
            "128/128 [==============================] - 191s 1s/step - loss: 2.4726 - acc: 0.4887 - val_loss: 4.1075 - val_acc: 0.2712\n",
            "Epoch 182/500\n",
            "128/128 [==============================] - 191s 1s/step - loss: 2.4723 - acc: 0.4875 - val_loss: 4.0282 - val_acc: 0.3017\n",
            "Epoch 183/500\n",
            "128/128 [==============================] - 191s 1s/step - loss: 2.4858 - acc: 0.4846 - val_loss: 3.5995 - val_acc: 0.3285\n",
            "Epoch 184/500\n",
            "128/128 [==============================] - 189s 1s/step - loss: 2.4069 - acc: 0.5054 - val_loss: 4.3477 - val_acc: 0.2578\n",
            "Epoch 185/500\n",
            "128/128 [==============================] - 191s 1s/step - loss: 2.3875 - acc: 0.5046 - val_loss: 4.8575 - val_acc: 0.2256\n",
            "\n",
            "Epoch 00185: saving model to /content/gdrive/My Drive/EIP3/resnet34/cp-0185.hdf5\n",
            "Epoch 186/500\n",
            "128/128 [==============================] - 191s 1s/step - loss: 2.4190 - acc: 0.4910 - val_loss: 3.8532 - val_acc: 0.3168\n",
            "Epoch 187/500\n",
            "128/128 [==============================] - 189s 1s/step - loss: 2.4186 - acc: 0.4963 - val_loss: 3.6560 - val_acc: 0.3304\n"
          ],
          "name": "stdout"
        }
      ]
    },
    {
      "metadata": {
        "id": "BMD2qcG24MpU",
        "colab_type": "code",
        "outputId": "e2d78a1b-8979-44ed-8b6b-aa3c3b5b3f03",
        "colab": {
          "base_uri": "https://localhost:8080/",
          "height": 153
        }
      },
      "cell_type": "code",
      "source": [
        " # Loading previous weights and continue...\n",
        "  !ls /content/gdrive/'My Drive'/EIP3/resnet34/"
      ],
      "execution_count": 0,
      "outputs": [
        {
          "output_type": "stream",
          "text": [
            "cp-0005.hdf5  cp-0045.hdf5  cp-0085.hdf5  cp-0125.hdf5\tcp-0165.hdf5\n",
            "cp-0010.hdf5  cp-0050.hdf5  cp-0090.hdf5  cp-0130.hdf5\tcp-0170.hdf5\n",
            "cp-0015.hdf5  cp-0055.hdf5  cp-0095.hdf5  cp-0135.hdf5\tcp-0175.hdf5\n",
            "cp-0020.hdf5  cp-0060.hdf5  cp-0100.hdf5  cp-0140.hdf5\tcp-0180.hdf5\n",
            "cp-0025.hdf5  cp-0065.hdf5  cp-0105.hdf5  cp-0145.hdf5\tcp-0185.hdf5\n",
            "cp-0030.hdf5  cp-0070.hdf5  cp-0110.hdf5  cp-0150.hdf5\tresnet18_model.json\n",
            "cp-0035.hdf5  cp-0075.hdf5  cp-0115.hdf5  cp-0155.hdf5\n",
            "cp-0040.hdf5  cp-0080.hdf5  cp-0120.hdf5  cp-0160.hdf5\n"
          ],
          "name": "stdout"
        }
      ]
    },
    {
      "metadata": {
        "id": "SyZOhq598mkd",
        "colab_type": "code",
        "outputId": "73852758-66c0-4139-c1e9-9b912f4f2a8f",
        "colab": {
          "base_uri": "https://localhost:8080/",
          "height": 34
        }
      },
      "cell_type": "code",
      "source": [
        "# Define Imports\n",
        "\n",
        "import numpy as np\n",
        "import pandas as pd\n",
        "import tensorflow as tf\n",
        "\n",
        "import matplotlib.pyplot as plt\n",
        "%matplotlib  inline\n",
        "from keras.preprocessing.image import ImageDataGenerator\n",
        "from sklearn import preprocessing"
      ],
      "execution_count": 0,
      "outputs": [
        {
          "output_type": "stream",
          "text": [
            "Using TensorFlow backend.\n"
          ],
          "name": "stderr"
        }
      ]
    },
    {
      "metadata": {
        "id": "Wiimz-Wq-ASz",
        "colab_type": "code",
        "outputId": "1021f8f6-fd6b-4d4c-96a6-2586956f5e63",
        "colab": {
          "base_uri": "https://localhost:8080/",
          "height": 142
        }
      },
      "cell_type": "code",
      "source": [
        "# Loading validation annotation & extract class labels\n",
        "val_data = pd.read_csv(r\"/content/gdrive/My Drive/EIP3/tiny-imagenet-200//val/val_annotations.txt\", sep='\\t', header=None, names=['File', 'Class', 'X', 'Y', 'H', 'W'])\n",
        "val_data.drop(['X', 'Y', 'H', 'W'], axis=1, inplace=True)\n",
        "val_data.head(3)"
      ],
      "execution_count": 0,
      "outputs": [
        {
          "output_type": "execute_result",
          "data": {
            "text/html": [
              "<div>\n",
              "<style scoped>\n",
              "    .dataframe tbody tr th:only-of-type {\n",
              "        vertical-align: middle;\n",
              "    }\n",
              "\n",
              "    .dataframe tbody tr th {\n",
              "        vertical-align: top;\n",
              "    }\n",
              "\n",
              "    .dataframe thead th {\n",
              "        text-align: right;\n",
              "    }\n",
              "</style>\n",
              "<table border=\"1\" class=\"dataframe\">\n",
              "  <thead>\n",
              "    <tr style=\"text-align: right;\">\n",
              "      <th></th>\n",
              "      <th>File</th>\n",
              "      <th>Class</th>\n",
              "    </tr>\n",
              "  </thead>\n",
              "  <tbody>\n",
              "    <tr>\n",
              "      <th>0</th>\n",
              "      <td>val_0.JPEG</td>\n",
              "      <td>n03444034</td>\n",
              "    </tr>\n",
              "    <tr>\n",
              "      <th>1</th>\n",
              "      <td>val_1.JPEG</td>\n",
              "      <td>n04067472</td>\n",
              "    </tr>\n",
              "    <tr>\n",
              "      <th>2</th>\n",
              "      <td>val_2.JPEG</td>\n",
              "      <td>n04070727</td>\n",
              "    </tr>\n",
              "  </tbody>\n",
              "</table>\n",
              "</div>"
            ],
            "text/plain": [
              "         File      Class\n",
              "0  val_0.JPEG  n03444034\n",
              "1  val_1.JPEG  n04067472\n",
              "2  val_2.JPEG  n04070727"
            ]
          },
          "metadata": {
            "tags": []
          },
          "execution_count": 5
        }
      ]
    },
    {
      "metadata": {
        "id": "-DkaUGiY-EYU",
        "colab_type": "code",
        "colab": {}
      },
      "cell_type": "code",
      "source": [
        "# Loading images as batches using ImageDataGenerator\n",
        "\n",
        "# Use Augmentaion parameters as required.\n",
        "train_datagen = ImageDataGenerator(#rescale= 1./255)\n",
        "    rescale= 1./255,\n",
        "    zoom_range = 0.2,\n",
        "    width_shift_range=0.2,\n",
        "    height_shift_range=0.2,\n",
        "    rotation_range=10,\n",
        "    horizontal_flip=True\n",
        "    )\n",
        "\n",
        "valid_datagen = ImageDataGenerator(rescale=1./255)\n"
      ],
      "execution_count": 0,
      "outputs": []
    },
    {
      "metadata": {
        "id": "rwxgHPTd-LNZ",
        "colab_type": "code",
        "outputId": "09c7c3f1-b2f4-4763-8ef0-1d89d7d870c1",
        "colab": {
          "base_uri": "https://localhost:8080/",
          "height": 34
        }
      },
      "cell_type": "code",
      "source": [
        "train_generator = train_datagen.flow_from_directory( r\"/content/gdrive/My Drive/EIP3/tiny-imagenet-200/train/\",\n",
        "                                                    target_size=(64, 64), color_mode='rgb', \n",
        "                                                    batch_size=128, class_mode='categorical', shuffle=True, seed=42)\n"
      ],
      "execution_count": 0,
      "outputs": [
        {
          "output_type": "stream",
          "text": [
            "Found 100000 images belonging to 200 classes.\n"
          ],
          "name": "stdout"
        }
      ]
    },
    {
      "metadata": {
        "id": "e_RXVhoY-RcD",
        "colab_type": "code",
        "outputId": "b18af9fb-309a-43a6-bba0-5edefa93a314",
        "colab": {
          "base_uri": "https://localhost:8080/",
          "height": 34
        }
      },
      "cell_type": "code",
      "source": [
        "validation_generator = valid_datagen.flow_from_dataframe(val_data, directory='/content/gdrive/My Drive/EIP3/tiny-imagenet-200/val/images/',\n",
        "                                                         x_col='File', y_col='Class', target_size=(64, 64),\n",
        "                                                    color_mode='rgb', class_mode='categorical', batch_size=128, shuffle=True, seed=42)"
      ],
      "execution_count": 0,
      "outputs": [
        {
          "output_type": "stream",
          "text": [
            "Found 9998 images belonging to 200 classes.\n"
          ],
          "name": "stdout"
        }
      ]
    },
    {
      "metadata": {
        "id": "kl3nb9qVCjLr",
        "colab_type": "code",
        "colab": {}
      },
      "cell_type": "code",
      "source": [
        "from keras.callbacks import *\n",
        "\n",
        "class CyclicLR(Callback):\n",
        "    \"\"\"This callback implements a cyclical learning rate policy (CLR).\n",
        "    The method cycles the learning rate between two boundaries with\n",
        "    some constant frequency, as detailed in this paper (https://arxiv.org/abs/1506.01186).\n",
        "    The amplitude of the cycle can be scaled on a per-iteration or \n",
        "    per-cycle basis.\n",
        "    This class has three built-in policies, as put forth in the paper.\n",
        "    \"triangular\":\n",
        "        A basic triangular cycle w/ no amplitude scaling.\n",
        "    \"triangular2\":\n",
        "        A basic triangular cycle that scales initial amplitude by half each cycle.\n",
        "    \"exp_range\":\n",
        "        A cycle that scales initial amplitude by gamma**(cycle iterations) at each \n",
        "        cycle iteration.\n",
        "    For more detail, please see paper.\n",
        "    \n",
        "    # Example\n",
        "        ```python\n",
        "            clr = CyclicLR(base_lr=0.001, max_lr=0.006,\n",
        "                                step_size=2000., mode='triangular')\n",
        "            model.fit(X_train, Y_train, callbacks=[clr])\n",
        "        ```\n",
        "    \n",
        "    Class also supports custom scaling functions:\n",
        "        ```python\n",
        "            clr_fn = lambda x: 0.5*(1+np.sin(x*np.pi/2.))\n",
        "            clr = CyclicLR(base_lr=0.001, max_lr=0.006,\n",
        "                                step_size=2000., scale_fn=clr_fn,\n",
        "                                scale_mode='cycle')\n",
        "            model.fit(X_train, Y_train, callbacks=[clr])\n",
        "        ```    \n",
        "    # Arguments\n",
        "        base_lr: initial learning rate which is the\n",
        "            lower boundary in the cycle.\n",
        "        max_lr: upper boundary in the cycle. Functionally,\n",
        "            it defines the cycle amplitude (max_lr - base_lr).\n",
        "            The lr at any cycle is the sum of base_lr\n",
        "            and some scaling of the amplitude; therefore \n",
        "            max_lr may not actually be reached depending on\n",
        "            scaling function.\n",
        "        step_size: number of training iterations per\n",
        "            half cycle. Authors suggest setting step_size\n",
        "            2-8 x training iterations in epoch.\n",
        "        mode: one of {triangular, triangular2, exp_range}.\n",
        "            Default 'triangular'.\n",
        "            Values correspond to policies detailed above.\n",
        "            If scale_fn is not None, this argument is ignored.\n",
        "        gamma: constant in 'exp_range' scaling function:\n",
        "            gamma**(cycle iterations)\n",
        "        scale_fn: Custom scaling policy defined by a single\n",
        "            argument lambda function, where \n",
        "            0 <= scale_fn(x) <= 1 for all x >= 0.\n",
        "            mode paramater is ignored \n",
        "        scale_mode: {'cycle', 'iterations'}.\n",
        "            Defines whether scale_fn is evaluated on \n",
        "            cycle number or cycle iterations (training\n",
        "            iterations since start of cycle). Default is 'cycle'.\n",
        "    \"\"\"\n",
        "\n",
        "    def __init__(self, base_lr=0.001, max_lr=0.006, step_size=2000., mode='triangular',\n",
        "                 gamma=1., scale_fn=None, scale_mode='cycle'):\n",
        "        super(CyclicLR, self).__init__()\n",
        "\n",
        "        self.base_lr = base_lr\n",
        "        self.max_lr = max_lr\n",
        "        self.step_size = step_size\n",
        "        self.mode = mode\n",
        "        self.gamma = gamma\n",
        "        if scale_fn == None:\n",
        "            if self.mode == 'triangular':\n",
        "                self.scale_fn = lambda x: 1.\n",
        "                self.scale_mode = 'cycle'\n",
        "            elif self.mode == 'triangular2':\n",
        "                self.scale_fn = lambda x: 1/(2.**(x-1))\n",
        "                self.scale_mode = 'cycle'\n",
        "            elif self.mode == 'exp_range':\n",
        "                self.scale_fn = lambda x: gamma**(x)\n",
        "                self.scale_mode = 'iterations'\n",
        "        else:\n",
        "            self.scale_fn = scale_fn\n",
        "            self.scale_mode = scale_mode\n",
        "        self.clr_iterations = 0.\n",
        "        self.trn_iterations = 0.\n",
        "        self.history = {}\n",
        "\n",
        "        self._reset()\n",
        "\n",
        "    def _reset(self, new_base_lr=None, new_max_lr=None,\n",
        "               new_step_size=None):\n",
        "        \"\"\"Resets cycle iterations.\n",
        "        Optional boundary/step size adjustment.\n",
        "        \"\"\"\n",
        "        if new_base_lr != None:\n",
        "            self.base_lr = new_base_lr\n",
        "        if new_max_lr != None:\n",
        "            self.max_lr = new_max_lr\n",
        "        if new_step_size != None:\n",
        "            self.step_size = new_step_size\n",
        "        self.clr_iterations = 0.\n",
        "        \n",
        "    def clr(self):\n",
        "        cycle = np.floor(1+self.clr_iterations/(2*self.step_size))\n",
        "        x = np.abs(self.clr_iterations/self.step_size - 2*cycle + 1)\n",
        "        if self.scale_mode == 'cycle':\n",
        "            return self.base_lr + (self.max_lr-self.base_lr)*np.maximum(0, (1-x))*self.scale_fn(cycle)\n",
        "        else:\n",
        "            return self.base_lr + (self.max_lr-self.base_lr)*np.maximum(0, (1-x))*self.scale_fn(self.clr_iterations)\n",
        "        \n",
        "    def on_train_begin(self, logs={}):\n",
        "        logs = logs or {}\n",
        "\n",
        "        if self.clr_iterations == 0:\n",
        "            K.set_value(self.model.optimizer.lr, self.base_lr)\n",
        "        else:\n",
        "            K.set_value(self.model.optimizer.lr, self.clr())        \n",
        "            \n",
        "    def on_batch_end(self, epoch, logs=None):\n",
        "        \n",
        "        logs = logs or {}\n",
        "        self.trn_iterations += 1\n",
        "        self.clr_iterations += 1\n",
        "\n",
        "        self.history.setdefault('lr', []).append(K.get_value(self.model.optimizer.lr))\n",
        "        self.history.setdefault('iterations', []).append(self.trn_iterations)\n",
        "\n",
        "        for k, v in logs.items():\n",
        "            self.history.setdefault(k, []).append(v)\n",
        "        \n",
        "        K.set_value(self.model.optimizer.lr, self.clr())"
      ],
      "execution_count": 0,
      "outputs": []
    },
    {
      "metadata": {
        "id": "4GmqRnRuCuRu",
        "colab_type": "code",
        "colab": {}
      },
      "cell_type": "code",
      "source": [
        "# You are using the triangular learning rate policy and\n",
        "#  base_lr (initial learning rate which is the lower boundary in the cycle) is 0.1\n",
        "#clr_triangular = CyclicLR(mode='triangular')\n",
        "#model.compile(optimizer=Adam(0.1), loss='categorical_crossentropy', metrics=['accuracy'])\n",
        "clr = CyclicLR(base_lr=0.001, max_lr=0.006,\n",
        "                        step_size=2000., mode='triangular2')"
      ],
      "execution_count": 0,
      "outputs": []
    },
    {
      "metadata": {
        "id": "YLu8LWvj_wXU",
        "colab_type": "code",
        "outputId": "56890e6f-1e05-49a9-ec50-bbbe67effa3c",
        "colab": {
          "base_uri": "https://localhost:8080/",
          "height": 153
        }
      },
      "cell_type": "code",
      "source": [
        "#\n",
        "\n",
        "#import os\n",
        "checkpoint_path = \"/content/gdrive/My Drive/EIP3/resnet34/cp-{epoch:04d}.hdf5\"\n",
        "model_save_path = \"/content/gdrive/My Drive/EIP3/resnet34/resnet34_2.h5\"\n",
        "model_arch = \"/content/gdrive/My Drive/EIP3/resnet34/resnet34_2_arch.png\"\n",
        "#!mkdir -p /content/gdrive/'My Drive'/EIP3/resnet34/\n",
        "!ls /content/gdrive/'My Drive'/EIP3/resnet34/\n",
        "\n",
        "model_weights_path =  \"/content/gdrive/My Drive/EIP3/resnet34/resnet34_weights.h5\"\n",
        "model_arch_path =  \"/content/gdrive/My Drive/EIP3/resnet34/resnet34_2_model.json\"\n",
        "\n",
        "\n",
        "# Create checkpoint callback\n",
        "cp_callback = tf.keras.callbacks.ModelCheckpoint(checkpoint_path, \n",
        "                                                 save_weights_only=True,\n",
        "                                                 verbose=1, \n",
        "                                                 period=5)"
      ],
      "execution_count": 0,
      "outputs": [
        {
          "output_type": "stream",
          "text": [
            "cp-0005.hdf5  cp-0045.hdf5  cp-0085.hdf5  cp-0125.hdf5\tcp-0165.hdf5\n",
            "cp-0010.hdf5  cp-0050.hdf5  cp-0090.hdf5  cp-0130.hdf5\tcp-0170.hdf5\n",
            "cp-0015.hdf5  cp-0055.hdf5  cp-0095.hdf5  cp-0135.hdf5\tcp-0175.hdf5\n",
            "cp-0020.hdf5  cp-0060.hdf5  cp-0100.hdf5  cp-0140.hdf5\tcp-0180.hdf5\n",
            "cp-0025.hdf5  cp-0065.hdf5  cp-0105.hdf5  cp-0145.hdf5\tcp-0185.hdf5\n",
            "cp-0030.hdf5  cp-0070.hdf5  cp-0110.hdf5  cp-0150.hdf5\tresnet18_model.json\n",
            "cp-0035.hdf5  cp-0075.hdf5  cp-0115.hdf5  cp-0155.hdf5\n",
            "cp-0040.hdf5  cp-0080.hdf5  cp-0120.hdf5  cp-0160.hdf5\n"
          ],
          "name": "stdout"
        }
      ]
    },
    {
      "metadata": {
        "id": "CJhoAE0Q_dGM",
        "colab_type": "code",
        "outputId": "70338329-20be-4c4e-841d-dae9d58853d3",
        "colab": {
          "base_uri": "https://localhost:8080/",
          "height": 102
        }
      },
      "cell_type": "code",
      "source": [
        "from keras.models import model_from_json\n",
        "# model.load_weights\n",
        "# load json and create model\n",
        "# Iteration1 Model loading\n",
        "iter1_model_arch = \"/content/gdrive/My Drive/EIP3/resnet34/resnet18_model.json\"\n",
        "json_file = open(iter1_model_arch, 'r')\n",
        "loaded_model_json = json_file.read()\n",
        "json_file.close()\n",
        "loaded_model = model_from_json(loaded_model_json)\n",
        "print(\"Loaded model arch fron json\")\n",
        "\n",
        "# load weights into new model\n",
        "# Since previous model does not complete, loading latest check point weight\n",
        "chk_point_weight_path = \"/content/gdrive/My Drive/EIP3/resnet34/cp-0180.hdf5\"\n",
        "loaded_model.load_weights(chk_point_weight_path)\n",
        "print(\"Loaded model from disk\")\n",
        "\n",
        "\n",
        "\n"
      ],
      "execution_count": 0,
      "outputs": [
        {
          "output_type": "stream",
          "text": [
            "WARNING:tensorflow:From /usr/local/lib/python3.6/dist-packages/tensorflow/python/framework/op_def_library.py:263: colocate_with (from tensorflow.python.framework.ops) is deprecated and will be removed in a future version.\n",
            "Instructions for updating:\n",
            "Colocations handled automatically by placer.\n",
            "Loaded model arch fron json\n",
            "Loaded model from disk\n"
          ],
          "name": "stdout"
        }
      ]
    },
    {
      "metadata": {
        "id": "dYlEkLwnDHJO",
        "colab_type": "code",
        "colab": {}
      },
      "cell_type": "code",
      "source": [
        "# Compile loaded model\n",
        "loaded_model.compile(loss='categorical_crossentropy',\n",
        "              optimizer='adam',\n",
        "              metrics=['accuracy'])\n",
        "#model.summary()"
      ],
      "execution_count": 0,
      "outputs": []
    },
    {
      "metadata": {
        "id": "lvNJGIxP_knk",
        "colab_type": "code",
        "outputId": "0d71e483-35c5-4d70-92de-3cdeb0c35546",
        "colab": {
          "base_uri": "https://localhost:8080/",
          "height": 3808
        }
      },
      "cell_type": "code",
      "source": [
        "epochs=500\n",
        "img_channels=3\n",
        "img_rows=64\n",
        "img_cols=64\n",
        "nb_classes = 200\n",
        "batch_size = 128\n",
        "\n",
        "# Save Model weight and Architecture in a separate files\n",
        "# serialize model to JSON\n",
        "model_json = loaded_model.to_json()\n",
        "with open(model_arch_path, \"w\") as json_file:\n",
        "    json_file.write(model_json)\n",
        "print(\"Saved model to disk\")  \n",
        "\n",
        "# fit model\n",
        "\n",
        "loaded_model.fit_generator(train_generator, epochs=epochs, initial_epoch=180, steps_per_epoch=batch_size,\n",
        "                    validation_steps=batch_size, validation_data=validation_generator,\n",
        "                    callbacks=[cp_callback,clr])\n",
        "\n",
        "  \n",
        "# serialize weights to HDF5\n",
        "loaded_model.save_weights(model_weights_path)\n",
        "print(\"Saved model to disk\")\n"
      ],
      "execution_count": 0,
      "outputs": [
        {
          "output_type": "stream",
          "text": [
            "Saved model to disk\n",
            "Epoch 181/500\n",
            "128/128 [==============================] - 5649s 44s/step - loss: 2.4339 - acc: 0.4932 - val_loss: 4.6692 - val_acc: 0.2424\n",
            "Epoch 182/500\n",
            "128/128 [==============================] - 3428s 27s/step - loss: 2.5259 - acc: 0.4813 - val_loss: 4.3218 - val_acc: 0.2657\n",
            "Epoch 183/500\n",
            "128/128 [==============================] - 3943s 31s/step - loss: 2.6384 - acc: 0.4525 - val_loss: 4.4193 - val_acc: 0.2581\n",
            "Epoch 184/500\n",
            "128/128 [==============================] - 3806s 30s/step - loss: 2.7376 - acc: 0.4382 - val_loss: 4.9962 - val_acc: 0.2114\n",
            "Epoch 185/500\n",
            "128/128 [==============================] - 3823s 30s/step - loss: 2.9041 - acc: 0.4082 - val_loss: 5.2418 - val_acc: 0.2023\n",
            "\n",
            "Epoch 00185: saving model to /content/gdrive/My Drive/EIP3/resnet34/cp-0185.hdf5\n",
            "Epoch 186/500\n",
            "128/128 [==============================] - 3739s 29s/step - loss: 2.9814 - acc: 0.3982 - val_loss: 5.8731 - val_acc: 0.1481\n",
            "Epoch 187/500\n",
            "128/128 [==============================] - 475s 4s/step - loss: 2.9684 - acc: 0.3992 - val_loss: 5.5599 - val_acc: 0.1555\n",
            "Epoch 188/500\n",
            "128/128 [==============================] - 197s 2s/step - loss: 3.0807 - acc: 0.3781 - val_loss: 5.6880 - val_acc: 0.1579\n",
            "Epoch 189/500\n",
            "128/128 [==============================] - 197s 2s/step - loss: 3.1677 - acc: 0.3698 - val_loss: 7.0524 - val_acc: 0.1007\n",
            "Epoch 190/500\n",
            "128/128 [==============================] - 197s 2s/step - loss: 3.2379 - acc: 0.3625 - val_loss: 5.4145 - val_acc: 0.1843\n",
            "\n",
            "Epoch 00190: saving model to /content/gdrive/My Drive/EIP3/resnet34/cp-0190.hdf5\n",
            "Epoch 191/500\n",
            "128/128 [==============================] - 198s 2s/step - loss: 3.3261 - acc: 0.3496 - val_loss: 5.0985 - val_acc: 0.1636\n",
            "Epoch 192/500\n",
            "128/128 [==============================] - 197s 2s/step - loss: 3.3814 - acc: 0.3447 - val_loss: 6.8770 - val_acc: 0.0958\n",
            "Epoch 193/500\n",
            "128/128 [==============================] - 196s 2s/step - loss: 3.3912 - acc: 0.3458 - val_loss: 7.4427 - val_acc: 0.0972\n",
            "Epoch 194/500\n",
            "128/128 [==============================] - 196s 2s/step - loss: 3.4359 - acc: 0.3434 - val_loss: 7.7586 - val_acc: 0.0884\n",
            "Epoch 195/500\n",
            "128/128 [==============================] - 196s 2s/step - loss: 3.5462 - acc: 0.3268 - val_loss: 6.6043 - val_acc: 0.1237\n",
            "\n",
            "Epoch 00195: saving model to /content/gdrive/My Drive/EIP3/resnet34/cp-0195.hdf5\n",
            "Epoch 196/500\n",
            "128/128 [==============================] - 197s 2s/step - loss: 3.5632 - acc: 0.3286 - val_loss: 7.4308 - val_acc: 0.0798\n",
            "Epoch 197/500\n",
            "128/128 [==============================] - 197s 2s/step - loss: 3.5823 - acc: 0.3237 - val_loss: 4.6890 - val_acc: 0.1989\n",
            "Epoch 198/500\n",
            "128/128 [==============================] - 197s 2s/step - loss: 3.5211 - acc: 0.3364 - val_loss: 4.4913 - val_acc: 0.2358\n",
            "Epoch 199/500\n",
            "128/128 [==============================] - 197s 2s/step - loss: 3.4630 - acc: 0.3456 - val_loss: 5.7116 - val_acc: 0.1479\n",
            "Epoch 200/500\n",
            "128/128 [==============================] - 196s 2s/step - loss: 3.4257 - acc: 0.3522 - val_loss: 4.7290 - val_acc: 0.2012\n",
            "\n",
            "Epoch 00200: saving model to /content/gdrive/My Drive/EIP3/resnet34/cp-0200.hdf5\n",
            "Epoch 201/500\n",
            "128/128 [==============================] - 195s 2s/step - loss: 3.4160 - acc: 0.3525 - val_loss: 4.6431 - val_acc: 0.2074\n",
            "Epoch 202/500\n",
            "128/128 [==============================] - 194s 2s/step - loss: 3.3773 - acc: 0.3600 - val_loss: 5.0483 - val_acc: 0.1956\n",
            "Epoch 203/500\n",
            "128/128 [==============================] - 194s 2s/step - loss: 3.3475 - acc: 0.3640 - val_loss: 4.2655 - val_acc: 0.2543\n",
            "Epoch 204/500\n",
            "128/128 [==============================] - 195s 2s/step - loss: 3.2976 - acc: 0.3695 - val_loss: 4.8674 - val_acc: 0.2025\n",
            "Epoch 205/500\n",
            "128/128 [==============================] - 192s 2s/step - loss: 3.2180 - acc: 0.3819 - val_loss: 4.9690 - val_acc: 0.1878\n",
            "\n",
            "Epoch 00205: saving model to /content/gdrive/My Drive/EIP3/resnet34/cp-0205.hdf5\n",
            "Epoch 206/500\n",
            "128/128 [==============================] - 193s 2s/step - loss: 3.1103 - acc: 0.4031 - val_loss: 4.3959 - val_acc: 0.2246\n",
            "Epoch 207/500\n",
            "128/128 [==============================] - 193s 2s/step - loss: 3.1260 - acc: 0.3979 - val_loss: 5.0356 - val_acc: 0.2008\n",
            "Epoch 208/500\n",
            "128/128 [==============================] - 194s 2s/step - loss: 3.0739 - acc: 0.4026 - val_loss: 4.2127 - val_acc: 0.2511\n",
            "Epoch 209/500\n",
            "128/128 [==============================] - 194s 2s/step - loss: 2.9897 - acc: 0.4223 - val_loss: 3.8963 - val_acc: 0.2931\n",
            "Epoch 210/500\n",
            "128/128 [==============================] - 194s 2s/step - loss: 2.9496 - acc: 0.4292 - val_loss: 4.1114 - val_acc: 0.2820\n",
            "\n",
            "Epoch 00210: saving model to /content/gdrive/My Drive/EIP3/resnet34/cp-0210.hdf5\n",
            "Epoch 211/500\n",
            "128/128 [==============================] - 194s 2s/step - loss: 2.8344 - acc: 0.4471 - val_loss: 4.0886 - val_acc: 0.2885\n",
            "Epoch 212/500\n",
            "128/128 [==============================] - 197s 2s/step - loss: 2.7172 - acc: 0.4717 - val_loss: 3.4276 - val_acc: 0.3630\n",
            "Epoch 213/500\n",
            "128/128 [==============================] - 197s 2s/step - loss: 2.7334 - acc: 0.4642 - val_loss: 3.7635 - val_acc: 0.3142\n",
            "Epoch 214/500\n",
            "128/128 [==============================] - 197s 2s/step - loss: 2.7683 - acc: 0.4536 - val_loss: 3.6075 - val_acc: 0.3282\n",
            "Epoch 215/500\n",
            "128/128 [==============================] - 197s 2s/step - loss: 2.8084 - acc: 0.4492 - val_loss: 3.7086 - val_acc: 0.3224\n",
            "\n",
            "Epoch 00215: saving model to /content/gdrive/My Drive/EIP3/resnet34/cp-0215.hdf5\n",
            "Epoch 216/500\n",
            "128/128 [==============================] - 197s 2s/step - loss: 2.8470 - acc: 0.4398 - val_loss: 4.7059 - val_acc: 0.2262\n",
            "Epoch 217/500\n",
            "128/128 [==============================] - 197s 2s/step - loss: 2.8329 - acc: 0.4417 - val_loss: 4.7466 - val_acc: 0.2205\n",
            "Epoch 218/500\n",
            "128/128 [==============================] - 197s 2s/step - loss: 2.8483 - acc: 0.4369 - val_loss: 4.3281 - val_acc: 0.2479\n",
            "Epoch 219/500\n",
            "128/128 [==============================] - 196s 2s/step - loss: 2.8920 - acc: 0.4317 - val_loss: 3.7194 - val_acc: 0.3121\n",
            "Epoch 220/500\n",
            "128/128 [==============================] - 197s 2s/step - loss: 2.9843 - acc: 0.4118 - val_loss: 4.5693 - val_acc: 0.2284\n",
            "\n",
            "Epoch 00220: saving model to /content/gdrive/My Drive/EIP3/resnet34/cp-0220.hdf5\n",
            "Epoch 221/500\n",
            "128/128 [==============================] - 196s 2s/step - loss: 3.0307 - acc: 0.4006 - val_loss: 4.1480 - val_acc: 0.2806\n",
            "Epoch 222/500\n",
            "128/128 [==============================] - 196s 2s/step - loss: 3.0426 - acc: 0.3997 - val_loss: 4.3757 - val_acc: 0.2611\n",
            "Epoch 223/500\n",
            "128/128 [==============================] - 197s 2s/step - loss: 3.0794 - acc: 0.3948 - val_loss: 6.6428 - val_acc: 0.1192\n",
            "Epoch 224/500\n",
            "128/128 [==============================] - 197s 2s/step - loss: 3.0323 - acc: 0.4044 - val_loss: 4.8973 - val_acc: 0.1765\n",
            "Epoch 225/500\n",
            "128/128 [==============================] - 198s 2s/step - loss: 3.1124 - acc: 0.3909 - val_loss: 5.0333 - val_acc: 0.1915\n",
            "\n",
            "Epoch 00225: saving model to /content/gdrive/My Drive/EIP3/resnet34/cp-0225.hdf5\n",
            "Epoch 226/500\n",
            "128/128 [==============================] - 197s 2s/step - loss: 3.1792 - acc: 0.3813 - val_loss: 4.3603 - val_acc: 0.2527\n",
            "Epoch 227/500\n",
            "128/128 [==============================] - 196s 2s/step - loss: 3.2164 - acc: 0.3771 - val_loss: 5.4732 - val_acc: 0.1557\n",
            "Epoch 228/500\n",
            "128/128 [==============================] - 198s 2s/step - loss: 3.2186 - acc: 0.3769 - val_loss: 6.5707 - val_acc: 0.1030\n",
            "Epoch 229/500\n",
            "128/128 [==============================] - 196s 2s/step - loss: 3.1734 - acc: 0.3868 - val_loss: 4.9989 - val_acc: 0.1845\n",
            "Epoch 230/500\n",
            "128/128 [==============================] - 197s 2s/step - loss: 3.0797 - acc: 0.4056 - val_loss: 4.9360 - val_acc: 0.2061\n",
            "\n",
            "Epoch 00230: saving model to /content/gdrive/My Drive/EIP3/resnet34/cp-0230.hdf5\n",
            "Epoch 231/500\n",
            "128/128 [==============================] - 197s 2s/step - loss: 3.1003 - acc: 0.4009 - val_loss: 5.1833 - val_acc: 0.1941\n",
            "Epoch 232/500\n",
            "128/128 [==============================] - 196s 2s/step - loss: 3.0917 - acc: 0.4006 - val_loss: 5.3221 - val_acc: 0.1628\n",
            "Epoch 233/500\n",
            "128/128 [==============================] - 196s 2s/step - loss: 3.0609 - acc: 0.4102 - val_loss: 3.7869 - val_acc: 0.3158\n",
            "Epoch 234/500\n",
            "128/128 [==============================] - 197s 2s/step - loss: 3.0405 - acc: 0.4099 - val_loss: 3.9087 - val_acc: 0.2881\n",
            "Epoch 235/500\n",
            "128/128 [==============================] - 196s 2s/step - loss: 3.0083 - acc: 0.4150 - val_loss: 4.4486 - val_acc: 0.2222\n",
            "\n",
            "Epoch 00235: saving model to /content/gdrive/My Drive/EIP3/resnet34/cp-0235.hdf5\n",
            "Epoch 236/500\n",
            "128/128 [==============================] - 197s 2s/step - loss: 2.8635 - acc: 0.4397 - val_loss: 4.5081 - val_acc: 0.2295\n",
            "Epoch 237/500\n",
            "128/128 [==============================] - 197s 2s/step - loss: 2.8711 - acc: 0.4390 - val_loss: 4.1179 - val_acc: 0.2755\n",
            "Epoch 238/500\n",
            "128/128 [==============================] - 195s 2s/step - loss: 2.8733 - acc: 0.4391 - val_loss: 4.2015 - val_acc: 0.2698\n",
            "Epoch 239/500\n",
            "128/128 [==============================] - 195s 2s/step - loss: 2.8417 - acc: 0.4361 - val_loss: 4.0734 - val_acc: 0.2780\n",
            "Epoch 240/500\n",
            "128/128 [==============================] - 195s 2s/step - loss: 2.8088 - acc: 0.4496 - val_loss: 3.9079 - val_acc: 0.2957\n",
            "\n",
            "Epoch 00240: saving model to /content/gdrive/My Drive/EIP3/resnet34/cp-0240.hdf5\n",
            "Epoch 241/500\n",
            "128/128 [==============================] - 196s 2s/step - loss: 2.7882 - acc: 0.4561 - val_loss: 3.9374 - val_acc: 0.2984\n",
            "Epoch 242/500\n",
            "128/128 [==============================] - 197s 2s/step - loss: 2.6235 - acc: 0.4836 - val_loss: 3.6340 - val_acc: 0.3391\n",
            "Epoch 243/500\n",
            "128/128 [==============================] - 196s 2s/step - loss: 2.6126 - acc: 0.4849 - val_loss: 3.2055 - val_acc: 0.4062\n",
            "Epoch 244/500\n",
            "128/128 [==============================] - 197s 2s/step - loss: 2.5893 - acc: 0.4835 - val_loss: 3.6148 - val_acc: 0.3364\n",
            "Epoch 245/500\n",
            "128/128 [==============================] - 196s 2s/step - loss: 2.6167 - acc: 0.4804 - val_loss: 3.4908 - val_acc: 0.3653\n",
            "\n",
            "Epoch 00245: saving model to /content/gdrive/My Drive/EIP3/resnet34/cp-0245.hdf5\n",
            "Epoch 246/500\n",
            "128/128 [==============================] - 196s 2s/step - loss: 2.6408 - acc: 0.4785 - val_loss: 4.1559 - val_acc: 0.2798\n",
            "Epoch 247/500\n",
            "128/128 [==============================] - 197s 2s/step - loss: 2.6751 - acc: 0.4662 - val_loss: 4.0056 - val_acc: 0.2766\n",
            "Epoch 248/500\n",
            "128/128 [==============================] - 196s 2s/step - loss: 2.6078 - acc: 0.4786 - val_loss: 3.8274 - val_acc: 0.3184\n",
            "Epoch 249/500\n",
            "128/128 [==============================] - 197s 2s/step - loss: 2.6259 - acc: 0.4784 - val_loss: 3.4938 - val_acc: 0.3502\n",
            "Epoch 250/500\n",
            "128/128 [==============================] - 197s 2s/step - loss: 2.6498 - acc: 0.4659 - val_loss: 3.8846 - val_acc: 0.2968\n",
            "\n",
            "Epoch 00250: saving model to /content/gdrive/My Drive/EIP3/resnet34/cp-0250.hdf5\n",
            "Epoch 251/500\n",
            "128/128 [==============================] - 196s 2s/step - loss: 2.7044 - acc: 0.4595 - val_loss: 4.4789 - val_acc: 0.2455\n",
            "Epoch 252/500\n",
            "128/128 [==============================] - 197s 2s/step - loss: 2.7688 - acc: 0.4462 - val_loss: 4.2384 - val_acc: 0.2821\n",
            "Epoch 253/500\n",
            "128/128 [==============================] - 197s 2s/step - loss: 2.7515 - acc: 0.4542 - val_loss: 3.9649 - val_acc: 0.2931\n",
            "Epoch 254/500\n",
            "128/128 [==============================] - 196s 2s/step - loss: 2.6819 - acc: 0.4635 - val_loss: 3.8610 - val_acc: 0.3044\n",
            "Epoch 255/500\n",
            "128/128 [==============================] - 197s 2s/step - loss: 2.7171 - acc: 0.4559 - val_loss: 5.0927 - val_acc: 0.2171\n",
            "\n",
            "Epoch 00255: saving model to /content/gdrive/My Drive/EIP3/resnet34/cp-0255.hdf5\n",
            "Epoch 256/500\n",
            "128/128 [==============================] - 196s 2s/step - loss: 2.8067 - acc: 0.4369 - val_loss: 4.6485 - val_acc: 0.2325\n",
            "Epoch 257/500\n",
            "128/128 [==============================] - 197s 2s/step - loss: 2.8152 - acc: 0.4383 - val_loss: 4.6599 - val_acc: 0.2451\n",
            "Epoch 258/500\n",
            "128/128 [==============================] - 197s 2s/step - loss: 2.8603 - acc: 0.4335 - val_loss: 4.5930 - val_acc: 0.2437\n",
            "Epoch 259/500\n",
            "128/128 [==============================] - 195s 2s/step - loss: 2.9145 - acc: 0.4238 - val_loss: 4.5300 - val_acc: 0.2394\n",
            "Epoch 260/500\n",
            "128/128 [==============================] - 195s 2s/step - loss: 2.7951 - acc: 0.4498 - val_loss: 4.3217 - val_acc: 0.2514\n",
            "\n",
            "Epoch 00260: saving model to /content/gdrive/My Drive/EIP3/resnet34/cp-0260.hdf5\n",
            "Epoch 261/500\n",
            "128/128 [==============================] - 196s 2s/step - loss: 2.7722 - acc: 0.4486 - val_loss: 4.6410 - val_acc: 0.2228\n",
            "Epoch 262/500\n",
            "128/128 [==============================] - 194s 2s/step - loss: 2.7633 - acc: 0.4512 - val_loss: 4.0268 - val_acc: 0.2910\n",
            "Epoch 263/500\n",
            "128/128 [==============================] - 195s 2s/step - loss: 2.7691 - acc: 0.4487 - val_loss: 4.2884 - val_acc: 0.2753\n",
            "Epoch 264/500\n",
            "128/128 [==============================] - 195s 2s/step - loss: 2.7615 - acc: 0.4521 - val_loss: 3.9697 - val_acc: 0.3023\n",
            "Epoch 265/500\n",
            "128/128 [==============================] - 195s 2s/step - loss: 2.7724 - acc: 0.4539 - val_loss: 4.2120 - val_acc: 0.2594\n",
            "\n",
            "Epoch 00265: saving model to /content/gdrive/My Drive/EIP3/resnet34/cp-0265.hdf5\n",
            "Epoch 266/500\n",
            "128/128 [==============================] - 195s 2s/step - loss: 2.6846 - acc: 0.4691 - val_loss: 3.5078 - val_acc: 0.3633\n",
            "Epoch 267/500\n",
            "128/128 [==============================] - 196s 2s/step - loss: 2.6103 - acc: 0.4791 - val_loss: 4.4350 - val_acc: 0.2586\n",
            "Epoch 268/500\n",
            "128/128 [==============================] - 197s 2s/step - loss: 2.6125 - acc: 0.4770 - val_loss: 3.7565 - val_acc: 0.3167\n",
            "Epoch 269/500\n",
            "128/128 [==============================] - 196s 2s/step - loss: 2.6205 - acc: 0.4816 - val_loss: 3.7283 - val_acc: 0.3326\n",
            "Epoch 270/500\n",
            "128/128 [==============================] - 197s 2s/step - loss: 2.6384 - acc: 0.4707 - val_loss: 3.4079 - val_acc: 0.3648\n",
            "\n",
            "Epoch 00270: saving model to /content/gdrive/My Drive/EIP3/resnet34/cp-0270.hdf5\n",
            "Epoch 271/500\n",
            "128/128 [==============================] - 197s 2s/step - loss: 2.6249 - acc: 0.4763 - val_loss: 3.8306 - val_acc: 0.3155\n",
            "Epoch 272/500\n",
            "128/128 [==============================] - 196s 2s/step - loss: 2.5486 - acc: 0.4904 - val_loss: 3.1780 - val_acc: 0.4057\n",
            "Epoch 273/500\n",
            " 60/128 [=============>................] - ETA: 1:11 - loss: 2.4497 - acc: 0.5163"
          ],
          "name": "stdout"
        }
      ]
    },
    {
      "metadata": {
        "id": "gExVoldgCDeW",
        "colab_type": "code",
        "outputId": "0cafac0c-1532-421f-8834-fbf96a8ad13f",
        "colab": {
          "base_uri": "https://localhost:8080/",
          "height": 128
        }
      },
      "cell_type": "code",
      "source": [
        "# Loading previous iteration weight\n",
        "\n",
        "# mount google drive\n",
        "from google.colab import drive\n",
        "drive.mount('/content/gdrive')"
      ],
      "execution_count": 0,
      "outputs": [
        {
          "output_type": "stream",
          "text": [
            "Go to this URL in a browser: https://accounts.google.com/o/oauth2/auth?client_id=947318989803-6bn6qk8qdgf4n4g3pfee6491hc0brc4i.apps.googleusercontent.com&redirect_uri=urn%3Aietf%3Awg%3Aoauth%3A2.0%3Aoob&scope=email%20https%3A%2F%2Fwww.googleapis.com%2Fauth%2Fdocs.test%20https%3A%2F%2Fwww.googleapis.com%2Fauth%2Fdrive%20https%3A%2F%2Fwww.googleapis.com%2Fauth%2Fdrive.photos.readonly%20https%3A%2F%2Fwww.googleapis.com%2Fauth%2Fpeopleapi.readonly&response_type=code\n",
            "\n",
            "Enter your authorization code:\n",
            "··········\n",
            "Mounted at /content/gdrive\n"
          ],
          "name": "stdout"
        }
      ]
    },
    {
      "metadata": {
        "id": "-1CGTMdokSqF",
        "colab_type": "code",
        "outputId": "19530e9a-fd59-4494-eadb-ad2a0e4dff23",
        "colab": {
          "base_uri": "https://localhost:8080/",
          "height": 235
        }
      },
      "cell_type": "code",
      "source": [
        " # Loading previous weights and continue...\n",
        "  !ls /content/gdrive/'My Drive'/EIP3/resnet34/"
      ],
      "execution_count": 0,
      "outputs": [
        {
          "output_type": "stream",
          "text": [
            "cp-0005.hdf5  cp-0065.hdf5  cp-0125.hdf5  cp-0185.hdf5\tcp-0245.hdf5\n",
            "cp-0010.hdf5  cp-0070.hdf5  cp-0130.hdf5  cp-0190.hdf5\tcp-0250.hdf5\n",
            "cp-0015.hdf5  cp-0075.hdf5  cp-0135.hdf5  cp-0195.hdf5\tcp-0255.hdf5\n",
            "cp-0020.hdf5  cp-0080.hdf5  cp-0140.hdf5  cp-0200.hdf5\tcp-0260.hdf5\n",
            "cp-0025.hdf5  cp-0085.hdf5  cp-0145.hdf5  cp-0205.hdf5\tcp-0265.hdf5\n",
            "cp-0030.hdf5  cp-0090.hdf5  cp-0150.hdf5  cp-0210.hdf5\tcp-0270.hdf5\n",
            "cp-0035.hdf5  cp-0095.hdf5  cp-0155.hdf5  cp-0215.hdf5\tresnet18_model.json\n",
            "cp-0040.hdf5  cp-0100.hdf5  cp-0160.hdf5  cp-0220.hdf5\tresnet34_2_model.json\n",
            "cp-0045.hdf5  cp-0105.hdf5  cp-0165.hdf5  cp-0225.hdf5\n",
            "cp-0050.hdf5  cp-0110.hdf5  cp-0170.hdf5  cp-0230.hdf5\n",
            "cp-0055.hdf5  cp-0115.hdf5  cp-0175.hdf5  cp-0235.hdf5\n",
            "cp-0060.hdf5  cp-0120.hdf5  cp-0180.hdf5  cp-0240.hdf5\n"
          ],
          "name": "stdout"
        }
      ]
    },
    {
      "metadata": {
        "id": "ys6bc5uXkVve",
        "colab_type": "code",
        "outputId": "d5f46545-eed5-48b4-a038-4c08f0ab3e7a",
        "colab": {
          "base_uri": "https://localhost:8080/",
          "height": 35
        }
      },
      "cell_type": "code",
      "source": [
        "# Loading Model from previous iteration\n",
        "\n",
        "# Define Imports\n",
        "\n",
        "import numpy as np\n",
        "import pandas as pd\n",
        "import tensorflow as tf\n",
        "\n",
        "import matplotlib.pyplot as plt\n",
        "%matplotlib  inline\n",
        "from keras.preprocessing.image import ImageDataGenerator\n",
        "from sklearn import preprocessing"
      ],
      "execution_count": 0,
      "outputs": [
        {
          "output_type": "stream",
          "text": [
            "Using TensorFlow backend.\n"
          ],
          "name": "stderr"
        }
      ]
    },
    {
      "metadata": {
        "id": "fg4L3VvYj1WT",
        "colab_type": "code",
        "outputId": "3b091164-e0c4-4948-b790-cd6b0a05f9f0",
        "colab": {
          "base_uri": "https://localhost:8080/",
          "height": 138
        }
      },
      "cell_type": "code",
      "source": [
        "# Loading validation annotation & extract class labels\n",
        "val_data = pd.read_csv(r\"/content/gdrive/My Drive/EIP3/tiny-imagenet-200//val/val_annotations.txt\", sep='\\t', header=None, names=['File', 'Class', 'X', 'Y', 'H', 'W'])\n",
        "val_data.drop(['X', 'Y', 'H', 'W'], axis=1, inplace=True)\n",
        "val_data.head(3)"
      ],
      "execution_count": 0,
      "outputs": [
        {
          "output_type": "execute_result",
          "data": {
            "text/html": [
              "<div>\n",
              "<style scoped>\n",
              "    .dataframe tbody tr th:only-of-type {\n",
              "        vertical-align: middle;\n",
              "    }\n",
              "\n",
              "    .dataframe tbody tr th {\n",
              "        vertical-align: top;\n",
              "    }\n",
              "\n",
              "    .dataframe thead th {\n",
              "        text-align: right;\n",
              "    }\n",
              "</style>\n",
              "<table border=\"1\" class=\"dataframe\">\n",
              "  <thead>\n",
              "    <tr style=\"text-align: right;\">\n",
              "      <th></th>\n",
              "      <th>File</th>\n",
              "      <th>Class</th>\n",
              "    </tr>\n",
              "  </thead>\n",
              "  <tbody>\n",
              "    <tr>\n",
              "      <th>0</th>\n",
              "      <td>val_0.JPEG</td>\n",
              "      <td>n03444034</td>\n",
              "    </tr>\n",
              "    <tr>\n",
              "      <th>1</th>\n",
              "      <td>val_1.JPEG</td>\n",
              "      <td>n04067472</td>\n",
              "    </tr>\n",
              "    <tr>\n",
              "      <th>2</th>\n",
              "      <td>val_2.JPEG</td>\n",
              "      <td>n04070727</td>\n",
              "    </tr>\n",
              "  </tbody>\n",
              "</table>\n",
              "</div>"
            ],
            "text/plain": [
              "         File      Class\n",
              "0  val_0.JPEG  n03444034\n",
              "1  val_1.JPEG  n04067472\n",
              "2  val_2.JPEG  n04070727"
            ]
          },
          "metadata": {
            "tags": []
          },
          "execution_count": 4
        }
      ]
    },
    {
      "metadata": {
        "id": "KiwdSYTEj9gy",
        "colab_type": "code",
        "colab": {}
      },
      "cell_type": "code",
      "source": [
        "# Loading images as batches using ImageDataGenerator\n",
        "# Use Augmentaion parameters as required.\n",
        "train_datagen = ImageDataGenerator(\n",
        "    rescale= 1./255,\n",
        "    zoom_range = 0.2,\n",
        "    width_shift_range=0.2,\n",
        "    height_shift_range=0.2,\n",
        "    rotation_range=10,\n",
        "    horizontal_flip=True\n",
        "    )\n",
        "\n",
        "valid_datagen = ImageDataGenerator(rescale=1./255)\n"
      ],
      "execution_count": 0,
      "outputs": []
    },
    {
      "metadata": {
        "id": "JwraBXRblZgs",
        "colab_type": "code",
        "outputId": "0ab5538d-0e60-4581-decd-e2301f11ec4f",
        "colab": {
          "base_uri": "https://localhost:8080/",
          "height": 35
        }
      },
      "cell_type": "code",
      "source": [
        "train_generator = train_datagen.flow_from_directory( r\"/content/gdrive/My Drive/EIP3/tiny-imagenet-200/train/\",\n",
        "                                                    target_size=(64, 64), color_mode='rgb', \n",
        "                                                    batch_size=128, class_mode='categorical', shuffle=True, seed=42)\n"
      ],
      "execution_count": 0,
      "outputs": [
        {
          "output_type": "stream",
          "text": [
            "Found 100000 images belonging to 200 classes.\n"
          ],
          "name": "stdout"
        }
      ]
    },
    {
      "metadata": {
        "id": "CS8lCseolf28",
        "colab_type": "code",
        "outputId": "cf256c48-3fb9-4ee8-b099-426bc69da802",
        "colab": {
          "base_uri": "https://localhost:8080/",
          "height": 35
        }
      },
      "cell_type": "code",
      "source": [
        "validation_generator = valid_datagen.flow_from_dataframe(val_data, directory='/content/gdrive/My Drive/EIP3/tiny-imagenet-200/val/images/',\n",
        "                                                         x_col='File', y_col='Class', target_size=(64, 64),\n",
        "                                                    color_mode='rgb', class_mode='categorical', batch_size=128, shuffle=True, seed=42)"
      ],
      "execution_count": 0,
      "outputs": [
        {
          "output_type": "stream",
          "text": [
            "Found 9998 images belonging to 200 classes.\n"
          ],
          "name": "stdout"
        }
      ]
    },
    {
      "metadata": {
        "id": "BY3PUW3Zlyxd",
        "colab_type": "code",
        "colab": {}
      },
      "cell_type": "code",
      "source": [
        "from keras.callbacks import *\n",
        "\n",
        "class CyclicLR(Callback):\n",
        "    \"\"\"This callback implements a cyclical learning rate policy (CLR).\n",
        "    The method cycles the learning rate between two boundaries with\n",
        "    some constant frequency, as detailed in this paper (https://arxiv.org/abs/1506.01186).\n",
        "    The amplitude of the cycle can be scaled on a per-iteration or \n",
        "    per-cycle basis.\n",
        "    This class has three built-in policies, as put forth in the paper.\n",
        "    \"triangular\":\n",
        "        A basic triangular cycle w/ no amplitude scaling.\n",
        "    \"triangular2\":\n",
        "        A basic triangular cycle that scales initial amplitude by half each cycle.\n",
        "    \"exp_range\":\n",
        "        A cycle that scales initial amplitude by gamma**(cycle iterations) at each \n",
        "        cycle iteration.\n",
        "    For more detail, please see paper.\n",
        "    \n",
        "    # Example\n",
        "        ```python\n",
        "            clr = CyclicLR(base_lr=0.001, max_lr=0.006,\n",
        "                                step_size=2000., mode='triangular')\n",
        "            model.fit(X_train, Y_train, callbacks=[clr])\n",
        "        ```\n",
        "    \n",
        "    Class also supports custom scaling functions:\n",
        "        ```python\n",
        "            clr_fn = lambda x: 0.5*(1+np.sin(x*np.pi/2.))\n",
        "            clr = CyclicLR(base_lr=0.001, max_lr=0.006,\n",
        "                                step_size=2000., scale_fn=clr_fn,\n",
        "                                scale_mode='cycle')\n",
        "            model.fit(X_train, Y_train, callbacks=[clr])\n",
        "        ```    \n",
        "    # Arguments\n",
        "        base_lr: initial learning rate which is the\n",
        "            lower boundary in the cycle.\n",
        "        max_lr: upper boundary in the cycle. Functionally,\n",
        "            it defines the cycle amplitude (max_lr - base_lr).\n",
        "            The lr at any cycle is the sum of base_lr\n",
        "            and some scaling of the amplitude; therefore \n",
        "            max_lr may not actually be reached depending on\n",
        "            scaling function.\n",
        "        step_size: number of training iterations per\n",
        "            half cycle. Authors suggest setting step_size\n",
        "            2-8 x training iterations in epoch.\n",
        "        mode: one of {triangular, triangular2, exp_range}.\n",
        "            Default 'triangular'.\n",
        "            Values correspond to policies detailed above.\n",
        "            If scale_fn is not None, this argument is ignored.\n",
        "        gamma: constant in 'exp_range' scaling function:\n",
        "            gamma**(cycle iterations)\n",
        "        scale_fn: Custom scaling policy defined by a single\n",
        "            argument lambda function, where \n",
        "            0 <= scale_fn(x) <= 1 for all x >= 0.\n",
        "            mode paramater is ignored \n",
        "        scale_mode: {'cycle', 'iterations'}.\n",
        "            Defines whether scale_fn is evaluated on \n",
        "            cycle number or cycle iterations (training\n",
        "            iterations since start of cycle). Default is 'cycle'.\n",
        "    \"\"\"\n",
        "\n",
        "    def __init__(self, base_lr=0.001, max_lr=0.006, step_size=2000., mode='triangular',\n",
        "                 gamma=1., scale_fn=None, scale_mode='cycle'):\n",
        "        super(CyclicLR, self).__init__()\n",
        "\n",
        "        self.base_lr = base_lr\n",
        "        self.max_lr = max_lr\n",
        "        self.step_size = step_size\n",
        "        self.mode = mode\n",
        "        self.gamma = gamma\n",
        "        if scale_fn == None:\n",
        "            if self.mode == 'triangular':\n",
        "                self.scale_fn = lambda x: 1.\n",
        "                self.scale_mode = 'cycle'\n",
        "            elif self.mode == 'triangular2':\n",
        "                self.scale_fn = lambda x: 1/(2.**(x-1))\n",
        "                self.scale_mode = 'cycle'\n",
        "            elif self.mode == 'exp_range':\n",
        "                self.scale_fn = lambda x: gamma**(x)\n",
        "                self.scale_mode = 'iterations'\n",
        "        else:\n",
        "            self.scale_fn = scale_fn\n",
        "            self.scale_mode = scale_mode\n",
        "        self.clr_iterations = 0.\n",
        "        self.trn_iterations = 0.\n",
        "        self.history = {}\n",
        "\n",
        "        self._reset()\n",
        "\n",
        "    def _reset(self, new_base_lr=None, new_max_lr=None,\n",
        "               new_step_size=None):\n",
        "        \"\"\"Resets cycle iterations.\n",
        "        Optional boundary/step size adjustment.\n",
        "        \"\"\"\n",
        "        if new_base_lr != None:\n",
        "            self.base_lr = new_base_lr\n",
        "        if new_max_lr != None:\n",
        "            self.max_lr = new_max_lr\n",
        "        if new_step_size != None:\n",
        "            self.step_size = new_step_size\n",
        "        self.clr_iterations = 0.\n",
        "        \n",
        "    def clr(self):\n",
        "        cycle = np.floor(1+self.clr_iterations/(2*self.step_size))\n",
        "        x = np.abs(self.clr_iterations/self.step_size - 2*cycle + 1)\n",
        "        if self.scale_mode == 'cycle':\n",
        "            return self.base_lr + (self.max_lr-self.base_lr)*np.maximum(0, (1-x))*self.scale_fn(cycle)\n",
        "        else:\n",
        "            return self.base_lr + (self.max_lr-self.base_lr)*np.maximum(0, (1-x))*self.scale_fn(self.clr_iterations)\n",
        "        \n",
        "    def on_train_begin(self, logs={}):\n",
        "        logs = logs or {}\n",
        "\n",
        "        if self.clr_iterations == 0:\n",
        "            K.set_value(self.model.optimizer.lr, self.base_lr)\n",
        "        else:\n",
        "            K.set_value(self.model.optimizer.lr, self.clr())        \n",
        "            \n",
        "    def on_batch_end(self, epoch, logs=None):\n",
        "        \n",
        "        logs = logs or {}\n",
        "        self.trn_iterations += 1\n",
        "        self.clr_iterations += 1\n",
        "\n",
        "        self.history.setdefault('lr', []).append(K.get_value(self.model.optimizer.lr))\n",
        "        self.history.setdefault('iterations', []).append(self.trn_iterations)\n",
        "\n",
        "        for k, v in logs.items():\n",
        "            self.history.setdefault(k, []).append(v)\n",
        "        \n",
        "        K.set_value(self.model.optimizer.lr, self.clr())"
      ],
      "execution_count": 0,
      "outputs": []
    },
    {
      "metadata": {
        "id": "F9xgI-3Fl4z4",
        "colab_type": "code",
        "colab": {}
      },
      "cell_type": "code",
      "source": [
        "# You are using the triangular learning rate policy and\n",
        "#  base_lr (initial learning rate which is the lower boundary in the cycle) is 0.1\n",
        "#clr_triangular = CyclicLR(mode='triangular')\n",
        "#model.compile(optimizer=Adam(0.1), loss='categorical_crossentropy', metrics=['accuracy'])\n",
        "clr = CyclicLR(base_lr=0.001, max_lr=0.006,\n",
        "                        step_size=2000., mode='triangular2')"
      ],
      "execution_count": 0,
      "outputs": []
    },
    {
      "metadata": {
        "id": "Smq7_SL2mFHo",
        "colab_type": "code",
        "outputId": "5bd8531a-6059-4b4c-f79d-05ca2652efa2",
        "colab": {
          "base_uri": "https://localhost:8080/",
          "height": 235
        }
      },
      "cell_type": "code",
      "source": [
        "#import os\n",
        "checkpoint_path = \"/content/gdrive/My Drive/EIP3/resnet34/cp-{epoch:04d}.hdf5\"\n",
        "model_save_path = \"/content/gdrive/My Drive/EIP3/resnet34/resnet34_3.h5\"\n",
        "model_arch = \"/content/gdrive/My Drive/EIP3/resnet34/resnet34_3_arch.png\"\n",
        "#!mkdir -p /content/gdrive/'My Drive'/EIP3/resnet34/\n",
        "!ls /content/gdrive/'My Drive'/EIP3/resnet34/\n",
        "\n",
        "model_weights_path =  \"/content/gdrive/My Drive/EIP3/resnet34/resnet34_weights.h5\"\n",
        "model_arch_path =  \"/content/gdrive/My Drive/EIP3/resnet34/resnet34_3_model.json\"\n",
        "\n",
        "\n",
        "# Create checkpoint callback\n",
        "cp_callback = tf.keras.callbacks.ModelCheckpoint(checkpoint_path, \n",
        "                                                 save_weights_only=True,\n",
        "                                                 verbose=1, \n",
        "                                                 period=3)"
      ],
      "execution_count": 0,
      "outputs": [
        {
          "output_type": "stream",
          "text": [
            "cp-0005.hdf5  cp-0065.hdf5  cp-0125.hdf5  cp-0185.hdf5\tcp-0245.hdf5\n",
            "cp-0010.hdf5  cp-0070.hdf5  cp-0130.hdf5  cp-0190.hdf5\tcp-0250.hdf5\n",
            "cp-0015.hdf5  cp-0075.hdf5  cp-0135.hdf5  cp-0195.hdf5\tcp-0255.hdf5\n",
            "cp-0020.hdf5  cp-0080.hdf5  cp-0140.hdf5  cp-0200.hdf5\tcp-0260.hdf5\n",
            "cp-0025.hdf5  cp-0085.hdf5  cp-0145.hdf5  cp-0205.hdf5\tcp-0265.hdf5\n",
            "cp-0030.hdf5  cp-0090.hdf5  cp-0150.hdf5  cp-0210.hdf5\tcp-0270.hdf5\n",
            "cp-0035.hdf5  cp-0095.hdf5  cp-0155.hdf5  cp-0215.hdf5\tresnet18_model.json\n",
            "cp-0040.hdf5  cp-0100.hdf5  cp-0160.hdf5  cp-0220.hdf5\tresnet34_2_model.json\n",
            "cp-0045.hdf5  cp-0105.hdf5  cp-0165.hdf5  cp-0225.hdf5\n",
            "cp-0050.hdf5  cp-0110.hdf5  cp-0170.hdf5  cp-0230.hdf5\n",
            "cp-0055.hdf5  cp-0115.hdf5  cp-0175.hdf5  cp-0235.hdf5\n",
            "cp-0060.hdf5  cp-0120.hdf5  cp-0180.hdf5  cp-0240.hdf5\n"
          ],
          "name": "stdout"
        }
      ]
    },
    {
      "metadata": {
        "id": "BAJyLCczmV0r",
        "colab_type": "code",
        "outputId": "08f49f22-b118-4e61-f935-1af2540ac53e",
        "colab": {
          "base_uri": "https://localhost:8080/",
          "height": 128
        }
      },
      "cell_type": "code",
      "source": [
        "from keras.models import model_from_json\n",
        "# model.load_weights\n",
        "# load json and create model\n",
        "# Iteration1 Model loading\n",
        "iter1_model_arch = \"/content/gdrive/My Drive/EIP3/resnet34/resnet34_2_model.json\"\n",
        "json_file = open(iter1_model_arch, 'r')\n",
        "loaded_model_json = json_file.read()\n",
        "json_file.close()\n",
        "loaded_model = model_from_json(loaded_model_json)\n",
        "print(\"Loaded model arch fron json\")\n",
        "\n",
        "# load weights into new model\n",
        "# Since previous model does not complete, loading latest check point weight\n",
        "chk_point_weight_path = \"/content/gdrive/My Drive/EIP3/resnet34/cp-0270.hdf5\"\n",
        "loaded_model.load_weights(chk_point_weight_path)\n",
        "print(\"Loaded model from disk\")\n"
      ],
      "execution_count": 0,
      "outputs": [
        {
          "output_type": "stream",
          "text": [
            "WARNING:tensorflow:From /usr/local/lib/python3.6/dist-packages/tensorflow/python/framework/op_def_library.py:263: colocate_with (from tensorflow.python.framework.ops) is deprecated and will be removed in a future version.\n",
            "Instructions for updating:\n",
            "Colocations handled automatically by placer.\n",
            "Loaded model arch fron json\n",
            "Loaded model from disk\n"
          ],
          "name": "stdout"
        }
      ]
    },
    {
      "metadata": {
        "id": "mk4idWUTmbxw",
        "colab_type": "code",
        "colab": {}
      },
      "cell_type": "code",
      "source": [
        "# Compile loaded model\n",
        "loaded_model.compile(loss='categorical_crossentropy',\n",
        "              optimizer='adam',\n",
        "              metrics=['accuracy'])\n",
        "#model.summary()"
      ],
      "execution_count": 0,
      "outputs": []
    },
    {
      "metadata": {
        "id": "a7naNekFmjjz",
        "colab_type": "code",
        "outputId": "2a00920d-47de-4ac3-96de-838885bfe529",
        "colab": {
          "base_uri": "https://localhost:8080/",
          "height": 290
        }
      },
      "cell_type": "code",
      "source": [
        "epochs=500\n",
        "img_channels=3\n",
        "img_rows=64\n",
        "img_cols=64\n",
        "nb_classes = 200\n",
        "batch_size = 128\n",
        "\n",
        "# Save Model weight and Architecture in a separate files\n",
        "# serialize model to JSON\n",
        "model_json = loaded_model.to_json()\n",
        "with open(model_arch_path, \"w\") as json_file:\n",
        "    json_file.write(model_json)\n",
        "print(\"Saved model to disk\")  \n",
        "\n",
        "# fit model\n",
        "\n",
        "loaded_model.fit_generator(train_generator, epochs=epochs, initial_epoch=270, steps_per_epoch=batch_size,\n",
        "                    validation_steps=batch_size, validation_data=validation_generator,\n",
        "                    callbacks=[cp_callback,clr])\n",
        "\n",
        "  \n",
        "# serialize weights to HDF5\n",
        "loaded_model.save_weights(model_weights_path)\n",
        "print(\"Saved model to disk\")\n"
      ],
      "execution_count": 0,
      "outputs": [
        {
          "output_type": "stream",
          "text": [
            "Saved model to disk\n",
            "Epoch 271/500\n",
            "128/128 [==============================] - 10551s 82s/step - loss: 2.4898 - acc: 0.5023 - val_loss: 4.1072 - val_acc: 0.3071\n",
            "Epoch 272/500\n",
            "128/128 [==============================] - 6319s 49s/step - loss: 2.5479 - acc: 0.4951 - val_loss: 4.1575 - val_acc: 0.2673\n",
            "Epoch 273/500\n",
            "128/128 [==============================] - 6729s 53s/step - loss: 2.6341 - acc: 0.4727 - val_loss: 4.2911 - val_acc: 0.2555\n",
            "\n",
            "Epoch 00273: saving model to /content/gdrive/My Drive/EIP3/resnet34/cp-0273.hdf5\n",
            "Epoch 274/500\n",
            "128/128 [==============================] - 6557s 51s/step - loss: 2.7125 - acc: 0.4583 - val_loss: 4.7016 - val_acc: 0.2542\n",
            "Epoch 275/500\n",
            "128/128 [==============================] - 6924s 54s/step - loss: 2.8496 - acc: 0.4333 - val_loss: 5.3546 - val_acc: 0.2057\n",
            "Epoch 276/500\n",
            "102/128 [======================>.......] - ETA: 21:56 - loss: 2.9420 - acc: 0.4149"
          ],
          "name": "stdout"
        }
      ]
    },
    {
      "metadata": {
        "id": "HptjY03KtiDm",
        "colab_type": "code",
        "colab": {}
      },
      "cell_type": "code",
      "source": [
        "#"
      ],
      "execution_count": 0,
      "outputs": []
    },
    {
      "metadata": {
        "id": "JHTJGf9BtjbB",
        "colab_type": "text"
      },
      "cell_type": "markdown",
      "source": [
        "# Interation3 "
      ]
    },
    {
      "metadata": {
        "id": "fHRCLFTCtpFF",
        "colab_type": "code",
        "outputId": "83f24ee6-2735-4155-f68b-5938f2e66dea",
        "colab": {
          "base_uri": "https://localhost:8080/",
          "height": 128
        }
      },
      "cell_type": "code",
      "source": [
        "# Loading previous iteration weight\n",
        "\n",
        "# mount google drive\n",
        "from google.colab import drive\n",
        "drive.mount('/content/gdrive')"
      ],
      "execution_count": 0,
      "outputs": [
        {
          "output_type": "stream",
          "text": [
            "Go to this URL in a browser: https://accounts.google.com/o/oauth2/auth?client_id=947318989803-6bn6qk8qdgf4n4g3pfee6491hc0brc4i.apps.googleusercontent.com&redirect_uri=urn%3Aietf%3Awg%3Aoauth%3A2.0%3Aoob&scope=email%20https%3A%2F%2Fwww.googleapis.com%2Fauth%2Fdocs.test%20https%3A%2F%2Fwww.googleapis.com%2Fauth%2Fdrive%20https%3A%2F%2Fwww.googleapis.com%2Fauth%2Fdrive.photos.readonly%20https%3A%2F%2Fwww.googleapis.com%2Fauth%2Fpeopleapi.readonly&response_type=code\n",
            "\n",
            "Enter your authorization code:\n",
            "··········\n",
            "Mounted at /content/gdrive\n"
          ],
          "name": "stdout"
        }
      ]
    },
    {
      "metadata": {
        "id": "A0VWFy2TuIg8",
        "colab_type": "code",
        "colab": {}
      },
      "cell_type": "code",
      "source": [
        "# Loading Model from previous iteration\n",
        "\n",
        "# Define Imports\n",
        "\n",
        "import numpy as np\n",
        "import pandas as pd\n",
        "import tensorflow as tf\n",
        "\n",
        "import matplotlib.pyplot as plt\n",
        "%matplotlib  inline\n",
        "from keras.preprocessing.image import ImageDataGenerator\n",
        "from sklearn import preprocessing"
      ],
      "execution_count": 0,
      "outputs": []
    },
    {
      "metadata": {
        "id": "g6fUo_VbuQnL",
        "colab_type": "code",
        "outputId": "c0241c9a-c5a7-4cee-cb81-f1e090b6c2ce",
        "colab": {
          "base_uri": "https://localhost:8080/",
          "height": 138
        }
      },
      "cell_type": "code",
      "source": [
        "# Loading validation annotation & extract class labels\n",
        "val_data = pd.read_csv(r\"/content/gdrive/My Drive/EIP3/tiny-imagenet-200//val/val_annotations.txt\", sep='\\t', header=None, names=['File', 'Class', 'X', 'Y', 'H', 'W'])\n",
        "val_data.drop(['X', 'Y', 'H', 'W'], axis=1, inplace=True)\n",
        "val_data.head(3)"
      ],
      "execution_count": 0,
      "outputs": [
        {
          "output_type": "execute_result",
          "data": {
            "text/html": [
              "<div>\n",
              "<style scoped>\n",
              "    .dataframe tbody tr th:only-of-type {\n",
              "        vertical-align: middle;\n",
              "    }\n",
              "\n",
              "    .dataframe tbody tr th {\n",
              "        vertical-align: top;\n",
              "    }\n",
              "\n",
              "    .dataframe thead th {\n",
              "        text-align: right;\n",
              "    }\n",
              "</style>\n",
              "<table border=\"1\" class=\"dataframe\">\n",
              "  <thead>\n",
              "    <tr style=\"text-align: right;\">\n",
              "      <th></th>\n",
              "      <th>File</th>\n",
              "      <th>Class</th>\n",
              "    </tr>\n",
              "  </thead>\n",
              "  <tbody>\n",
              "    <tr>\n",
              "      <th>0</th>\n",
              "      <td>val_0.JPEG</td>\n",
              "      <td>n03444034</td>\n",
              "    </tr>\n",
              "    <tr>\n",
              "      <th>1</th>\n",
              "      <td>val_1.JPEG</td>\n",
              "      <td>n04067472</td>\n",
              "    </tr>\n",
              "    <tr>\n",
              "      <th>2</th>\n",
              "      <td>val_2.JPEG</td>\n",
              "      <td>n04070727</td>\n",
              "    </tr>\n",
              "  </tbody>\n",
              "</table>\n",
              "</div>"
            ],
            "text/plain": [
              "         File      Class\n",
              "0  val_0.JPEG  n03444034\n",
              "1  val_1.JPEG  n04067472\n",
              "2  val_2.JPEG  n04070727"
            ]
          },
          "metadata": {
            "tags": []
          },
          "execution_count": 4
        }
      ]
    },
    {
      "metadata": {
        "id": "v6O05Qe0uY3j",
        "colab_type": "code",
        "colab": {}
      },
      "cell_type": "code",
      "source": [
        "# Loading images as batches using ImageDataGenerator\n",
        "# Use Augmentaion parameters as required.\n",
        "train_datagen = ImageDataGenerator( rescale= 1./255)\n",
        "valid_datagen = ImageDataGenerator(rescale=1./255)\n"
      ],
      "execution_count": 0,
      "outputs": []
    },
    {
      "metadata": {
        "id": "Z6Koq4RounTL",
        "colab_type": "code",
        "outputId": "efb172b3-e521-42ce-9b0b-4364f9a3785a",
        "colab": {
          "base_uri": "https://localhost:8080/",
          "height": 35
        }
      },
      "cell_type": "code",
      "source": [
        "train_generator = train_datagen.flow_from_directory( r\"/content/gdrive/My Drive/EIP3/tiny-imagenet-200/train/\",\n",
        "                                                    target_size=(64, 64), color_mode='rgb', \n",
        "                                                    batch_size=128, class_mode='categorical', shuffle=True, seed=42)\n"
      ],
      "execution_count": 0,
      "outputs": [
        {
          "output_type": "stream",
          "text": [
            "Found 100000 images belonging to 200 classes.\n"
          ],
          "name": "stdout"
        }
      ]
    },
    {
      "metadata": {
        "id": "3V4mYI4KuwYM",
        "colab_type": "code",
        "outputId": "e108916e-6724-426c-94b8-a0151983c1af",
        "colab": {
          "base_uri": "https://localhost:8080/",
          "height": 35
        }
      },
      "cell_type": "code",
      "source": [
        "validation_generator = valid_datagen.flow_from_dataframe(val_data, directory='/content/gdrive/My Drive/EIP3/tiny-imagenet-200/val/images/',\n",
        "                                                         x_col='File', y_col='Class', target_size=(64, 64),\n",
        "                                                    color_mode='rgb', class_mode='categorical', batch_size=128, shuffle=True, seed=42)"
      ],
      "execution_count": 0,
      "outputs": [
        {
          "output_type": "stream",
          "text": [
            "Found 9998 images belonging to 200 classes.\n"
          ],
          "name": "stdout"
        }
      ]
    },
    {
      "metadata": {
        "id": "oXD6thKZvmwU",
        "colab_type": "code",
        "colab": {}
      },
      "cell_type": "code",
      "source": [
        "# You are using the triangular learning rate policy and\n",
        "#  base_lr (initial learning rate which is the lower boundary in the cycle) is 0.1\n",
        "#clr_triangular = CyclicLR(mode='triangular')\n",
        "#model.compile(optimizer=Adam(0.1), loss='categorical_crossentropy', metrics=['accuracy'])\n",
        "clr = CyclicLR(base_lr=0.001, max_lr=0.006,\n",
        "                        step_size=2000., mode='triangular2')"
      ],
      "execution_count": 0,
      "outputs": []
    },
    {
      "metadata": {
        "id": "vN8-5O2AxWSb",
        "colab_type": "code",
        "colab": {}
      },
      "cell_type": "code",
      "source": [
        "import os\n",
        "checkpoint_path = \"/content/gdrive/My Drive/EIP3/resnet34/cp-{epoch:04d}.hdf5\"\n",
        "model_save_path = \"/content/gdrive/My Drive/EIP3/resnet34/resnet34.h5\"\n",
        "#model_arch = \"/content/gdrive/My Drive/EIP3/resnet34/resnet34_arch.png\"\n",
        "#!mkdir -p /content/gdrive/'My Drive'/EIP3/resnet34/\n",
        "#!ls /content/gdrive/'My Drive'/EIP3/resnet34/\n",
        "\n",
        "model_weights_path =  \"/content/gdrive/My Drive/EIP3/resnet34/resnet18_weights.h5\"\n",
        "model_arch_path =  \"/content/gdrive/My Drive/EIP3/resnet34/resnet18_model.json\"\n",
        "\n",
        "\n",
        "# Create checkpoint callback\n",
        "cp_callback = tf.keras.callbacks.ModelCheckpoint(checkpoint_path, \n",
        "                                                 save_weights_only=True,\n",
        "                                                 verbose=1, \n",
        "                                                 period=3)"
      ],
      "execution_count": 0,
      "outputs": []
    },
    {
      "metadata": {
        "id": "xjUkmy9hvyNv",
        "colab_type": "code",
        "outputId": "79e79b92-dec9-4a77-a546-e0f3eada7c38",
        "colab": {
          "base_uri": "https://localhost:8080/",
          "height": 35
        }
      },
      "cell_type": "code",
      "source": [
        "!ls /content/gdrive/'My Drive'/EIP3/resnet34/resnet34_2_model.json"
      ],
      "execution_count": 0,
      "outputs": [
        {
          "output_type": "stream",
          "text": [
            "'/content/gdrive/My Drive/EIP3/resnet34/resnet34_2_model.json'\n"
          ],
          "name": "stdout"
        }
      ]
    },
    {
      "metadata": {
        "id": "8tTvj-4JnTwA",
        "colab_type": "code",
        "outputId": "c0137044-49b4-4325-aba8-a6c72fe78c23",
        "colab": {
          "base_uri": "https://localhost:8080/",
          "height": 54
        }
      },
      "cell_type": "code",
      "source": [
        "\n",
        "#\n",
        "\n",
        "from keras.models import model_from_json\n",
        "# model.load_weights\n",
        "# load json and create model\n",
        "# Iteration1 Model loading\n",
        "iter1_model_arch = \"/content/gdrive/My Drive/EIP3/resnet34/resnet34_2_model.json\"\n",
        "json_file = open(iter1_model_arch, 'r')\n",
        "loaded_model_json = json_file.read()\n",
        "json_file.close()\n",
        "loaded_model = model_from_json(loaded_model_json)\n",
        "print(\"Loaded model arch fron json\")\n",
        "\n",
        "# load weights into new model\n",
        "# Since previous model does not complete, loading latest check point weight\n",
        "chk_point_weight_path = \"/content/gdrive/My Drive/EIP3/resnet34/cp-0273.hdf5\"\n",
        "loaded_model.load_weights(chk_point_weight_path)\n",
        "print(\"Loaded model from disk\")\n"
      ],
      "execution_count": 0,
      "outputs": [
        {
          "output_type": "stream",
          "text": [
            "Loaded model arch fron json\n",
            "Loaded model from disk\n"
          ],
          "name": "stdout"
        }
      ]
    },
    {
      "metadata": {
        "id": "dUt817cxsT_K",
        "colab_type": "code",
        "colab": {}
      },
      "cell_type": "code",
      "source": [
        "from keras.optimizers import SGD\n",
        "\n",
        "epochs=500\n",
        "img_channels=3\n",
        "img_rows=64\n",
        "img_cols=64\n",
        "nb_classes = 200\n",
        "batch_size = 128\n",
        "\n",
        "#model = ResnetBuilder.build_resnet_34((img_channels, img_rows, img_cols), nb_classes)\n",
        "sgd = SGD(lr=0.01, decay=1e-6, momentum=0.9, nesterov=True)\n",
        "loaded_model.compile(loss='categorical_crossentropy',\n",
        "              optimizer=sgd,\n",
        "              metrics=['accuracy'])\n",
        "#model.summary()\n",
        "# Compile loaded model\n",
        "#loaded_model.compile(loss='categorical_crossentropy',\n",
        "#              optimizer='sgd',\n",
        "#              metrics=['accuracy'])\n",
        "#model.summary()"
      ],
      "execution_count": 0,
      "outputs": []
    },
    {
      "metadata": {
        "id": "G-WVtqJHtDow",
        "colab_type": "code",
        "outputId": "6202245d-f1e4-44f7-9c12-c812feb14c4c",
        "colab": {
          "base_uri": "https://localhost:8080/",
          "height": 345
        }
      },
      "cell_type": "code",
      "source": [
        "from keras.models import model_from_json\n",
        "\n",
        "\n",
        "loaded_model.fit_generator(train_generator, epochs=epochs, steps_per_epoch=(train_generator.n//batch_size), initial_epoch=273,\n",
        "                    validation_steps=(validation_generator.n//batch_size), validation_data=validation_generator,\n",
        "                    callbacks=[cp_callback,clr])\n",
        "\n",
        "   \n",
        "# serialize weights to HDF5\n",
        "model.save_weights(model_weights_path)\n",
        "print(\"Saved model to disk\")"
      ],
      "execution_count": 0,
      "outputs": [
        {
          "output_type": "stream",
          "text": [
            "Epoch 274/500\n",
            "781/781 [==============================] - 29315s 38s/step - loss: 2.2344 - acc: 0.5625 - val_loss: 2.5485 - val_acc: 0.5124\n",
            "Epoch 275/500\n",
            "781/781 [==============================] - 809s 1s/step - loss: 2.1048 - acc: 0.5918 - val_loss: 2.5618 - val_acc: 0.5116\n",
            "Epoch 276/500\n",
            "781/781 [==============================] - 808s 1s/step - loss: 2.0193 - acc: 0.6107 - val_loss: 2.5068 - val_acc: 0.5206\n",
            "\n",
            "Epoch 00276: saving model to /content/gdrive/My Drive/EIP3/resnet34/cp-0276.hdf5\n",
            "Epoch 277/500\n",
            "781/781 [==============================] - 808s 1s/step - loss: 1.9381 - acc: 0.6278 - val_loss: 2.5150 - val_acc: 0.5238\n",
            "Epoch 278/500\n",
            "781/781 [==============================] - 808s 1s/step - loss: 1.8732 - acc: 0.6430 - val_loss: 2.4451 - val_acc: 0.5356\n",
            "Epoch 279/500\n",
            "781/781 [==============================] - 809s 1s/step - loss: 1.8347 - acc: 0.6530 - val_loss: 2.5075 - val_acc: 0.5268\n",
            "\n",
            "Epoch 00279: saving model to /content/gdrive/My Drive/EIP3/resnet34/cp-0279.hdf5\n",
            "Epoch 280/500\n",
            "641/781 [=======================>......] - ETA: 2:18 - loss: 1.8195 - acc: 0.6545"
          ],
          "name": "stdout"
        }
      ]
    },
    {
      "metadata": {
        "id": "sTKJyROuw5Jt",
        "colab_type": "code",
        "colab": {}
      },
      "cell_type": "code",
      "source": [
        ""
      ],
      "execution_count": 0,
      "outputs": []
    },
    {
      "metadata": {
        "id": "5ZnSm7mf1t2b",
        "colab_type": "text"
      },
      "cell_type": "markdown",
      "source": [
        "#### Conclusion:\n",
        "#### Resnet34 architecture\n",
        "#### 1. Resnet34 architecture with custom changes a)7x7 kernel replaced with 3 conv layers of 3x3 kernel b) Dense&flatten replaced with 2 conv layers + BN+ Relu + GAP+softmax activation\n",
        "#### 2) Image aug with 6 parameters\n",
        "#### 3) Used CLR\n",
        "#### 4) 22.5M parameters\n",
        "#### 5) input image size 64x64x3 output image size= 64x64x3, batch size=128\n",
        "#### 6) highest Validation accuracy: 52.68%\n",
        "#### 7) Since colab got timed out, complete model training took 3 iterations with 279 epochs.\n",
        "#### 8) used 'adam' optimizer with clr for first 2 iterations and used 'sgd' for 3rd iteration."
      ]
    },
    {
      "metadata": {
        "id": "8H6uOOVE2aUW",
        "colab_type": "code",
        "colab": {}
      },
      "cell_type": "code",
      "source": [
        ""
      ],
      "execution_count": 0,
      "outputs": []
    }
  ]
}